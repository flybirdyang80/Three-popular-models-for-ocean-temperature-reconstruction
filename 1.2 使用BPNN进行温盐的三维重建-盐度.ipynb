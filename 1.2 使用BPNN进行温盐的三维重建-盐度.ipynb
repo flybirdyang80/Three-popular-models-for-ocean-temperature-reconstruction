{
 "cells": [
  {
   "cell_type": "code",
   "execution_count": 7,
   "id": "24cc7c46",
   "metadata": {
    "ExecuteTime": {
     "end_time": "2025-07-10T13:25:13.995829Z",
     "start_time": "2025-07-10T13:25:10.332342Z"
    },
    "code_folding": [
     0
    ]
   },
   "outputs": [],
   "source": [
    "#导包\n",
    "from netCDF4 import Dataset\n",
    "from tensorflow.keras import layers, models\n",
    "from tensorflow.keras.layers import ConvLSTM2D, BatchNormalization, LayerNormalization,Input, Conv3D, TimeDistributed, Flatten\n",
    "from tensorflow.keras.layers import Concatenate,Conv2D,TimeDistributed, MaxPooling2D, Input, MaxPooling3D\n",
    "from tensorflow.keras.layers import  Reshape,multiply\n",
    "from tensorflow.keras.layers import Layer,Lambda,Dot,ReLU,LSTM, Dense, Dropout, Activation, Flatten,Attention\n",
    "from tensorflow.keras.utils import plot_model\n",
    "from tensorflow.keras.models import Sequential,Model,load_model\n",
    "from tensorflow.keras.optimizers import Adam,SGD\n",
    "from sklearn.model_selection import train_test_split\n",
    "from tensorflow.keras.callbacks import EarlyStopping, ModelCheckpoint\n",
    "from sklearn.preprocessing import MinMaxScaler, StandardScaler\n",
    "from tensorflow.keras.losses import MeanSquaredError\n",
    "from sklearn.metrics import r2_score,accuracy_score,precision_score\n",
    "from tensorflow.keras.metrics import RootMeanSquaredError\n",
    "from tensorflow.keras import regularizers\n",
    "import tensorflow as tf\n",
    "from datetime import datetime\n",
    "from sklearn.model_selection import cross_val_score\n",
    "from sklearn.model_selection import GridSearchCV\n",
    "from tensorflow.keras import models, layers\n",
    "from tensorflow.keras.wrappers.scikit_learn import KerasRegressor\n",
    "import tensorflow.keras as keras\n",
    "from tensorflow.keras import layers, Sequential, regularizers\n",
    "# calculate RMSE\n",
    "from sklearn.metrics import mean_squared_error\n",
    "from math import sqrt\n",
    "import pandas as pd \n",
    "import tensorflow as tf\n",
    "import gc \n",
    "import gzip\n",
    "import matplotlib.pyplot as plt\n",
    "import numpy as np\n",
    "import netCDF4 as nc\n",
    "import match\n",
    "import numpy as np\n",
    "import matplotlib.pyplot as plt\n",
    "import xarray as xr\n",
    "import os \n",
    "%matplotlib inline"
   ]
  },
  {
   "cell_type": "code",
   "execution_count": 8,
   "id": "619adb84",
   "metadata": {
    "ExecuteTime": {
     "end_time": "2025-07-10T13:25:14.130613Z",
     "start_time": "2025-07-10T13:25:13.997826Z"
    }
   },
   "outputs": [
    {
     "data": {
      "text/plain": [
       "1"
      ]
     },
     "execution_count": 8,
     "metadata": {},
     "output_type": "execute_result"
    }
   ],
   "source": [
    "len(tf.config.experimental.list_physical_devices('GPU'))"
   ]
  },
  {
   "cell_type": "markdown",
   "id": "f580b19d",
   "metadata": {},
   "source": [
    "# 读取数据"
   ]
  },
  {
   "cell_type": "markdown",
   "id": "a969a48c",
   "metadata": {},
   "source": [
    "## SSH"
   ]
  },
  {
   "cell_type": "code",
   "execution_count": 9,
   "id": "a2879bf4",
   "metadata": {
    "ExecuteTime": {
     "end_time": "2025-07-10T13:25:14.139599Z",
     "start_time": "2025-07-10T13:25:14.131612Z"
    }
   },
   "outputs": [],
   "source": [
    "data_ssh = nc.Dataset(r'D:/data/SSH/SSH_2005-2015_month.nc')"
   ]
  },
  {
   "cell_type": "code",
   "execution_count": 10,
   "id": "8d073208",
   "metadata": {
    "ExecuteTime": {
     "end_time": "2025-07-10T13:25:14.147586Z",
     "start_time": "2025-07-10T13:25:14.141596Z"
    }
   },
   "outputs": [
    {
     "name": "stdout",
     "output_type": "stream",
     "text": [
      "132\n"
     ]
    }
   ],
   "source": [
    "time_ssh = data_ssh['time'][:]\n",
    "print(len(time_ssh))\n",
    "ssh_lat = data_ssh['lat'][:].data\n",
    "ssh_lon = data_ssh['lon'][:].data\n",
    "ssh = data_ssh['ssh'][:].data\n",
    "print(ssh.shape)"
   ]
  },
  {
   "cell_type": "code",
   "execution_count": 13,
   "id": "979f6649",
   "metadata": {
    "ExecuteTime": {
     "end_time": "2025-07-10T13:25:14.303337Z",
     "start_time": "2025-07-10T13:25:14.226460Z"
    }
   },
   "outputs": [
    {
     "data": {
      "text/plain": [
       "(2.20051, -0.43673334)"
      ]
     },
     "execution_count": 13,
     "metadata": {},
     "output_type": "execute_result"
    }
   ],
   "source": [
    "np.nanmax(ssh),np.nanmin(ssh)"
   ]
  },
  {
   "cell_type": "markdown",
   "id": "203facec",
   "metadata": {},
   "source": [
    "## SSS"
   ]
  },
  {
   "cell_type": "code",
   "execution_count": 14,
   "id": "7fde41f7",
   "metadata": {
    "ExecuteTime": {
     "end_time": "2025-07-10T13:25:14.308329Z",
     "start_time": "2025-07-10T13:25:14.304335Z"
    }
   },
   "outputs": [],
   "source": [
    "data_sss = nc.Dataset(r'D:/data/SSS/SSS_2005-2020_month.nc')"
   ]
  },
  {
   "cell_type": "code",
   "execution_count": 16,
   "id": "463ec7e5",
   "metadata": {
    "ExecuteTime": {
     "end_time": "2025-07-10T13:25:14.320309Z",
     "start_time": "2025-07-10T13:25:14.316316Z"
    }
   },
   "outputs": [],
   "source": [
    "time_sss = data_sss['time'][:132]\n",
    "print(len(time_sss))\n",
    "sss_lat = data_sss['lat'][:].data\n",
    "sss_lon = data_sss['lon'][:].data\n",
    "sss = data_sss['sos'][:132].data \n",
    "print(sss.shape)\n",
    "sss = np.squeeze(sss)\n",
    "print(sss.shape)"
   ]
  },
  {
   "cell_type": "code",
   "execution_count": 18,
   "id": "31674b65",
   "metadata": {
    "ExecuteTime": {
     "end_time": "2025-07-10T13:25:14.516994Z",
     "start_time": "2025-07-10T13:25:14.441116Z"
    }
   },
   "outputs": [
    {
     "data": {
      "text/plain": [
       "(36.072178, 13.604756)"
      ]
     },
     "execution_count": 18,
     "metadata": {},
     "output_type": "execute_result"
    }
   ],
   "source": [
    "np.nanmax(sss),np.nanmin(sss)"
   ]
  },
  {
   "cell_type": "markdown",
   "id": "12d5c8e2",
   "metadata": {},
   "source": [
    "## SSW"
   ]
  },
  {
   "cell_type": "code",
   "execution_count": 19,
   "id": "d026b883",
   "metadata": {
    "ExecuteTime": {
     "end_time": "2025-07-10T13:25:14.523984Z",
     "start_time": "2025-07-10T13:25:14.517993Z"
    }
   },
   "outputs": [],
   "source": [
    "data_ssw = nc.Dataset(r'D:/data/SSW/SSW_2005-2018_month.nc')"
   ]
  },
  {
   "cell_type": "code",
   "execution_count": 20,
   "id": "a09f6f8d",
   "metadata": {
    "ExecuteTime": {
     "end_time": "2025-07-10T13:25:14.529974Z",
     "start_time": "2025-07-10T13:25:14.524982Z"
    }
   },
   "outputs": [
    {
     "name": "stdout",
     "output_type": "stream",
     "text": [
      "132\n"
     ]
    }
   ],
   "source": [
    "time_ssw = data_ssw['time'][:132]\n",
    "print(len(time_ssw))\n",
    "lat_ssw = data_ssw['lat'][:].data\n",
    "lon_ssw = data_ssw['lon'][:].data"
   ]
  },
  {
   "cell_type": "code",
   "execution_count": 22,
   "id": "68eef6fa",
   "metadata": {
    "ExecuteTime": {
     "end_time": "2025-07-10T13:25:14.783568Z",
     "start_time": "2025-07-10T13:25:14.535964Z"
    }
   },
   "outputs": [],
   "source": [
    "uwnd = data_ssw['uwnd'][:132,314:594,440:1040].data  \n",
    "vwnd = data_ssw['vwnd'][:132,314:594,440:1040].data\n",
    "print(uwnd.shape)\n",
    "print(vwnd.shape)"
   ]
  },
  {
   "cell_type": "code",
   "execution_count": 24,
   "id": "2d721126",
   "metadata": {
    "ExecuteTime": {
     "end_time": "2025-07-10T13:25:14.854454Z",
     "start_time": "2025-07-10T13:25:14.790556Z"
    }
   },
   "outputs": [
    {
     "data": {
      "text/plain": [
       "(12.433594, -11.7988205, 8.8359995, -13.645481)"
      ]
     },
     "execution_count": 24,
     "metadata": {},
     "output_type": "execute_result"
    }
   ],
   "source": [
    "np.nanmax(uwnd),np.nanmin(uwnd),np.nanmax(vwnd),np.nanmin(vwnd)"
   ]
  },
  {
   "cell_type": "markdown",
   "id": "4334792f",
   "metadata": {},
   "source": [
    "## SST"
   ]
  },
  {
   "cell_type": "code",
   "execution_count": 25,
   "id": "e02ac03d",
   "metadata": {
    "ExecuteTime": {
     "end_time": "2025-07-10T13:25:14.860444Z",
     "start_time": "2025-07-10T13:25:14.855453Z"
    }
   },
   "outputs": [],
   "source": [
    "data_sst = nc.Dataset('D:/data/SST/SST_2005-2015_month.nc','r')"
   ]
  },
  {
   "cell_type": "code",
   "execution_count": 26,
   "id": "c15b88bd",
   "metadata": {
    "ExecuteTime": {
     "end_time": "2025-07-10T13:25:14.945309Z",
     "start_time": "2025-07-10T13:25:14.939318Z"
    }
   },
   "outputs": [
    {
     "name": "stdout",
     "output_type": "stream",
     "text": [
      "132\n"
     ]
    }
   ],
   "source": [
    "time_sst = data_sst['time'][:]\n",
    "print(len(time_sst))\n",
    "sst_lat = data_sst['lat'][:].data\n",
    "sst_lon = data_sst['lon'][:].data"
   ]
  },
  {
   "cell_type": "code",
   "execution_count": 27,
   "id": "96f1a109",
   "metadata": {
    "ExecuteTime": {
     "end_time": "2025-07-10T13:25:15.208451Z",
     "start_time": "2025-07-10T13:25:15.131574Z"
    }
   },
   "outputs": [
    {
     "name": "stdout",
     "output_type": "stream",
     "text": [
      "(132, 280, 600)\n"
     ]
    }
   ],
   "source": [
    "sst = data_sst['sst'][:].data\n",
    "print(ssh.shape)"
   ]
  },
  {
   "cell_type": "code",
   "execution_count": 28,
   "id": "0b5ad318",
   "metadata": {
    "ExecuteTime": {
     "end_time": "2025-07-10T13:25:15.834733Z",
     "start_time": "2025-07-10T13:25:15.755860Z"
    }
   },
   "outputs": [
    {
     "data": {
      "text/plain": [
       "(31.901611, -1.8474731)"
      ]
     },
     "execution_count": 28,
     "metadata": {},
     "output_type": "execute_result"
    }
   ],
   "source": [
    "np.nanmax(sst),np.nanmin(sst)"
   ]
  },
  {
   "cell_type": "markdown",
   "id": "e5751616",
   "metadata": {},
   "source": [
    "## 3DS"
   ]
  },
  {
   "cell_type": "code",
   "execution_count": 29,
   "id": "9c8b8cb7",
   "metadata": {
    "ExecuteTime": {
     "end_time": "2025-07-10T13:25:19.254621Z",
     "start_time": "2025-07-10T13:25:16.475984Z"
    }
   },
   "outputs": [
    {
     "name": "stdout",
     "output_type": "stream",
     "text": [
      "(132, 43, 280, 600)\n"
     ]
    }
   ],
   "source": [
    "data_3ds = nc.Dataset(r'D:/data/3DTS/3DS_2005_2015_month.nc')\n",
    "sali_depth = data_3ds['so'][:].data\n",
    "print(sali_depth.shape)"
   ]
  },
  {
   "cell_type": "code",
   "execution_count": 30,
   "id": "6292b787",
   "metadata": {
    "ExecuteTime": {
     "end_time": "2025-07-10T13:25:19.261610Z",
     "start_time": "2025-07-10T13:25:19.256618Z"
    }
   },
   "outputs": [],
   "source": [
    "depths = [0,5,10,15,20,25,30,35,40,45,50,55,60,65,70,80,90,100,125,150,175,200,225,250,275,300,350,400,\n",
    "         450,500,550,600,700,800,900,1000,1100,1200,1300,1400,1500,1750,2000]\n",
    "depths_use = [5,10,15,20,30,40,50,60,70,80,90,100,125,150,175,200,225,250,275,300,350,400,\n",
    "              500,600,700,800,900,1000,1100,1300,1500,1750,2000]"
   ]
  },
  {
   "cell_type": "code",
   "execution_count": null,
   "id": "b34782ce-958f-4878-a073-31a2d42a52e2",
   "metadata": {},
   "outputs": [],
   "source": [
    "sali_depth_use = []\n",
    "selected_layers = []\n",
    "for i, depth in enumerate(depths):\n",
    "    if depth in depths_use:\n",
    "        selected_layers.append(sali_depth[:, i:i+1, :, :])\n",
    "if selected_layers:\n",
    "    sali_depth_use = np.concatenate(selected_layers, axis=1)\n",
    "else:\n",
    "    sali_depth_use = None"
   ]
  },
  {
   "cell_type": "code",
   "execution_count": 33,
   "id": "c6d29e6c",
   "metadata": {
    "ExecuteTime": {
     "end_time": "2025-07-10T13:25:45.721493Z",
     "start_time": "2025-07-10T13:25:45.717500Z"
    }
   },
   "outputs": [
    {
     "name": "stdout",
     "output_type": "stream",
     "text": [
      "(132, 33, 280, 600)\n",
      "(132, 280, 600, 33)\n"
     ]
    }
   ],
   "source": [
    "print(sali_depth_use.shape)\n",
    "sali_depth_use = np.transpose(sali_depth_use,(0,2,3,1))\n",
    "print(sali_depth_use.shape)"
   ]
  },
  {
   "cell_type": "markdown",
   "id": "79fe4126",
   "metadata": {},
   "source": [
    "## 数据合并"
   ]
  },
  {
   "cell_type": "code",
   "execution_count": 34,
   "id": "dd1ca4c6",
   "metadata": {
    "ExecuteTime": {
     "end_time": "2025-07-10T13:25:46.077923Z",
     "start_time": "2025-07-10T13:25:45.722492Z"
    }
   },
   "outputs": [
    {
     "name": "stdout",
     "output_type": "stream",
     "text": [
      "(132, 280, 600) (132, 280, 600) (132, 280, 600) (132, 280, 600) (132, 280, 600)\n"
     ]
    },
    {
     "data": {
      "text/plain": [
       "(132, 280, 600, 5)"
      ]
     },
     "execution_count": 34,
     "metadata": {},
     "output_type": "execute_result"
    }
   ],
   "source": [
    "print(ssh.shape,sst.shape,uwnd.shape,vwnd.shape,sss.shape)\n",
    "cat_data =np.stack((ssh,sst,uwnd,vwnd,sss),axis=3)\n",
    "cat_data.shape"
   ]
  },
  {
   "cell_type": "code",
   "execution_count": 35,
   "id": "2c92e910",
   "metadata": {
    "ExecuteTime": {
     "end_time": "2025-07-10T13:25:47.880126Z",
     "start_time": "2025-07-10T13:25:46.078921Z"
    }
   },
   "outputs": [
    {
     "name": "stdout",
     "output_type": "stream",
     "text": [
      "(132, 280, 600, 38)\n"
     ]
    }
   ],
   "source": [
    "cat_data_ss_depth = np.concatenate((cat_data,sali_depth_use),axis=-1)\n",
    "print(cat_data_ss_depth.shape)"
   ]
  },
  {
   "cell_type": "markdown",
   "id": "d62b9007",
   "metadata": {},
   "source": [
    "# 验证集和测试集的划分"
   ]
  },
  {
   "cell_type": "code",
   "execution_count": 36,
   "id": "30fd935f",
   "metadata": {
    "ExecuteTime": {
     "end_time": "2025-07-10T13:25:47.886116Z",
     "start_time": "2025-07-10T13:25:47.881124Z"
    }
   },
   "outputs": [
    {
     "name": "stdout",
     "output_type": "stream",
     "text": [
      "train: (120, 280, 600, 38) test: (12, 280, 600, 38)\n"
     ]
    }
   ],
   "source": [
    "test_num = 120\n",
    "train = cat_data_ss_depth[:test_num]\n",
    "test = cat_data_ss_depth[test_num:]\n",
    "print('train:',train.shape,'test:',test.shape)"
   ]
  },
  {
   "cell_type": "markdown",
   "id": "79d91b44",
   "metadata": {},
   "source": [
    "## 去掉合并数据中的nan\n"
   ]
  },
  {
   "cell_type": "code",
   "execution_count": 37,
   "id": "acf49e56",
   "metadata": {
    "ExecuteTime": {
     "end_time": "2025-07-10T13:25:50.288821Z",
     "start_time": "2025-07-10T13:25:47.888113Z"
    }
   },
   "outputs": [
    {
     "name": "stdout",
     "output_type": "stream",
     "text": [
      "train删除nan值之前 (20160000, 38)\n",
      "train删除nan值之后 (12534840, 38)\n"
     ]
    }
   ],
   "source": [
    "train_flatten = train.reshape(-1,38)\n",
    "train_flatten[train_flatten == 32767] = np.nan\n",
    "print('train删除nan值之前',train_flatten.shape)\n",
    "nan_mask = np.isnan(train_flatten)\n",
    "train_without_nan = train_flatten[~nan_mask.any(axis=1)]  #只要有一个是True就会返回True, 此处True代表nan，故求反\n",
    "print('train删除nan值之后',train_without_nan.shape)"
   ]
  },
  {
   "cell_type": "code",
   "execution_count": 38,
   "id": "1bae264c",
   "metadata": {
    "ExecuteTime": {
     "end_time": "2025-07-10T13:25:50.609308Z",
     "start_time": "2025-07-10T13:25:50.289820Z"
    }
   },
   "outputs": [
    {
     "name": "stdout",
     "output_type": "stream",
     "text": [
      "test删除nan值之前 (2016000, 38)\n",
      "test删除nan值之后 (1253616, 38)\n"
     ]
    }
   ],
   "source": [
    "test_flatten =  test.reshape(-1,38)\n",
    "test_flatten[test_flatten == 32767] = np.nan\n",
    "print('test删除nan值之前',test_flatten.shape)\n",
    "nan_mask = np.isnan(test_flatten)\n",
    "test_without_nan = test_flatten[~nan_mask.any(axis=1)]\n",
    "print('test删除nan值之后',test_without_nan.shape)"
   ]
  },
  {
   "cell_type": "markdown",
   "id": "3975303a",
   "metadata": {
    "ExecuteTime": {
     "end_time": "2023-09-27T11:16:55.407824Z",
     "start_time": "2023-09-27T11:16:55.403831Z"
    }
   },
   "source": [
    "## 划分训练数据和目标数据"
   ]
  },
  {
   "cell_type": "code",
   "execution_count": 39,
   "id": "8a1ccba6",
   "metadata": {
    "ExecuteTime": {
     "end_time": "2025-07-10T13:25:50.614300Z",
     "start_time": "2025-07-10T13:25:50.610306Z"
    }
   },
   "outputs": [],
   "source": [
    "x_test = test_without_nan[:,:5]\n",
    "y_test = test_without_nan[:,5:]\n",
    "\n",
    "x_train_val = train_without_nan[:,:5]\n",
    "y_train_val = train_without_nan[:,5:]"
   ]
  },
  {
   "cell_type": "code",
   "execution_count": 40,
   "id": "5f51d7b8",
   "metadata": {
    "ExecuteTime": {
     "end_time": "2025-07-10T13:25:50.619292Z",
     "start_time": "2025-07-10T13:25:50.615298Z"
    }
   },
   "outputs": [
    {
     "name": "stdout",
     "output_type": "stream",
     "text": [
      "x_test.shape: (1253616, 5)\n",
      "y_test.shape (1253616, 33)\n",
      "x_train_val (12534840, 5)\n",
      "y_train_val (12534840, 33)\n"
     ]
    }
   ],
   "source": [
    "print('x_test.shape:',x_test.shape)\n",
    "print('y_test.shape',y_test.shape)\n",
    "print('x_train_val',x_train_val.shape)\n",
    "print('y_train_val',y_train_val.shape)"
   ]
  },
  {
   "cell_type": "code",
   "execution_count": 41,
   "id": "57afe328",
   "metadata": {
    "ExecuteTime": {
     "end_time": "2025-07-10T13:25:53.396372Z",
     "start_time": "2025-07-10T13:25:50.620291Z"
    }
   },
   "outputs": [],
   "source": [
    "x_train, x_val, y_train, y_val = train_test_split(x_train_val, y_train_val, test_size=0.25, random_state=100)\n",
    "x_train.shape,x_test.shape,x_val.shape,y_train.shape,y_test.shape,y_val.shape"
   ]
  },
  {
   "cell_type": "markdown",
   "id": "4adfdb57",
   "metadata": {},
   "source": [
    "# 特征归一化"
   ]
  },
  {
   "cell_type": "code",
   "execution_count": 44,
   "id": "9e19fa83",
   "metadata": {
    "ExecuteTime": {
     "end_time": "2025-07-10T13:26:01.206837Z",
     "start_time": "2025-07-10T13:25:53.408354Z"
    }
   },
   "outputs": [],
   "source": [
    "scaler_f = StandardScaler()\n",
    "x_train = scaler_f.fit_transform(x_train) \n",
    "x_test = scaler_f.transform(x_test)\n",
    "x_val = scaler_f.transform(x_val)\n",
    "\n",
    "scaler_l = StandardScaler()\n",
    "y_train = scaler_l.fit_transform(y_train)\n",
    "y_test = scaler_l.transform(y_test)\n",
    "y_val = scaler_l.transform(y_val)\n",
    "\n",
    "x_train.shape,x_test.shape,x_val.shape,y_train.shape,y_test.shape,y_val.shape"
   ]
  },
  {
   "cell_type": "markdown",
   "id": "82214b18",
   "metadata": {},
   "source": [
    "# 定义网络结构"
   ]
  },
  {
   "cell_type": "code",
   "execution_count": 46,
   "id": "7fe8bd42",
   "metadata": {
    "ExecuteTime": {
     "end_time": "2025-07-10T13:26:01.218818Z",
     "start_time": "2025-07-10T13:26:01.213826Z"
    }
   },
   "outputs": [],
   "source": [
    "def create_model():   \n",
    "    model = models.Sequential([\n",
    "        layers.Dense(200, activation='tanh', input_shape=(5,)),\n",
    "        layers.Dense(15, activation='tanh'),\n",
    "        layers.Dense(8, activation='tanh'),\n",
    "        layers.Dense(1, activation='linear')\n",
    "    ])\n",
    "    model.compile(optimizer='adam', loss='mean_squared_error')\n",
    "    return model \n"
   ]
  },
  {
   "cell_type": "markdown",
   "id": "e632fff1",
   "metadata": {},
   "source": [
    "## 编译模型"
   ]
  },
  {
   "cell_type": "code",
   "execution_count": null,
   "id": "98ca1516-53c9-4948-a16f-d0366a20267a",
   "metadata": {},
   "outputs": [],
   "source": [
    "model = create_model()\n",
    "model.summary()"
   ]
  },
  {
   "cell_type": "markdown",
   "id": "3af7e470",
   "metadata": {},
   "source": [
    "## 模型训练"
   ]
  },
  {
   "cell_type": "markdown",
   "id": "6e9f372a",
   "metadata": {},
   "source": [
    "### 对所有层进行训练"
   ]
  },
  {
   "cell_type": "code",
   "execution_count": 49,
   "id": "8f703bdc",
   "metadata": {
    "ExecuteTime": {
     "end_time": "2025-07-10T13:26:05.967591Z",
     "start_time": "2025-07-10T13:26:05.963584Z"
    }
   },
   "outputs": [],
   "source": [
    "def BPNN_model(x_train,y_train,x_val,y_val,name):\n",
    "    model = create_model()\n",
    "    model.compile(optimizer='adam', loss='mean_squared_error')\n",
    "    checkpoint_path=name\n",
    "    keras_callbacks   = [\n",
    "          EarlyStopping(monitor='val_loss', patience=30, mode='min', min_delta=0.001),\n",
    "          ModelCheckpoint(checkpoint_path, monitor='val_loss', save_best_only=True, mode='min')\n",
    "    ]\n",
    "    model.fit(x_train, y_train, validation_data=(x_val,y_val),\n",
    "        epochs=200, batch_size=5120, verbose=2, callbacks=keras_callbacks)"
   ]
  },
  {
   "cell_type": "code",
   "execution_count": null,
   "id": "9ce0c8de-e9af-488f-8ebb-335b60c4cd98",
   "metadata": {},
   "outputs": [],
   "source": [
    "depth=[5,10,15,20,30,40,50,60,70,80,90,100,125,150,175,200,225,250,275,300,350,400,500,600,700,800,900,1000,1100,1300,1500,1750,2000]\n",
    "for i in range(0,33):\n",
    "    BPNN_model(x_train, y_train[:,i:i+1],x_val, y_val[:,i:i+1],\n",
    "               'D:/BPNN/sail/BPNN_model_'+str(depth[i])+'m.h5')"
   ]
  },
  {
   "cell_type": "code",
   "execution_count": null,
   "id": "739b8696-cb93-4d8d-902b-357a6479e48c",
   "metadata": {},
   "outputs": [],
   "source": [
    "history = model.fit(x_train, y_train[:,0:1], validation_data=(x_val,y_val[:,0:1]),\n",
    "                    epochs=200, batch_size=5210, verbose=2, callbacks=keras_callbacks)"
   ]
  },
  {
   "cell_type": "markdown",
   "id": "2fae1468",
   "metadata": {},
   "source": [
    "## 模型评估"
   ]
  },
  {
   "cell_type": "code",
   "execution_count": 52,
   "id": "d9133869",
   "metadata": {
    "ExecuteTime": {
     "end_time": "2025-07-10T13:29:45.513627Z",
     "start_time": "2025-07-10T13:29:45.474691Z"
    },
    "code_folding": [
     3,
     16,
     45
    ]
   },
   "outputs": [],
   "source": [
    "import math\n",
    "def acc(actual, predicted):\n",
    "    pred_avg = np.average(predicted)\n",
    "\n",
    "    act_avg = np.average(actual)\n",
    "    diff_pred = predicted - pred_avg\n",
    "    diff_act = actual - act_avg\n",
    "    numerator = np.mean(np.sum(diff_pred*diff_act, axis=0))\n",
    "    denominator = math.sqrt(np.mean(np.sum(diff_pred**2, axis=0)) * np.mean(np.sum(diff_act**2, axis=0)))\n",
    "    ret_val = numerator/denominator\n",
    "    return (100 * ret_val)\n",
    "\n",
    "def look_loss(history):\n",
    "    plt.figure(figsize=(6.3, 2.5), dpi = 100)\n",
    "    plt.plot(history.history['loss'], label='training data')\n",
    "    plt.plot(history.history['val_loss'], label='validation data')\n",
    "    plt.title('Loss')\n",
    "    plt.ylabel('MSE Loss')\n",
    "    plt.xlabel('Number of epochs')\n",
    "    plt.grid()\n",
    "    plt.legend(loc=\"upper right\")\n",
    "    plt.show()\n",
    "\n",
    "def all_estimate(best_model,x_test,y_test):\n",
    "    testPred_1 = best_model.predict(x_test)\n",
    "    a = y_test\n",
    "    y_test_p = a.reshape(-1,1)\n",
    "    testPred_p = testPred_1.reshape(-1,1)\n",
    "\n",
    "    rmse = sqrt(mean_squared_error(y_test_p,testPred_p))\n",
    "    print('Test RMSE: %.3f' % rmse)\n",
    "\n",
    "    r2 = r2_score(y_test_p,testPred_p)\n",
    "    print(\"R² score: %.4f\" %r2)  \n",
    "    #print(\"%.4f\" % r2)\n",
    "    \n",
    "\n",
    "def respective_estimate(best_model,x_test,y_test):\n",
    "    re2_list = []\n",
    "    rmse_list = []\n",
    "    for i in range(6):\n",
    "        testPred = best_model.predict(x_test[i:i+1])\n",
    "        a = y_test[i:i+1]\n",
    "        y_test_p = a.reshape(-1,1)\n",
    "        testPred_p = testPred.reshape(-1,1)\n",
    "        r2 = r2_score(y_test_p,testPred_p)\n",
    "        rmse = sqrt(mean_squared_error(y_test_p,testPred_p))\n",
    "        re2_list.append(r2)\n",
    "        rmse_list.append(rmse)    \n",
    "    return re2_list,rmse_list"
   ]
  },
  {
   "cell_type": "markdown",
   "id": "c017595f-59be-4d62-bc0e-80e6c9ae4056",
   "metadata": {},
   "source": [
    "### 结果评估"
   ]
  },
  {
   "cell_type": "code",
   "execution_count": null,
   "id": "8190ca17-2a36-4b0b-8c55-239c48aaf825",
   "metadata": {},
   "outputs": [],
   "source": [
    "look_loss(history)"
   ]
  },
  {
   "cell_type": "code",
   "execution_count": null,
   "id": "090439ed-a9b8-4317-a28c-6cae9464f3f7",
   "metadata": {},
   "outputs": [],
   "source": [
    "depth=[5,10,15,20,30,40,50,60,70,80,90,100,125,150,175,200,225,250,275,300,350,400,500,600,700,800,900,1000,1100,1300,1500,1750,2000]\n",
    "result = [] \n",
    "for i in range(0,33):\n",
    "    best_model = tf.keras.models.load_model('D:/BPNN/sail/BPNN_model_'+str(depth[i])+'m.h5')\n",
    "    print('预测第'+str(depth[i])+'m盐度的评价')\n",
    "    all_estimate(best_model,x_test,y_test[:,i:i+1])\n",
    "    testPred = best_model.predict(x_test)\n",
    "    result.append(testPred)"
   ]
  },
  {
   "cell_type": "markdown",
   "id": "54837dcf",
   "metadata": {},
   "source": [
    "### 反归一化结果评价"
   ]
  },
  {
   "cell_type": "code",
   "execution_count": null,
   "id": "d77d03ac",
   "metadata": {},
   "outputs": [],
   "source": [
    "result = np.array(result)\n",
    "print(result.shape)\n",
    "result = np.transpose(result,(1,2,0))\n",
    "print(result.shape)\n",
    "result = result.reshape(-1,33)\n",
    "print(result.shape)"
   ]
  },
  {
   "cell_type": "code",
   "execution_count": null,
   "id": "d34d0948",
   "metadata": {},
   "outputs": [],
   "source": [
    "result_unscaled = scaler_l.inverse_transform(result)\n",
    "y_test_unscaled = scaler_l.inverse_transform(y_test)\n",
    "result_unscaled.shape,y_test.shape"
   ]
  },
  {
   "cell_type": "code",
   "execution_count": null,
   "id": "ddb6c73d",
   "metadata": {},
   "outputs": [],
   "source": [
    "for i in range(0,15):\n",
    "    print('预测第'+str(depth[i])+'m盐度的评价')\n",
    "    rmse = sqrt(mean_squared_error(y_test_unscaled[:,i],result_unscaled[:,i]))\n",
    "    print('Test RMSE: %.3f' % rmse)\n",
    "    r2 = r2_score(y_test_unscaled[:,i],result_unscaled[:,i])\n",
    "    print('R² score:',r2)"
   ]
  },
  {
   "cell_type": "markdown",
   "id": "840c9937",
   "metadata": {},
   "source": [
    "# 预测结果可视化"
   ]
  },
  {
   "cell_type": "markdown",
   "id": "0454bcd2",
   "metadata": {},
   "source": [
    "## 为预测值填充nan"
   ]
  },
  {
   "cell_type": "code",
   "execution_count": 73,
   "id": "91ad954c",
   "metadata": {
    "ExecuteTime": {
     "end_time": "2024-06-08T02:54:23.780990Z",
     "start_time": "2024-06-08T02:54:23.775998Z"
    }
   },
   "outputs": [
    {
     "data": {
      "text/plain": [
       "(2016000, 38)"
      ]
     },
     "execution_count": 73,
     "metadata": {},
     "output_type": "execute_result"
    }
   ],
   "source": [
    "result.shape,test_flatten.shape "
   ]
  },
  {
   "cell_type": "code",
   "execution_count": 74,
   "id": "4e6b6667",
   "metadata": {
    "ExecuteTime": {
     "end_time": "2024-06-08T02:54:48.480503Z",
     "start_time": "2024-06-08T02:54:48.380664Z"
    }
   },
   "outputs": [
    {
     "name": "stdout",
     "output_type": "stream",
     "text": [
      "(2016000,)\n"
     ]
    }
   ],
   "source": [
    "nan_mask = np.isnan(test_flatten)\n",
    "nan_masks = nan_mask.any(axis=1)    \n",
    "print(nan_masks.shape)"
   ]
  },
  {
   "cell_type": "code",
   "execution_count": 77,
   "id": "0cbb3593",
   "metadata": {
    "ExecuteTime": {
     "end_time": "2024-06-08T03:00:15.277454Z",
     "start_time": "2024-06-08T03:00:15.094744Z"
    }
   },
   "outputs": [],
   "source": [
    "result_with_nan = np.full(((nan_masks.shape[0]),33), np.nan)  \n",
    "result_with_nan.shape,result.shape \n",
    "np.count_nonzero(nan_masks)"
   ]
  },
  {
   "cell_type": "code",
   "execution_count": 82,
   "id": "8b94a882",
   "metadata": {
    "ExecuteTime": {
     "end_time": "2024-06-08T03:01:19.786457Z",
     "start_time": "2024-06-08T03:01:17.289430Z"
    }
   },
   "outputs": [
    {
     "name": "stdout",
     "output_type": "stream",
     "text": [
      "1256760\n"
     ]
    }
   ],
   "source": [
    "num = 0\n",
    "for i,nan_mask in enumerate(nan_masks):   \n",
    "    if (nan_mask == False): \n",
    "        result_with_nan[i] = result_unscaled[num]\n",
    "        num = num + 1       \n",
    "print(num)"
   ]
  },
  {
   "cell_type": "markdown",
   "id": "777afd18",
   "metadata": {
    "ExecuteTime": {
     "end_time": "2023-10-06T12:59:33.511455Z",
     "start_time": "2023-10-06T12:59:33.508460Z"
    }
   },
   "source": [
    "## 为真实值填充nan "
   ]
  },
  {
   "cell_type": "code",
   "execution_count": 83,
   "id": "ad73a2c9",
   "metadata": {
    "ExecuteTime": {
     "end_time": "2024-06-08T03:02:00.271447Z",
     "start_time": "2024-06-08T03:02:00.086743Z"
    }
   },
   "outputs": [],
   "source": [
    "y_test_with_nan = np.full(((nan_masks.shape[0]),33), np.nan) "
   ]
  },
  {
   "cell_type": "code",
   "execution_count": 85,
   "id": "1adf0bd7",
   "metadata": {
    "ExecuteTime": {
     "end_time": "2024-06-08T03:02:06.543194Z",
     "start_time": "2024-06-08T03:02:04.144018Z"
    }
   },
   "outputs": [
    {
     "name": "stdout",
     "output_type": "stream",
     "text": [
      "1256760\n"
     ]
    }
   ],
   "source": [
    "num = 0 \n",
    "for i,nan_mask in enumerate(nan_masks):\n",
    "    if (nan_mask == False):\n",
    "        y_test_with_nan[i] = y_test[num]\n",
    "        num = num + 1     \n",
    "print(num)"
   ]
  },
  {
   "cell_type": "code",
   "execution_count": null,
   "id": "eaf34658",
   "metadata": {},
   "outputs": [],
   "source": [
    "result_with_nan_reshape = result_with_nan.reshape((12,280,600,33))\n",
    "y_test_with_nan_reshape = y_test_with_nan.reshape((12,280,600,33))\n",
    "print(result_with_nan_reshape.shape , y_test_with_nan_reshape.shape)"
   ]
  },
  {
   "cell_type": "code",
   "execution_count": null,
   "id": "40e48222",
   "metadata": {},
   "outputs": [],
   "source": [
    "result_with_nan_reshape = np.transpose(result_with_nan_reshape,(0,3,1,2))  \n",
    "y_test_with_nan_reshape = np.transpose(y_test_with_nan_reshape,(0,3,1,2))\n",
    "print(result_with_nan_reshape.shape,y_test_with_nan_reshape.shape)"
   ]
  },
  {
   "cell_type": "markdown",
   "id": "92a05016",
   "metadata": {
    "ExecuteTime": {
     "end_time": "2023-10-06T13:07:37.341964Z",
     "start_time": "2023-10-06T13:07:37.302028Z"
    }
   },
   "source": [
    "# 结果可视化"
   ]
  },
  {
   "cell_type": "code",
   "execution_count": 90,
   "id": "ebd4d84d",
   "metadata": {
    "ExecuteTime": {
     "end_time": "2024-06-08T03:03:03.205839Z",
     "start_time": "2024-06-08T03:03:03.164907Z"
    }
   },
   "outputs": [],
   "source": [
    "lat = []\n",
    "lon = []\n",
    "time = []\n",
    "lon.append(data_ssh['lon'][:].data)\n",
    "lat.append(data_ssh['lat'][:].data)\n",
    "start_year = 2015\n",
    "end_year =2015\n",
    "time = []\n",
    "date_range = pd.date_range(datetime(start_year,1,1),datetime(end_year+1,1,1),freq='1M')\n",
    "len(date_range)\n",
    "for i in range(len(date_range)):\n",
    "    time.append(i)"
   ]
  },
  {
   "cell_type": "code",
   "execution_count": 91,
   "id": "2a0e5e5f",
   "metadata": {
    "ExecuteTime": {
     "end_time": "2024-06-08T03:03:46.951263Z",
     "start_time": "2024-06-08T03:03:45.094232Z"
    }
   },
   "outputs": [],
   "source": [
    "new_NC = nc.Dataset(\"D:/BPNN/result_sali_BPNN_5-2000m.nc\", 'w', format='NETCDF4')\n",
    "'''\n",
    "定义维度，后一个参数表示维度的长度，因为是合并的同一个产品的数据，所以是统一\n",
    "的,注意维度的长度一定要和读入的数据匹配\n",
    "'''\n",
    "new_NC.createDimension('lat', len(lat[0]))\n",
    "new_NC.createDimension('lon', len(lon[0]))\n",
    "new_NC.createDimension('depth', 33)\n",
    "new_NC.createDimension('time', len(time))\n",
    "\n",
    "new_NC.createVariable('lat', 'f', (\"lat\"))\n",
    "new_NC.createVariable('lon', 'f', (\"lon\"))\n",
    "new_NC.createVariable('depth', 'f', (\"depth\"))\n",
    "new_NC.createVariable('true_sss', 'f',(\"time\",\"depth\",\"lat\",\"lon\"))\n",
    "new_NC.createVariable('pred_sss', 'f',(\"time\",\"depth\",\"lat\",\"lon\"))\n",
    "\n",
    "time_var = new_NC.createVariable('time', 'f4',(\"time\"))\n",
    "time_var.units = 'months since 2015-01-15'\n",
    "time_var.long_name = 'Months in Monthly Means'\n",
    "time_var.axis = 'T'\n",
    "\n",
    "new_NC.variables['lat'][:] = lat[0]\n",
    "new_NC.variables['lon'][:] = lon[0]\n",
    "new_NC.variables['time'][:] = np.array(time)\n",
    "new_NC.variables['depth'][:] = depth\n",
    "\n",
    "new_NC.variables['true_sss'][:]=np.array(y_test_with_nan_reshape)\n",
    "new_NC.variables['pred_sss'][:]=np.array(result_with_nan_reshape)\n",
    "\n",
    "new_NC.close()"
   ]
  },
  {
   "cell_type": "code",
   "execution_count": null,
   "id": "d6adf785",
   "metadata": {},
   "outputs": [],
   "source": []
  }
 ],
 "metadata": {
  "kernelspec": {
   "display_name": "Python 3 (ipykernel)",
   "language": "python",
   "name": "python3"
  },
  "language_info": {
   "codemirror_mode": {
    "name": "ipython",
    "version": 3
   },
   "file_extension": ".py",
   "mimetype": "text/x-python",
   "name": "python",
   "nbconvert_exporter": "python",
   "pygments_lexer": "ipython3",
   "version": "3.9.20"
  },
  "toc": {
   "base_numbering": 1,
   "nav_menu": {},
   "number_sections": true,
   "sideBar": true,
   "skip_h1_title": false,
   "title_cell": "Table of Contents",
   "title_sidebar": "Contents",
   "toc_cell": false,
   "toc_position": {
    "height": "calc(100% - 180px)",
    "left": "10px",
    "top": "150px",
    "width": "240.398px"
   },
   "toc_section_display": true,
   "toc_window_display": true
  }
 },
 "nbformat": 4,
 "nbformat_minor": 5
}
