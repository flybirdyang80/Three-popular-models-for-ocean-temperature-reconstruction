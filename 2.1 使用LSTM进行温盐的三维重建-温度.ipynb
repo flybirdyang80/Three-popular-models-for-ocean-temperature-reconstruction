{
 "cells": [
  {
   "cell_type": "code",
   "execution_count": 1,
   "id": "24cc7c46",
   "metadata": {
    "ExecuteTime": {
     "end_time": "2025-07-10T13:40:33.008015Z",
     "start_time": "2025-07-10T13:40:29.359490Z"
    },
    "code_folding": [
     0
    ]
   },
   "outputs": [],
   "source": [
    "#导包\n",
    "from netCDF4 import Dataset\n",
    "from tensorflow.keras import layers, models\n",
    "from tensorflow.keras.layers import ConvLSTM2D,LSTM, BatchNormalization, LayerNormalization,Input, Conv3D, TimeDistributed, Flatten\n",
    "from tensorflow.keras.layers import Concatenate,Conv2D,TimeDistributed, MaxPooling2D, Input, MaxPooling3D\n",
    "from tensorflow.keras.layers import  Reshape,multiply\n",
    "from tensorflow.keras.layers import Layer,Lambda,Dot,ReLU, Dense, Dropout, Activation, Flatten,Attention\n",
    "from tensorflow.keras.utils import plot_model\n",
    "from tensorflow.keras.models import Sequential,Model,load_model\n",
    "from tensorflow.keras.optimizers import Adam,SGD\n",
    "from sklearn.model_selection import train_test_split\n",
    "from tensorflow.keras.callbacks import EarlyStopping, ModelCheckpoint\n",
    "from sklearn.preprocessing import MinMaxScaler, StandardScaler\n",
    "from tensorflow.keras.losses import MeanSquaredError\n",
    "from sklearn.metrics import r2_score,accuracy_score,precision_score\n",
    "from tensorflow.keras.metrics import RootMeanSquaredError\n",
    "from tensorflow.keras import regularizers\n",
    "import tensorflow as tf\n",
    "from datetime import datetime\n",
    "from sklearn.model_selection import cross_val_score\n",
    "from sklearn.model_selection import GridSearchCV\n",
    "from tensorflow.keras import models, layers\n",
    "from tensorflow.keras.wrappers.scikit_learn import KerasRegressor\n",
    "import tensorflow.keras as keras\n",
    "from tensorflow.keras import layers, Sequential, regularizers\n",
    "from tensorflow.keras.utils import  plot_model\n",
    "# calculate RMSE\n",
    "from sklearn.metrics import mean_squared_error\n",
    "from math import sqrt\n",
    "import pandas as pd \n",
    "import gc \n",
    "import gzip\n",
    "import matplotlib.pyplot as plt\n",
    "import numpy as np\n",
    "import netCDF4 as nc\n",
    "import match\n",
    "import xarray as xr\n",
    "import os \n",
    "%matplotlib inline"
   ]
  },
  {
   "cell_type": "code",
   "execution_count": 2,
   "id": "619adb84",
   "metadata": {
    "ExecuteTime": {
     "end_time": "2025-07-10T13:40:33.143798Z",
     "start_time": "2025-07-10T13:40:33.010012Z"
    }
   },
   "outputs": [
    {
     "data": {
      "text/plain": [
       "1"
      ]
     },
     "execution_count": 2,
     "metadata": {},
     "output_type": "execute_result"
    }
   ],
   "source": [
    "len(tf.config.experimental.list_physical_devices('GPU'))"
   ]
  },
  {
   "cell_type": "markdown",
   "id": "f580b19d",
   "metadata": {},
   "source": [
    "# 读取数据"
   ]
  },
  {
   "cell_type": "markdown",
   "id": "a969a48c",
   "metadata": {},
   "source": [
    "## SSH"
   ]
  },
  {
   "cell_type": "code",
   "execution_count": 3,
   "id": "a2879bf4",
   "metadata": {
    "ExecuteTime": {
     "end_time": "2025-07-10T13:40:33.152784Z",
     "start_time": "2025-07-10T13:40:33.144797Z"
    }
   },
   "outputs": [],
   "source": [
    "data_ssh = nc.Dataset(r'D:/data/SSH/SSH_2005-2015_month.nc')"
   ]
  },
  {
   "cell_type": "code",
   "execution_count": 4,
   "id": "8d073208",
   "metadata": {
    "ExecuteTime": {
     "end_time": "2025-07-10T13:40:33.160771Z",
     "start_time": "2025-07-10T13:40:33.154781Z"
    }
   },
   "outputs": [
    {
     "name": "stdout",
     "output_type": "stream",
     "text": [
      "132\n"
     ]
    }
   ],
   "source": [
    "time_ssh = data_ssh['time'][:]\n",
    "print(len(time_ssh))\n",
    "ssh_lat = data_ssh['lat'][:].data\n",
    "ssh_lon = data_ssh['lon'][:].data\n",
    "ssh = data_ssh['ssh'][:].data\n",
    "print(ssh.shape)"
   ]
  },
  {
   "cell_type": "code",
   "execution_count": 7,
   "id": "0c26b86a",
   "metadata": {
    "ExecuteTime": {
     "end_time": "2025-07-10T13:40:33.313526Z",
     "start_time": "2025-07-10T13:40:33.237648Z"
    }
   },
   "outputs": [
    {
     "data": {
      "text/plain": [
       "(2.20051, -0.43673334)"
      ]
     },
     "execution_count": 7,
     "metadata": {},
     "output_type": "execute_result"
    }
   ],
   "source": [
    "np.nanmax(ssh),np.nanmin(ssh)"
   ]
  },
  {
   "cell_type": "markdown",
   "id": "203facec",
   "metadata": {},
   "source": [
    "## SSS"
   ]
  },
  {
   "cell_type": "code",
   "execution_count": 8,
   "id": "7fde41f7",
   "metadata": {
    "ExecuteTime": {
     "end_time": "2025-07-10T13:40:33.317529Z",
     "start_time": "2025-07-10T13:40:33.314525Z"
    }
   },
   "outputs": [],
   "source": [
    "data_sss = nc.Dataset(r'D:/data/SSS/SSS_2005-2020_month.nc')"
   ]
  },
  {
   "cell_type": "code",
   "execution_count": 9,
   "id": "97c14ff6",
   "metadata": {
    "ExecuteTime": {
     "end_time": "2025-07-10T13:40:33.322512Z",
     "start_time": "2025-07-10T13:40:33.318519Z"
    }
   },
   "outputs": [
    {
     "name": "stdout",
     "output_type": "stream",
     "text": [
      "132\n"
     ]
    }
   ],
   "source": [
    "time_sss = data_sss['time'][:132]\n",
    "print(len(time_sss))\n",
    "sss_lat = data_sss['lat'][:].data\n",
    "sss_lon = data_sss['lon'][:].data\n",
    "sss = data_sss['sos'][:132].data \n",
    "print(sss.shape)\n",
    "sss = np.squeeze(sss)\n",
    "print(sss.shape)"
   ]
  },
  {
   "cell_type": "code",
   "execution_count": 12,
   "id": "b1e08930",
   "metadata": {
    "ExecuteTime": {
     "end_time": "2025-07-10T13:40:33.953641Z",
     "start_time": "2025-07-10T13:40:33.878761Z"
    }
   },
   "outputs": [
    {
     "data": {
      "text/plain": [
       "(36.072178, 13.604756)"
      ]
     },
     "execution_count": 12,
     "metadata": {},
     "output_type": "execute_result"
    }
   ],
   "source": [
    "np.nanmax(sss),np.nanmin(sss)"
   ]
  },
  {
   "cell_type": "markdown",
   "id": "12d5c8e2",
   "metadata": {},
   "source": [
    "## SSW"
   ]
  },
  {
   "cell_type": "code",
   "execution_count": 13,
   "id": "d026b883",
   "metadata": {
    "ExecuteTime": {
     "end_time": "2025-07-10T13:40:34.701242Z",
     "start_time": "2025-07-10T13:40:34.695251Z"
    }
   },
   "outputs": [],
   "source": [
    "data_ssw = nc.Dataset(r'D:/data/SSW/SSW_2005-2018_month.nc')"
   ]
  },
  {
   "cell_type": "code",
   "execution_count": 14,
   "id": "a09f6f8d",
   "metadata": {
    "ExecuteTime": {
     "end_time": "2025-07-10T13:40:35.467369Z",
     "start_time": "2025-07-10T13:40:35.463375Z"
    }
   },
   "outputs": [
    {
     "name": "stdout",
     "output_type": "stream",
     "text": [
      "132\n"
     ]
    }
   ],
   "source": [
    "time_ssw = data_ssw['time'][:132]\n",
    "print(len(time_ssw))\n",
    "lat_ssw = data_ssw['lat'][:].data\n",
    "lon_ssw = data_ssw['lon'][:].data"
   ]
  },
  {
   "cell_type": "code",
   "execution_count": 16,
   "id": "68eef6fa",
   "metadata": {
    "ExecuteTime": {
     "end_time": "2025-07-10T13:40:36.560186Z",
     "start_time": "2025-07-10T13:40:36.318573Z"
    }
   },
   "outputs": [],
   "source": [
    "uwnd = data_ssw['uwnd'][:132,314:594,440:1040].data  \n",
    "vwnd = data_ssw['vwnd'][:132,314:594,440:1040].data\n",
    "print(uwnd.shape)\n",
    "print(vwnd.shape)"
   ]
  },
  {
   "cell_type": "code",
   "execution_count": 18,
   "id": "c5c8a2cd",
   "metadata": {
    "ExecuteTime": {
     "end_time": "2025-07-10T13:40:36.987502Z",
     "start_time": "2025-07-10T13:40:36.926600Z"
    }
   },
   "outputs": [
    {
     "data": {
      "text/plain": [
       "(12.433594, -11.7988205, 8.8359995, -13.645481)"
      ]
     },
     "execution_count": 18,
     "metadata": {},
     "output_type": "execute_result"
    }
   ],
   "source": [
    "np.nanmax(uwnd),np.nanmin(uwnd),np.nanmax(vwnd),np.nanmin(vwnd)"
   ]
  },
  {
   "cell_type": "markdown",
   "id": "4334792f",
   "metadata": {},
   "source": [
    "## 3DT"
   ]
  },
  {
   "cell_type": "code",
   "execution_count": 20,
   "id": "e02ac03d",
   "metadata": {
    "ExecuteTime": {
     "end_time": "2025-07-10T13:41:45.078426Z",
     "start_time": "2025-07-10T13:41:45.073434Z"
    }
   },
   "outputs": [],
   "source": [
    "data_3dt_1 = nc.Dataset(r'D:/data/3DTS/3DT_2005-2009_month.nc')\n",
    "data_3dt_2 = nc.Dataset(r'D:/data/3DTS/3DT_2010-2015_month.nc')"
   ]
  },
  {
   "cell_type": "code",
   "execution_count": 21,
   "id": "c15b88bd",
   "metadata": {
    "ExecuteTime": {
     "end_time": "2025-07-10T13:42:02.310054Z",
     "start_time": "2025-07-10T13:41:47.593269Z"
    }
   },
   "outputs": [],
   "source": [
    "sst_1 = data_3dt_1['to'][:].data\n",
    "sst_2 = data_3dt_2['to'][:].data\n",
    "print(sst_1.shape)\n",
    "print(sst_2.shape)"
   ]
  },
  {
   "cell_type": "markdown",
   "id": "856d9df5",
   "metadata": {},
   "source": [
    "###  30 - 1000m 温度数据"
   ]
  },
  {
   "cell_type": "code",
   "execution_count": 24,
   "id": "aad4e347",
   "metadata": {
    "ExecuteTime": {
     "end_time": "2025-07-10T13:42:17.044977Z",
     "start_time": "2025-07-10T13:42:13.417706Z"
    }
   },
   "outputs": [
    {
     "name": "stdout",
     "output_type": "stream",
     "text": [
      "(132, 43, 280, 600)\n"
     ]
    }
   ],
   "source": [
    "temp_depth = np.append(sst_1,sst_2,axis=0)\n",
    "print(temp_depth.shape)"
   ]
  },
  {
   "cell_type": "code",
   "execution_count": 25,
   "id": "98f2e6ad",
   "metadata": {
    "ExecuteTime": {
     "end_time": "2025-07-10T13:42:22.078188Z",
     "start_time": "2025-07-10T13:42:22.073195Z"
    }
   },
   "outputs": [],
   "source": [
    "depths = [0,5,10,15,20,25,30,35,40,45,50,55,60,65,70,80,90,100,125,150,175,200,225,250,275,300,350,400,\n",
    "         450,500,550,600,700,800,900,1000,1100,1200,1300,1400,1500,1750,2000]\n",
    "depths_use = [30,50,100,125,150,200,250,300,400,500,600,700,800,900,1000]"
   ]
  },
  {
   "cell_type": "code",
   "execution_count": 26,
   "id": "340dd8d6",
   "metadata": {
    "ExecuteTime": {
     "end_time": "2025-07-10T13:42:35.856951Z",
     "start_time": "2025-07-10T13:42:34.721769Z"
    }
   },
   "outputs": [],
   "source": [
    "temp_depth_use = []\n",
    "selected_layers = []\n",
    "for i, depth in enumerate(depths):\n",
    "    if depth in depths_use:\n",
    "        selected_layers.append(temp_depth[:, i:i+1, :, :])\n",
    "if selected_layers:\n",
    "    temp_depth_use = np.concatenate(selected_layers, axis=1)\n",
    "else:\n",
    "    temp_depth_use = None"
   ]
  },
  {
   "cell_type": "code",
   "execution_count": 27,
   "id": "a271c345",
   "metadata": {
    "ExecuteTime": {
     "end_time": "2025-07-10T13:42:40.710456Z",
     "start_time": "2025-07-10T13:42:40.705463Z"
    }
   },
   "outputs": [
    {
     "name": "stdout",
     "output_type": "stream",
     "text": [
      "(132, 15, 280, 600)\n",
      "(132, 280, 600, 15)\n"
     ]
    }
   ],
   "source": [
    "print(temp_depth_use.shape)\n",
    "temp_depth_use = np.transpose(temp_depth_use, ( 0, 2,3,1))\n",
    "print(temp_depth_use.shape)"
   ]
  },
  {
   "cell_type": "markdown",
   "id": "f2c9055f",
   "metadata": {},
   "source": [
    "### SST表面温度数据"
   ]
  },
  {
   "cell_type": "code",
   "execution_count": 28,
   "id": "6234b015",
   "metadata": {
    "ExecuteTime": {
     "end_time": "2025-07-10T13:42:52.399208Z",
     "start_time": "2025-07-10T13:42:52.394216Z"
    }
   },
   "outputs": [],
   "source": [
    "data_sst = nc.Dataset('D:/data/SST/SST_2005-2015_month.nc','r')"
   ]
  },
  {
   "cell_type": "code",
   "execution_count": 29,
   "id": "2f16fbe9",
   "metadata": {
    "ExecuteTime": {
     "end_time": "2025-07-10T13:42:54.471938Z",
     "start_time": "2025-07-10T13:42:54.465947Z"
    }
   },
   "outputs": [
    {
     "name": "stdout",
     "output_type": "stream",
     "text": [
      "132\n"
     ]
    }
   ],
   "source": [
    "time_sst = data_sst['time'][:]\n",
    "print(len(time_sst))\n",
    "sst_lat = data_sst['lat'][:].data\n",
    "sst_lon = data_sst['lon'][:].data\n",
    "sst = data_sst['sst'][:].data\n",
    "print(ssh.shape)"
   ]
  },
  {
   "cell_type": "code",
   "execution_count": 31,
   "id": "d38f6f70",
   "metadata": {
    "ExecuteTime": {
     "end_time": "2025-07-10T13:42:56.111108Z",
     "start_time": "2025-07-10T13:42:56.034231Z"
    }
   },
   "outputs": [
    {
     "data": {
      "text/plain": [
       "(31.901611, -1.8474731)"
      ]
     },
     "execution_count": 31,
     "metadata": {},
     "output_type": "execute_result"
    }
   ],
   "source": [
    "np.nanmax(sst),np.nanmin(sst)"
   ]
  },
  {
   "cell_type": "markdown",
   "id": "79fe4126",
   "metadata": {},
   "source": [
    "## 数据合并"
   ]
  },
  {
   "cell_type": "code",
   "execution_count": 32,
   "id": "dd1ca4c6",
   "metadata": {
    "ExecuteTime": {
     "end_time": "2025-07-10T13:43:04.379144Z",
     "start_time": "2025-07-10T13:43:04.042682Z"
    }
   },
   "outputs": [
    {
     "name": "stdout",
     "output_type": "stream",
     "text": [
      "(132, 280, 600) (132, 280, 600) (132, 280, 600) (132, 280, 600) (132, 280, 600)\n"
     ]
    },
    {
     "data": {
      "text/plain": [
       "(132, 280, 600, 5)"
      ]
     },
     "execution_count": 32,
     "metadata": {},
     "output_type": "execute_result"
    }
   ],
   "source": [
    "print(ssh.shape,sss.shape,uwnd.shape,vwnd.shape,sst.shape)\n",
    "cat_data =np.stack((ssh,sss,uwnd,vwnd,sst),axis=3)\n",
    "cat_data.shape"
   ]
  },
  {
   "cell_type": "code",
   "execution_count": 33,
   "id": "31946f16",
   "metadata": {
    "ExecuteTime": {
     "end_time": "2025-07-10T13:43:06.073970Z",
     "start_time": "2025-07-10T13:43:04.425070Z"
    }
   },
   "outputs": [],
   "source": [
    "cat_data_ss_depth = np.concatenate((cat_data,temp_depth_use),axis=-1)\n",
    "cat_data_ss_depth.shape"
   ]
  },
  {
   "cell_type": "markdown",
   "id": "6539202b",
   "metadata": {
    "ExecuteTime": {
     "end_time": "2023-10-08T07:54:27.397519Z",
     "start_time": "2023-10-08T07:54:27.393526Z"
    }
   },
   "source": [
    "## 将两个温度异常区域的数据设置为nan"
   ]
  },
  {
   "cell_type": "code",
   "execution_count": 35,
   "id": "1a958aaf",
   "metadata": {
    "ExecuteTime": {
     "end_time": "2025-07-10T13:43:06.383474Z",
     "start_time": "2025-07-10T13:43:06.305599Z"
    }
   },
   "outputs": [],
   "source": [
    "test = temp_depth_use[:,:,:,14:]\n",
    "test[test < 0.4] = np.nan\n",
    "test[test > 10] = np.nan\n",
    "cat_data_ss_depth[:,:,:,19:] = test"
   ]
  },
  {
   "cell_type": "code",
   "execution_count": 37,
   "id": "10f15c0b",
   "metadata": {
    "ExecuteTime": {
     "end_time": "2025-07-10T13:43:07.174329Z",
     "start_time": "2025-07-10T13:43:07.169337Z"
    }
   },
   "outputs": [
    {
     "data": {
      "text/plain": [
       "(132, 280, 600, 20)"
      ]
     },
     "execution_count": 37,
     "metadata": {},
     "output_type": "execute_result"
    }
   ],
   "source": [
    "cat_data_ss_depth.shape "
   ]
  },
  {
   "cell_type": "markdown",
   "id": "b2596fa1",
   "metadata": {},
   "source": [
    "## 去掉合并数据中的nan\n"
   ]
  },
  {
   "cell_type": "code",
   "execution_count": 38,
   "id": "119f831a",
   "metadata": {
    "ExecuteTime": {
     "end_time": "2025-07-10T13:43:09.736734Z",
     "start_time": "2025-07-10T13:43:08.225841Z"
    }
   },
   "outputs": [
    {
     "name": "stdout",
     "output_type": "stream",
     "text": [
      "(280, 600, 132, 20)\n",
      "(168000, 2640)\n"
     ]
    }
   ],
   "source": [
    "cat_data_ss_depth_reshape  = np.transpose(cat_data_ss_depth,(1,2,0,3))\n",
    "print(cat_data_ss_depth_reshape.shape)\n",
    "cat_data_ss_depth_reshape = cat_data_ss_depth_reshape.reshape ((-1,132*20))\n",
    "print(cat_data_ss_depth_reshape.shape)"
   ]
  },
  {
   "cell_type": "code",
   "execution_count": 39,
   "id": "cb75b4fa",
   "metadata": {
    "ExecuteTime": {
     "end_time": "2025-07-10T13:43:11.897083Z",
     "start_time": "2025-07-10T13:43:09.889746Z"
    }
   },
   "outputs": [
    {
     "name": "stdout",
     "output_type": "stream",
     "text": [
      "cat_data_ss_depth_reshape删除nan值之前 (168000, 2640)\n",
      "cat_data_ss_depth_reshape删除nan值之后 (105632, 2640)\n"
     ]
    }
   ],
   "source": [
    "cat_data_ss_depth_reshape[cat_data_ss_depth_reshape == 32767] = np.nan\n",
    "print('cat_data_ss_depth_reshape删除nan值之前',cat_data_ss_depth_reshape.shape)\n",
    "nan_mask = np.isnan(cat_data_ss_depth_reshape)\n",
    "cat_data_ss_depth_reshape_without_nan = cat_data_ss_depth_reshape[~nan_mask.any(axis=1)]   \n",
    "print('cat_data_ss_depth_reshape删除nan值之后',cat_data_ss_depth_reshape_without_nan.shape)"
   ]
  },
  {
   "cell_type": "code",
   "execution_count": 40,
   "id": "e15bafbf",
   "metadata": {
    "ExecuteTime": {
     "end_time": "2025-07-10T13:43:11.903074Z",
     "start_time": "2025-07-10T13:43:11.898082Z"
    }
   },
   "outputs": [
    {
     "name": "stdout",
     "output_type": "stream",
     "text": [
      "(105632, 132, 20)\n",
      "(132, 105632, 20)\n"
     ]
    }
   ],
   "source": [
    "cat_data_ss_depth_reshape_without_nan = cat_data_ss_depth_reshape_without_nan.reshape(-1,132,20)\n",
    "print(cat_data_ss_depth_reshape_without_nan.shape)\n",
    "cat_data_ss_depth_reshape_without_nan = np.transpose(cat_data_ss_depth_reshape_without_nan,(1,0,2))\n",
    "print(cat_data_ss_depth_reshape_without_nan.shape)"
   ]
  },
  {
   "cell_type": "markdown",
   "id": "4e6a1f81",
   "metadata": {},
   "source": [
    "## 将数据进行堆叠"
   ]
  },
  {
   "cell_type": "code",
   "execution_count": 41,
   "id": "6c89cddb",
   "metadata": {
    "ExecuteTime": {
     "end_time": "2025-07-10T13:43:17.342491Z",
     "start_time": "2025-07-10T13:43:17.282587Z"
    }
   },
   "outputs": [
    {
     "name": "stdout",
     "output_type": "stream",
     "text": [
      "(132, 105632, 5) (132, 105632, 15)\n"
     ]
    }
   ],
   "source": [
    "cat_data_ss_depth_reshape_without_nan.shape\n",
    "cat_data = cat_data_ss_depth_reshape_without_nan[:,:,:5]\n",
    "temp_depth_use = cat_data_ss_depth_reshape_without_nan[:,:,5:]\n",
    "print(cat_data.shape,temp_depth_use.shape)"
   ]
  },
  {
   "cell_type": "code",
   "execution_count": 42,
   "id": "e95fefb9",
   "metadata": {
    "ExecuteTime": {
     "end_time": "2025-07-10T13:43:23.461263Z",
     "start_time": "2025-07-10T13:43:18.057912Z"
    }
   },
   "outputs": [
    {
     "name": "stdout",
     "output_type": "stream",
     "text": [
      "(127, 6, 105632, 5)\n",
      "(127, 1, 105632, 15)\n"
     ]
    }
   ],
   "source": [
    "available = len(cat_data) \n",
    "predict = 1\n",
    "\n",
    "cat_data_shape = cat_data.shape[1:]\n",
    "temp_depth_use_shape = temp_depth_use.shape[1:]\n",
    "\n",
    "N_stack = 6 \n",
    "\n",
    "X_len = available - (N_stack-1)\n",
    "Y_len = X_len\n",
    "\n",
    "X = np.zeros(shape = (X_len, N_stack,cat_data_shape[0],cat_data_shape[1]))  \n",
    "for i in range(X_len):\n",
    "    X[i] = np.stack(cat_data[i:i+N_stack])\n",
    "\n",
    "Y = np.zeros(shape = (Y_len,predict,temp_depth_use_shape[0],temp_depth_use_shape[1]))\n",
    "for i in range(Y_len):\n",
    "    Y[i] = np.stack(temp_depth_use[i+N_stack-1 : i+N_stack-1+predict])\n",
    "\n",
    "print(X.shape)\n",
    "print(Y.shape)"
   ]
  },
  {
   "cell_type": "markdown",
   "id": "23cadaf1",
   "metadata": {},
   "source": [
    "# 验证集和测试集的划分"
   ]
  },
  {
   "cell_type": "code",
   "execution_count": 43,
   "id": "ce22e0d5",
   "metadata": {
    "ExecuteTime": {
     "end_time": "2025-07-10T13:43:23.467254Z",
     "start_time": "2025-07-10T13:43:23.462262Z"
    }
   },
   "outputs": [],
   "source": [
    "test_num = 115\n",
    "x_train = X[:test_num]\n",
    "y_train = Y[:test_num]\n",
    "\n",
    "x_test = X[test_num:]\n",
    "y_test = Y[test_num:]"
   ]
  },
  {
   "cell_type": "code",
   "execution_count": 44,
   "id": "08307c9e",
   "metadata": {
    "ExecuteTime": {
     "end_time": "2025-07-10T13:43:23.473244Z",
     "start_time": "2025-07-10T13:43:23.468252Z"
    }
   },
   "outputs": [
    {
     "data": {
      "text/plain": [
       "((115, 6, 105632, 5),\n",
       " (115, 1, 105632, 15),\n",
       " (12, 6, 105632, 5),\n",
       " (12, 1, 105632, 15))"
      ]
     },
     "execution_count": 44,
     "metadata": {},
     "output_type": "execute_result"
    }
   ],
   "source": [
    "x_train.shape,y_train.shape,x_test.shape,y_test.shape "
   ]
  },
  {
   "cell_type": "markdown",
   "id": "e39d54ff",
   "metadata": {},
   "source": [
    "## 修改维度"
   ]
  },
  {
   "cell_type": "code",
   "execution_count": 45,
   "id": "62e8804e",
   "metadata": {
    "ExecuteTime": {
     "end_time": "2025-07-10T13:43:46.127031Z",
     "start_time": "2025-07-10T13:43:45.011816Z"
    }
   },
   "outputs": [
    {
     "name": "stdout",
     "output_type": "stream",
     "text": [
      "(12147680, 6, 5) (12147680, 1, 15) (1267584, 6, 5) (1267584, 1, 15)\n"
     ]
    }
   ],
   "source": [
    "x_train = np.transpose(x_train, (0,2,1,3)) \n",
    "x_train = x_train.reshape((-1,6,5)) \n",
    "\n",
    "y_train = np.transpose(y_train, (0,2,1,3))\n",
    "y_train = y_train.reshape((-1,1,15))\n",
    "\n",
    "x_test = np.transpose(x_test, (0,2,1,3))\n",
    "x_test = x_test.reshape((-1,6,5))\n",
    "\n",
    "y_test = np.transpose(y_test, (0,2,1,3))\n",
    "y_test = y_test.reshape((-1,1,15))\n",
    "print(x_train.shape,y_train.shape,x_test.shape,y_test.shape)"
   ]
  },
  {
   "cell_type": "markdown",
   "id": "82145a06",
   "metadata": {
    "ExecuteTime": {
     "end_time": "2023-09-27T11:16:55.407824Z",
     "start_time": "2023-09-27T11:16:55.403831Z"
    }
   },
   "source": [
    "## 划分训练数据和目标数据"
   ]
  },
  {
   "cell_type": "code",
   "execution_count": 46,
   "id": "ef288642",
   "metadata": {
    "ExecuteTime": {
     "end_time": "2025-07-10T13:43:54.928232Z",
     "start_time": "2025-07-10T13:43:54.923240Z"
    }
   },
   "outputs": [
    {
     "name": "stdout",
     "output_type": "stream",
     "text": [
      "x_test.shape: (1267584, 6, 5)\n",
      "y_test.shape (1267584, 1, 15)\n",
      "x_train (12147680, 6, 5)\n",
      "y_train (12147680, 1, 15)\n"
     ]
    }
   ],
   "source": [
    "print('x_test.shape:',x_test.shape)\n",
    "print('y_test.shape',y_test.shape)\n",
    "print('x_train',x_train.shape)\n",
    "print('y_train',y_train.shape)"
   ]
  },
  {
   "cell_type": "code",
   "execution_count": 47,
   "id": "57afe328",
   "metadata": {
    "ExecuteTime": {
     "end_time": "2025-07-10T13:44:04.275612Z",
     "start_time": "2025-07-10T13:44:00.643332Z"
    }
   },
   "outputs": [],
   "source": [
    "x_train, x_val, y_train, y_val = train_test_split(x_train, y_train, test_size=0.3, random_state=100)\n",
    "x_train.shape,x_test.shape,x_val.shape,y_train.shape,y_test.shape,y_val.shape"
   ]
  },
  {
   "cell_type": "markdown",
   "id": "4adfdb57",
   "metadata": {},
   "source": [
    "# 特征归一化"
   ]
  },
  {
   "cell_type": "code",
   "execution_count": 50,
   "id": "0e7a1057",
   "metadata": {
    "ExecuteTime": {
     "end_time": "2025-07-10T13:44:04.535197Z",
     "start_time": "2025-07-10T13:44:04.531203Z"
    },
    "code_folding": []
   },
   "outputs": [],
   "source": [
    "x_train_shape = x_train.shape\n",
    "y_train_shape = y_train.shape\n",
    "\n",
    "x_test_shape = x_test.shape\n",
    "y_test_shape = y_test.shape\n",
    "\n",
    "x_val_shape = x_val.shape\n",
    "y_val_shape = y_val.shape"
   ]
  },
  {
   "cell_type": "code",
   "execution_count": 51,
   "id": "9e19fa83",
   "metadata": {
    "ExecuteTime": {
     "end_time": "2025-07-10T13:44:31.666150Z",
     "start_time": "2025-07-10T13:44:21.435935Z"
    }
   },
   "outputs": [],
   "source": [
    "scaler_f = StandardScaler()\n",
    "x_train = scaler_f.fit_transform(x_train.reshape(-1,x_train_shape[2])) \n",
    "x_test = scaler_f.transform(x_test.reshape(-1,x_test_shape[2]))\n",
    "x_val = scaler_f.transform(x_val.reshape(-1,x_val_shape[2]))\n",
    "\n",
    "scaler_l = StandardScaler()\n",
    "y_train = scaler_l.fit_transform(y_train.reshape(-1,y_train_shape[2])) \n",
    "y_test = scaler_l.transform(y_test.reshape(-1,y_test_shape[2])) \n",
    "y_val = scaler_l.transform(y_val.reshape(-1,y_val_shape[2])) "
   ]
  },
  {
   "cell_type": "code",
   "execution_count": 52,
   "id": "5efe52e7",
   "metadata": {
    "ExecuteTime": {
     "end_time": "2025-07-10T13:44:31.672140Z",
     "start_time": "2025-07-10T13:44:31.668146Z"
    }
   },
   "outputs": [],
   "source": [
    "x_train = np.reshape(x_train,(x_train_shape))\n",
    "x_test = np.reshape(x_test,(x_test_shape))\n",
    "x_val = np.reshape(x_val,(x_val_shape))\n",
    "y_train = np.reshape(y_train,(y_train_shape[0],-1))\n",
    "y_test = np.reshape(y_test,(y_test_shape[0],-1))\n",
    "y_val = np.reshape(y_val,(y_val_shape[0],-1))"
   ]
  },
  {
   "cell_type": "code",
   "execution_count": 53,
   "id": "5cd9d9f6",
   "metadata": {
    "ExecuteTime": {
     "end_time": "2025-07-10T13:44:31.678131Z",
     "start_time": "2025-07-10T13:44:31.673139Z"
    }
   },
   "outputs": [
    {
     "data": {
      "text/plain": [
       "((8503376, 6, 5),\n",
       " (1267584, 6, 5),\n",
       " (3644304, 6, 5),\n",
       " (8503376, 15),\n",
       " (1267584, 15),\n",
       " (3644304, 15))"
      ]
     },
     "execution_count": 53,
     "metadata": {},
     "output_type": "execute_result"
    }
   ],
   "source": [
    "x_train.shape,x_test.shape,x_val.shape,y_train.shape,y_test.shape,y_val.shape"
   ]
  },
  {
   "cell_type": "markdown",
   "id": "82214b18",
   "metadata": {},
   "source": [
    "# 定义网络结构"
   ]
  },
  {
   "cell_type": "code",
   "execution_count": 57,
   "id": "db386094",
   "metadata": {
    "ExecuteTime": {
     "end_time": "2025-07-10T13:46:15.461480Z",
     "start_time": "2025-07-10T13:46:15.454491Z"
    }
   },
   "outputs": [],
   "source": [
    "class Attention(Layer):\n",
    "    def __init__(self, units=128, **kwargs):\n",
    "        self.units = units\n",
    "        super().__init__(**kwargs)\n",
    "        \n",
    "    def __call__(self, inputs):\n",
    "        \"\"\"\n",
    "        Keras的多对一注意力机制。\n",
    "        @param inputs: 3D tensor with shape (batch_size, time_steps, input_dim).\n",
    "        @return: 2D tensor with shape (batch_size, 128)\n",
    "        \"\"\"\n",
    "        \n",
    "        hidden_states = inputs\n",
    "        hidden_size = int(hidden_states.shape[2])  \n",
    "        score_first_part = Dense(hidden_size, use_bias=False)(hidden_states) \n",
    "        h_t = Lambda(lambda x: x[:, -1, :], output_shape=(hidden_size,))(hidden_states)\n",
    "        score = Dot(axes=[1, 2])([h_t, score_first_part])  \n",
    "        attention_weights = Activation('softmax')(score)\n",
    "\n",
    "        context_vector = Dot(axes=[1, 1])([hidden_states, attention_weights])  \n",
    "        pre_activation = Concatenate()([context_vector, h_t]) \n",
    "        attention_vector = Dense(self.units, use_bias=False, activation='tanh')(pre_activation) \n",
    "        \n",
    "        return attention_vector\n",
    "\n",
    "    def get_config(self):\n",
    "        return {'units': self.units}\n",
    "\n",
    "    @classmethod\n",
    "    def from_config(cls, config):\n",
    "        return cls(**config)"
   ]
  },
  {
   "cell_type": "code",
   "execution_count": 58,
   "id": "4ca1bdae",
   "metadata": {
    "ExecuteTime": {
     "end_time": "2025-07-10T13:46:16.250884Z",
     "start_time": "2025-07-10T13:46:16.245892Z"
    }
   },
   "outputs": [],
   "source": [
    "def my_model():\n",
    "    \n",
    "    model_input= Input(shape=(6,5))\n",
    "   \n",
    "    model= LSTM(64, return_sequences=True)(model_input)   \n",
    "    model = Dropout(0.2)(model)\n",
    "    \n",
    "    model = LSTM(32, return_sequences=True)(model)\n",
    "    model = Attention()(model)\n",
    "    \n",
    "    model = Flatten()(model)\n",
    "    \n",
    "    out = Dense(1)(model)\n",
    "    model = Model(inputs=model_input, outputs=out)\n",
    "    return model"
   ]
  },
  {
   "cell_type": "code",
   "execution_count": null,
   "id": "c06cc75d-9c9a-4cac-98fb-cf7aa64ea686",
   "metadata": {},
   "outputs": [],
   "source": [
    "import graphviz\n",
    "model = my_model()\n",
    "plot_model(model,show_shapes=True,show_layer_names=True)"
   ]
  },
  {
   "cell_type": "markdown",
   "id": "613e01d6",
   "metadata": {},
   "source": [
    "## 训练30-1000m"
   ]
  },
  {
   "cell_type": "code",
   "execution_count": 61,
   "id": "2de091a3",
   "metadata": {
    "ExecuteTime": {
     "end_time": "2025-07-10T13:47:08.893190Z",
     "start_time": "2025-07-10T13:47:08.887199Z"
    }
   },
   "outputs": [],
   "source": [
    "def train_model(x_train,y_train,x_val,y_val,name):\n",
    "    model = my_model()\n",
    "    model.compile(loss='mse', optimizer='adam')\n",
    "    checkpoint_path=name\n",
    "    keras_callbacks   = [\n",
    "          EarlyStopping(monitor='val_loss', patience=30, mode='min', min_delta=0.001),\n",
    "          ModelCheckpoint(checkpoint_path, monitor='val_loss', save_best_only=True, mode='min')\n",
    "    ]\n",
    "    model.fit(x_train, y_train, validation_data=(x_val,y_val),\n",
    "                    epochs=200, batch_size=10240, verbose=2, callbacks=keras_callbacks)"
   ]
  },
  {
   "cell_type": "code",
   "execution_count": 62,
   "id": "89909c73",
   "metadata": {
    "ExecuteTime": {
     "end_time": "2025-07-10T13:47:10.043575Z",
     "start_time": "2025-07-10T13:47:10.038583Z"
    }
   },
   "outputs": [
    {
     "data": {
      "text/plain": [
       "((8503376, 6, 5), (8503376, 15), (3644304, 6, 5), (3644304, 15))"
      ]
     },
     "execution_count": 62,
     "metadata": {},
     "output_type": "execute_result"
    }
   ],
   "source": [
    "x_train.shape,y_train.shape,x_val.shape,y_val.shape"
   ]
  },
  {
   "cell_type": "code",
   "execution_count": null,
   "id": "34f24019-d93f-4513-bae8-8a76d79aa556",
   "metadata": {},
   "outputs": [],
   "source": [
    "depth = [30,50,100,125,150,200,250,300,400,500,600,700,800,900,1000]\n",
    "for i in range(0,3):\n",
    "    train_model(x_train,y_train[:,i:i+1],x_val,y_val[:,i:i+1],\n",
    "                'D:/LSTM/temp/LSTM_temp_30_1000m_'+str(depth[i])+'m.h5')"
   ]
  },
  {
   "cell_type": "markdown",
   "id": "1275d7a0",
   "metadata": {},
   "source": [
    "## 模型评估"
   ]
  },
  {
   "cell_type": "code",
   "execution_count": 66,
   "id": "a7d0b3be",
   "metadata": {
    "ExecuteTime": {
     "end_time": "2025-07-10T14:05:20.663762Z",
     "start_time": "2025-07-10T14:05:20.653778Z"
    },
    "code_folding": [
     0,
     3,
     16,
     45
    ]
   },
   "outputs": [],
   "source": [
    "import math\n",
    "def acc(actual, predicted):\n",
    "    pred_avg = np.average(predicted)\n",
    "\n",
    "    act_avg = np.average(actual)\n",
    "    diff_pred = predicted - pred_avg\n",
    "    diff_act = actual - act_avg\n",
    "    numerator = np.mean(np.sum(diff_pred*diff_act, axis=0))\n",
    "    denominator = math.sqrt(np.mean(np.sum(diff_pred**2, axis=0)) * np.mean(np.sum(diff_act**2, axis=0)))\n",
    "    ret_val = numerator/denominator\n",
    "    return (100 * ret_val)\n",
    "\n",
    "def look_loss(history):\n",
    "    plt.figure(figsize=(6.3, 2.5), dpi = 100)\n",
    "    plt.plot(history.history['loss'], label='training data')\n",
    "    plt.plot(history.history['val_loss'], label='validation data')\n",
    "    plt.title('Loss')\n",
    "    plt.ylabel('MSE Loss')\n",
    "    plt.xlabel('Number of epochs')\n",
    "    plt.grid()\n",
    "    plt.legend(loc=\"upper right\")\n",
    "    plt.show()\n",
    "\n",
    "def all_estimate(best_model,x_test,y_test):\n",
    "    testPred_1 = best_model.predict(x_test)\n",
    "    a = y_test\n",
    "    y_test_p = a.reshape(-1,1)\n",
    "    testPred_p = testPred_1.reshape(-1,1)\n",
    "\n",
    "    rmse = sqrt(mean_squared_error(y_test_p,testPred_p))\n",
    "    print('Test RMSE: %.3f' % rmse)\n",
    "\n",
    "    print('acc:',acc(y_test_p,testPred_p))\n",
    "\n",
    "    r2 = r2_score(y_test_p,testPred_p)\n",
    "    print(\"R² score:\", r2)  \n",
    "    \n",
    "def respective_estimate(best_model,x_test,y_test):\n",
    "    re2_list = []\n",
    "    rmse_list = []\n",
    "    for i in range(6):\n",
    "        testPred = best_model.predict(x_test[i:i+1])\n",
    "        a = y_test[i:i+1]\n",
    "        y_test_p = a.reshape(-1,1)\n",
    "        testPred_p = testPred.reshape(-1,1)\n",
    "        r2 = r2_score(y_test_p,testPred_p)\n",
    "        rmse = sqrt(mean_squared_error(y_test_p,testPred_p))\n",
    "        re2_list.append(r2)\n",
    "        rmse_list.append(rmse)    \n",
    "    return re2_list,rmse_list"
   ]
  },
  {
   "cell_type": "markdown",
   "id": "3f0aad38",
   "metadata": {},
   "source": [
    "### 结果评估"
   ]
  },
  {
   "cell_type": "code",
   "execution_count": 67,
   "id": "9bf805b3",
   "metadata": {
    "ExecuteTime": {
     "end_time": "2025-07-10T14:08:13.576471Z",
     "start_time": "2025-07-10T14:05:28.037979Z"
    }
   },
   "outputs": [
    {
     "name": "stdout",
     "output_type": "stream",
     "text": [
      "30测试集：\n",
      "Test RMSE: 0.056\n",
      "acc: 99.84598265041352\n",
      "R² score: 0.9967916349901159\n",
      "50测试集：\n",
      "Test RMSE: 0.094\n",
      "acc: 99.56775031743253\n",
      "R² score: 0.9908998312633808\n",
      "100测试集：\n",
      "Test RMSE: 0.132\n",
      "acc: 99.11663270032808\n",
      "R² score: 0.9799677526191419\n"
     ]
    }
   ],
   "source": [
    "depth = [30,50,100,125,150,200,250,300,400,500,600,700,800,900,1000]\n",
    "result = [] \n",
    "for i in range(0,15):\n",
    "    best_model = tf.keras.models.load_model('D:/LSTM/temp/LSTM_temp_30_1000m_'+str(depth[i])+'m.h5')\n",
    "    print('预测第'+str(depth[i])+'m温度的评价')\n",
    "    all_estimate(best_model,x_test,y_test[:,i:i+1])\n",
    "    testPred = best_model.predict(x_test)\n",
    "    result.append(testPred)"
   ]
  },
  {
   "cell_type": "markdown",
   "id": "ba59e8a9",
   "metadata": {},
   "source": [
    "## 反归一化结果评价"
   ]
  },
  {
   "cell_type": "code",
   "execution_count": null,
   "id": "797531eb",
   "metadata": {},
   "outputs": [],
   "source": [
    "result = np.array(result)\n",
    "print(result.shape)\n",
    "result = np.transpose(result,(1,2,0))\n",
    "print(result.shape)\n",
    "result = result.reshape(-1,15)\n",
    "print(result.shape)\n",
    "y_test = y_test.reshape(-1,15)\n",
    "print(y_test.shape)"
   ]
  },
  {
   "cell_type": "code",
   "execution_count": null,
   "id": "e3217bd8",
   "metadata": {},
   "outputs": [],
   "source": [
    "result_unscaled = scaler_l.inverse_transform(result)\n",
    "y_test_unscaled = scaler_l.inverse_transform(y_test)\n",
    "result_unscaled.shape,y_test.shape"
   ]
  },
  {
   "cell_type": "code",
   "execution_count": null,
   "id": "9712a82c",
   "metadata": {},
   "outputs": [],
   "source": [
    "for i in range(0,15):\n",
    "    print('预测第'+str(depth[i])+'m温度的评价')\n",
    "    rmse = sqrt(mean_squared_error(y_test_unscaled[:,i],result_unscaled[:,i]))\n",
    "    print('Test RMSE: %.3f' % rmse)\n",
    "    r2 = r2_score(y_test_unscaled[:,i],result_unscaled[:,i])\n",
    "    print('R² score:',r2)"
   ]
  },
  {
   "cell_type": "markdown",
   "id": "5aa065c9",
   "metadata": {},
   "source": [
    "# 预测结果可视化"
   ]
  },
  {
   "cell_type": "markdown",
   "id": "12b57477",
   "metadata": {},
   "source": [
    "## 为预测值和真实值填充nan"
   ]
  },
  {
   "cell_type": "code",
   "execution_count": null,
   "id": "a778c00c",
   "metadata": {
    "ExecuteTime": {
     "end_time": "2023-11-01T03:14:56.437303Z",
     "start_time": "2023-11-01T03:14:56.437303Z"
    }
   },
   "outputs": [],
   "source": [
    "cat_data_ss_depth_test = np.transpose(cat_data_ss_depth,(1,2,0,3))\n",
    "print(cat_data_ss_depth_test.shape)\n",
    "cat_data_ss_depth_test = cat_data_ss_depth_test.reshape ((-1,132*20))\n",
    "print(cat_data_ss_depth_test.shape)"
   ]
  },
  {
   "cell_type": "code",
   "execution_count": null,
   "id": "5b1987b8",
   "metadata": {
    "ExecuteTime": {
     "end_time": "2023-11-01T03:14:56.438301Z",
     "start_time": "2023-11-01T03:14:56.438301Z"
    }
   },
   "outputs": [],
   "source": [
    "cat_data_ss_depth_test[cat_data_ss_depth_test == 32767] = np.nan\n",
    "print('cat_data_ss_depth_test删除nan值之前',cat_data_ss_depth_test.shape)\n",
    "nan_mask = np.isnan(cat_data_ss_depth_test)"
   ]
  },
  {
   "cell_type": "code",
   "execution_count": null,
   "id": "ff223b20",
   "metadata": {
    "ExecuteTime": {
     "end_time": "2023-11-01T03:14:56.438301Z",
     "start_time": "2023-11-01T03:14:56.438301Z"
    }
   },
   "outputs": [],
   "source": [
    "nan_mask[nan_mask.any(axis=1) == True] = True\n",
    "nan_masks = nan_mask[:,1]"
   ]
  },
  {
   "cell_type": "code",
   "execution_count": null,
   "id": "c129cf08",
   "metadata": {
    "ExecuteTime": {
     "end_time": "2023-11-01T03:14:56.439300Z",
     "start_time": "2023-11-01T03:14:56.439300Z"
    }
   },
   "outputs": [],
   "source": [
    "testPred_with_nan = np.full((168000,12*15), np.nan)  \n",
    "print(testPred_with_nan.shape)\n",
    "y_test_with_nan = np.full((168000,12*15), np.nan)  \n",
    "print(y_test_with_nan.shape)"
   ]
  },
  {
   "cell_type": "code",
   "execution_count": null,
   "id": "c08d831b",
   "metadata": {
    "ExecuteTime": {
     "end_time": "2023-11-01T03:14:56.440298Z",
     "start_time": "2023-11-01T03:14:56.440298Z"
    }
   },
   "outputs": [],
   "source": [
    "result_unscaled_reshape = result_unscaled.reshape(12,-1,15)\n",
    "print(result_unscaled_reshape.shape)\n",
    "result_unscaled_reshape = np.transpose(result_unscaled_reshape,(1,0,2))\n",
    "print(result_unscaled_reshape.shape)\n",
    "result_unscaled_reshape = result_unscaled_reshape.reshape(-1,12*15)\n",
    "print(result_unscaled_reshape.shape)\n",
    "\n",
    "# ======================================== #\n",
    "\n",
    "y_test_unscaled_reshape = y_test_unscaled.reshape(12,-1,15)\n",
    "print(y_test_unscaled_reshape.shape)\n",
    "y_test_unscaled_reshape = np.transpose(y_test_unscaled_reshape,(1,0,2))\n",
    "print(y_test_unscaled_reshape.shape)\n",
    "y_test_unscaled_reshape = y_test_unscaled_reshape.reshape(-1,12*15)\n",
    "print(y_test_unscaled_reshape.shape)"
   ]
  },
  {
   "cell_type": "code",
   "execution_count": null,
   "id": "df4f93fa",
   "metadata": {
    "ExecuteTime": {
     "end_time": "2023-11-01T03:14:56.441297Z",
     "start_time": "2023-11-01T03:14:56.441297Z"
    }
   },
   "outputs": [],
   "source": [
    "y_test_unscaled.shape, y_test_unscaled_reshape.shape"
   ]
  },
  {
   "cell_type": "code",
   "execution_count": null,
   "id": "9a971489",
   "metadata": {
    "ExecuteTime": {
     "end_time": "2023-11-01T03:14:56.442295Z",
     "start_time": "2023-11-01T03:14:56.442295Z"
    }
   },
   "outputs": [],
   "source": [
    "num = 0\n",
    "for i,nan_mask in enumerate(nan_masks): \n",
    "    if (nan_mask == False):\n",
    "        testPred_with_nan[i] = result_unscaled_reshape[num]\n",
    "        y_test_with_nan[i] = y_test_unscaled_reshape[num]\n",
    "        num = num + 1\n",
    "print(num)"
   ]
  },
  {
   "cell_type": "code",
   "execution_count": null,
   "id": "a7c301e2",
   "metadata": {
    "ExecuteTime": {
     "end_time": "2023-11-01T03:14:56.443293Z",
     "start_time": "2023-11-01T03:14:56.443293Z"
    }
   },
   "outputs": [],
   "source": [
    "testPred_with_nan = testPred_with_nan.reshape(280, 600,12,15)\n",
    "testPred_with_nan = np.transpose(testPred_with_nan,(2,3,0,1))\n",
    "\n",
    "y_test_with_nan = y_test_with_nan.reshape(280, 600,12,15)\n",
    "y_test_with_nan = np.transpose(y_test_with_nan,(2,3,0,1))\n",
    "\n",
    "print(testPred_with_nan.shape,y_test_with_nan.shape)"
   ]
  },
  {
   "cell_type": "markdown",
   "id": "b6dfa8f2",
   "metadata": {
    "ExecuteTime": {
     "end_time": "2023-10-06T13:07:37.341964Z",
     "start_time": "2023-10-06T13:07:37.302028Z"
    }
   },
   "source": [
    "# 结果可视化"
   ]
  },
  {
   "cell_type": "code",
   "execution_count": null,
   "id": "347081c6",
   "metadata": {
    "ExecuteTime": {
     "end_time": "2023-11-01T03:14:56.444292Z",
     "start_time": "2023-11-01T03:14:56.444292Z"
    }
   },
   "outputs": [],
   "source": [
    "lat = []\n",
    "lon = []\n",
    "time = []\n",
    "lon.append(data_ssh['lon'][:].data)\n",
    "lat.append(data_ssh['lat'][:].data)"
   ]
  },
  {
   "cell_type": "code",
   "execution_count": null,
   "id": "fa3a8f00",
   "metadata": {
    "ExecuteTime": {
     "end_time": "2023-11-01T03:14:56.445290Z",
     "start_time": "2023-11-01T03:14:56.445290Z"
    }
   },
   "outputs": [],
   "source": [
    "start_year = 2015\n",
    "end_year =2015\n",
    "time = []\n",
    "date_range = pd.date_range(datetime(start_year,1,1),datetime(end_year+1,1,1),freq='1M')\n",
    "len(date_range)\n",
    "for i in range(len(date_range)):\n",
    "    time.append(i)"
   ]
  },
  {
   "cell_type": "code",
   "execution_count": null,
   "id": "a4751334",
   "metadata": {
    "ExecuteTime": {
     "end_time": "2023-11-01T03:14:56.447287Z",
     "start_time": "2023-11-01T03:14:56.447287Z"
    }
   },
   "outputs": [],
   "source": [
    "new_NC = nc.Dataset(\"D:/LSTM/result_temp_LSTM_30_1000m.nc\", 'w', format='NETCDF4')\n",
    "'''\n",
    "定义维度，后一个参数表示维度的长度，因为是合并的同一个产品的数据，所以是统一\n",
    "的,注意维度的长度一定要和读入的数据匹配\n",
    "'''\n",
    "new_NC.createDimension('lat', len(lat[0]))\n",
    "new_NC.createDimension('lon', len(lon[0]))\n",
    "new_NC.createDimension('depth', 15)\n",
    "new_NC.createDimension('time', len(time))\n",
    "\n",
    "new_NC.createVariable('lat', 'f', (\"lat\"))\n",
    "new_NC.createVariable('lon', 'f', (\"lon\"))\n",
    "new_NC.createVariable('depth', 'f', (\"depth\"))\n",
    "new_NC.createVariable('true_stt', 'f',(\"time\",\"depth\",\"lat\",\"lon\"))\n",
    "new_NC.createVariable('pred_stt', 'f',(\"time\",\"depth\",\"lat\",\"lon\"))\n",
    "\n",
    "time_var = new_NC.createVariable('time', 'f4',(\"time\"))\n",
    "time_var.units = 'months since 2015-01-15'\n",
    "time_var.long_name = 'Months in Monthly Means'\n",
    "time_var.axis = 'T'\n",
    "\n",
    "new_NC.variables['lat'][:] = lat[0]\n",
    "new_NC.variables['lon'][:] = lon[0]\n",
    "new_NC.variables['time'][:] = np.array(time)\n",
    "new_NC.variables['depth'][:] = depth\n",
    "\n",
    "new_NC.variables['true_stt'][:]=np.array(y_test_with_nan)\n",
    "new_NC.variables['pred_stt'][:]=np.array(testPred_with_nan)\n",
    "\n",
    "new_NC.close()"
   ]
  }
 ],
 "metadata": {
  "kernelspec": {
   "display_name": "Python 3 (ipykernel)",
   "language": "python",
   "name": "python3"
  },
  "language_info": {
   "codemirror_mode": {
    "name": "ipython",
    "version": 3
   },
   "file_extension": ".py",
   "mimetype": "text/x-python",
   "name": "python",
   "nbconvert_exporter": "python",
   "pygments_lexer": "ipython3",
   "version": "3.9.20"
  },
  "toc": {
   "base_numbering": 1,
   "nav_menu": {},
   "number_sections": true,
   "sideBar": true,
   "skip_h1_title": false,
   "title_cell": "Table of Contents",
   "title_sidebar": "Contents",
   "toc_cell": false,
   "toc_position": {
    "height": "calc(100% - 180px)",
    "left": "10px",
    "top": "150px",
    "width": "244.4px"
   },
   "toc_section_display": true,
   "toc_window_display": true
  }
 },
 "nbformat": 4,
 "nbformat_minor": 5
}
