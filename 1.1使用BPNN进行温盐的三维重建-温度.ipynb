{
 "cells": [
  {
   "cell_type": "code",
   "execution_count": 53,
   "id": "24cc7c46",
   "metadata": {
    "ExecuteTime": {
     "end_time": "2025-07-10T11:27:26.457757Z",
     "start_time": "2025-07-10T11:27:26.445777Z"
    },
    "code_folding": []
   },
   "outputs": [],
   "source": [
    "#导包\n",
    "from netCDF4 import Dataset\n",
    "from tensorflow.keras import layers, models\n",
    "from tensorflow.keras.layers import ConvLSTM2D, BatchNormalization, LayerNormalization,Input, Conv3D, TimeDistributed, Flatten\n",
    "from tensorflow.keras.layers import Concatenate,Conv2D,TimeDistributed, MaxPooling2D, Input, MaxPooling3D\n",
    "from tensorflow.keras.layers import  Reshape,multiply\n",
    "from tensorflow.keras.layers import Layer,Lambda,Dot,ReLU,LSTM, Dense, Dropout, Activation, Flatten,Attention\n",
    "from tensorflow.keras.utils import plot_model\n",
    "from tensorflow.keras.models import Sequential,Model,load_model\n",
    "from tensorflow.keras.optimizers import Adam,SGD\n",
    "from sklearn.model_selection import train_test_split\n",
    "from tensorflow.keras.callbacks import EarlyStopping, ModelCheckpoint\n",
    "from sklearn.preprocessing import MinMaxScaler, StandardScaler\n",
    "from tensorflow.keras.losses import MeanSquaredError\n",
    "from sklearn.metrics import r2_score,accuracy_score,precision_score\n",
    "from tensorflow.keras.metrics import RootMeanSquaredError\n",
    "from tensorflow.keras import regularizers\n",
    "import tensorflow as tf\n",
    "from datetime import datetime\n",
    "from sklearn.model_selection import cross_val_score\n",
    "from sklearn.model_selection import GridSearchCV\n",
    "from tensorflow.keras import models, layers\n",
    "from tensorflow.keras.wrappers.scikit_learn import KerasRegressor\n",
    "import tensorflow.keras as keras\n",
    "from tensorflow.keras import layers, Sequential, regularizers\n",
    "# calculate RMSE\n",
    "from sklearn.metrics import mean_squared_error\n",
    "from math import sqrt\n",
    "import pandas as pd \n",
    "import tensorflow as tf\n",
    "import gc \n",
    "import gzip\n",
    "import matplotlib.pyplot as plt\n",
    "import numpy as np\n",
    "import netCDF4 as nc\n",
    "import match\n",
    "import numpy as np\n",
    "import matplotlib.pyplot as plt\n",
    "import xarray as xr\n",
    "import os \n",
    "%matplotlib inline"
   ]
  },
  {
   "cell_type": "code",
   "execution_count": 54,
   "id": "619adb84",
   "metadata": {
    "ExecuteTime": {
     "end_time": "2025-07-10T11:27:26.698960Z",
     "start_time": "2025-07-10T11:27:26.693968Z"
    }
   },
   "outputs": [
    {
     "data": {
      "text/plain": [
       "1"
      ]
     },
     "execution_count": 54,
     "metadata": {},
     "output_type": "execute_result"
    }
   ],
   "source": [
    "len(tf.config.experimental.list_physical_devices('GPU'))"
   ]
  },
  {
   "cell_type": "markdown",
   "id": "f580b19d",
   "metadata": {},
   "source": [
    "# 读取数据"
   ]
  },
  {
   "cell_type": "markdown",
   "id": "a969a48c",
   "metadata": {},
   "source": [
    "## SSH"
   ]
  },
  {
   "cell_type": "code",
   "execution_count": 55,
   "id": "a2879bf4",
   "metadata": {
    "ExecuteTime": {
     "end_time": "2025-07-10T11:27:27.322502Z",
     "start_time": "2025-07-10T11:27:27.317510Z"
    }
   },
   "outputs": [],
   "source": [
    "data_ssh = nc.Dataset(r'D:/data/SSH/SSH_2005-2015_month.nc')"
   ]
  },
  {
   "cell_type": "code",
   "execution_count": 56,
   "id": "8d073208",
   "metadata": {
    "ExecuteTime": {
     "end_time": "2025-07-10T11:27:27.546144Z",
     "start_time": "2025-07-10T11:27:27.541151Z"
    }
   },
   "outputs": [
    {
     "name": "stdout",
     "output_type": "stream",
     "text": [
      "132\n"
     ]
    }
   ],
   "source": [
    "time_ssh = data_ssh['time'][:]\n",
    "print(len(time_ssh))\n",
    "ssh_lat = data_ssh['lat'][:].data\n",
    "ssh_lon = data_ssh['lon'][:].data\n",
    "ssh = data_ssh['ssh'][:].data\n",
    "print(ssh.shape)"
   ]
  },
  {
   "cell_type": "code",
   "execution_count": 59,
   "id": "979f6649",
   "metadata": {
    "ExecuteTime": {
     "end_time": "2025-07-10T11:27:28.290228Z",
     "start_time": "2025-07-10T11:27:28.213351Z"
    }
   },
   "outputs": [
    {
     "data": {
      "text/plain": [
       "(2.20051, -0.43673334)"
      ]
     },
     "execution_count": 59,
     "metadata": {},
     "output_type": "execute_result"
    }
   ],
   "source": [
    "np.nanmax(ssh),np.nanmin(ssh)"
   ]
  },
  {
   "cell_type": "markdown",
   "id": "203facec",
   "metadata": {},
   "source": [
    "## SSS"
   ]
  },
  {
   "cell_type": "code",
   "execution_count": 60,
   "id": "7fde41f7",
   "metadata": {
    "ExecuteTime": {
     "end_time": "2025-07-10T11:27:28.673541Z",
     "start_time": "2025-07-10T11:27:28.669547Z"
    }
   },
   "outputs": [],
   "source": [
    "data_sss = nc.Dataset(r'D:/data/SSS/SSS_2005-2020_month.nc')"
   ]
  },
  {
   "cell_type": "code",
   "execution_count": 61,
   "id": "97c14ff6",
   "metadata": {
    "ExecuteTime": {
     "end_time": "2025-07-10T11:27:29.010538Z",
     "start_time": "2025-07-10T11:27:29.005546Z"
    }
   },
   "outputs": [
    {
     "name": "stdout",
     "output_type": "stream",
     "text": [
      "132\n"
     ]
    }
   ],
   "source": [
    "time_sss = data_sss['time'][:132]\n",
    "print(len(time_sss))\n",
    "sss_lat = data_sss['lat'][:].data\n",
    "sss_lon = data_sss['lon'][:].data\n",
    "sss = data_sss['sos'][:132].data \n",
    "print(sss.shape)\n",
    "sss = np.squeeze(sss)\n",
    "print(sss.shape)"
   ]
  },
  {
   "cell_type": "code",
   "execution_count": 64,
   "id": "31674b65",
   "metadata": {
    "ExecuteTime": {
     "end_time": "2025-07-10T11:27:30.249140Z",
     "start_time": "2025-07-10T11:27:30.173262Z"
    }
   },
   "outputs": [
    {
     "data": {
      "text/plain": [
       "(36.072178, 13.604756)"
      ]
     },
     "execution_count": 64,
     "metadata": {},
     "output_type": "execute_result"
    }
   ],
   "source": [
    "np.nanmax(sss),np.nanmin(sss)"
   ]
  },
  {
   "cell_type": "markdown",
   "id": "12d5c8e2",
   "metadata": {},
   "source": [
    "## SSW"
   ]
  },
  {
   "cell_type": "code",
   "execution_count": 65,
   "id": "d026b883",
   "metadata": {
    "ExecuteTime": {
     "end_time": "2025-07-10T11:27:31.682688Z",
     "start_time": "2025-07-10T11:27:31.677696Z"
    }
   },
   "outputs": [],
   "source": [
    "data_ssw = nc.Dataset(r'D:/data/SSW/SSW_2005-2018_month.nc')"
   ]
  },
  {
   "cell_type": "code",
   "execution_count": 67,
   "id": "447b145c",
   "metadata": {
    "ExecuteTime": {
     "end_time": "2025-07-10T11:27:32.666626Z",
     "start_time": "2025-07-10T11:27:32.661634Z"
    }
   },
   "outputs": [],
   "source": [
    "time_ssw = data_ssw['time'][:132]\n",
    "print(len(time_ssw))\n",
    "lat_ssw = data_ssw['lat'][:].data\n",
    "lon_ssw = data_ssw['lon'][:].data"
   ]
  },
  {
   "cell_type": "code",
   "execution_count": 68,
   "id": "68eef6fa",
   "metadata": {
    "ExecuteTime": {
     "end_time": "2025-07-10T11:27:33.550825Z",
     "start_time": "2025-07-10T11:27:33.301225Z"
    }
   },
   "outputs": [],
   "source": [
    "uwnd = data_ssw['uwnd'][:132,314:594,440:1040].data  \n",
    "vwnd = data_ssw['vwnd'][:132,314:594,440:1040].data\n",
    "print(uwnd.shape)\n",
    "print(vwnd.shape)"
   ]
  },
  {
   "cell_type": "code",
   "execution_count": 70,
   "id": "2d721126",
   "metadata": {
    "ExecuteTime": {
     "end_time": "2025-07-10T11:27:34.323281Z",
     "start_time": "2025-07-10T11:27:34.261380Z"
    }
   },
   "outputs": [
    {
     "data": {
      "text/plain": [
       "(12.433594, -11.7988205, 8.8359995, -13.645481)"
      ]
     },
     "execution_count": 70,
     "metadata": {},
     "output_type": "execute_result"
    }
   ],
   "source": [
    "np.nanmax(uwnd),np.nanmin(uwnd),np.nanmax(vwnd),np.nanmin(vwnd)"
   ]
  },
  {
   "cell_type": "markdown",
   "id": "4334792f",
   "metadata": {},
   "source": [
    "## 3DT"
   ]
  },
  {
   "cell_type": "code",
   "execution_count": 71,
   "id": "e02ac03d",
   "metadata": {
    "ExecuteTime": {
     "end_time": "2025-07-10T11:27:35.426563Z",
     "start_time": "2025-07-10T11:27:35.421571Z"
    }
   },
   "outputs": [],
   "source": [
    "data_3dt_1 = nc.Dataset(r'D:/data/3DTS/3DT_2005-2009_month.nc')\n",
    "data_3dt_2 = nc.Dataset(r'D:/data/3DTS/3DT_2010-2015_month.nc')"
   ]
  },
  {
   "cell_type": "code",
   "execution_count": 72,
   "id": "c15b88bd",
   "metadata": {
    "ExecuteTime": {
     "end_time": "2025-07-10T11:27:50.778977Z",
     "start_time": "2025-07-10T11:27:36.414313Z"
    }
   },
   "outputs": [],
   "source": [
    "sst_1 = data_3dt_1['to'][:].data\n",
    "sst_2 = data_3dt_2['to'][:].data\n",
    "print(sst_1.shape)\n",
    "print(sst_2.shape)"
   ]
  },
  {
   "cell_type": "markdown",
   "id": "856d9df5",
   "metadata": {},
   "source": [
    "###  30 - 1000m 温度数据"
   ]
  },
  {
   "cell_type": "code",
   "execution_count": 74,
   "id": "aad4e347",
   "metadata": {
    "ExecuteTime": {
     "end_time": "2025-07-10T11:27:54.126356Z",
     "start_time": "2025-07-10T11:27:50.784967Z"
    }
   },
   "outputs": [
    {
     "name": "stdout",
     "output_type": "stream",
     "text": [
      "(132, 43, 280, 600)\n"
     ]
    }
   ],
   "source": [
    "temp_depth = np.append(sst_1,sst_2,axis=0)\n",
    "print(temp_depth.shape)"
   ]
  },
  {
   "cell_type": "code",
   "execution_count": 75,
   "id": "98f2e6ad",
   "metadata": {
    "ExecuteTime": {
     "end_time": "2025-07-10T11:27:54.133345Z",
     "start_time": "2025-07-10T11:27:54.128353Z"
    }
   },
   "outputs": [],
   "source": [
    "depths = [0,5,10,15,20,25,30,35,40,45,50,55,60,65,70,80,90,100,125,150,175,200,225,250,275,300,350,400,\n",
    "         450,500,550,600,700,800,900,1000,1100,1200,1300,1400,1500,1750,2000]\n",
    "depths_use = [30,50,100,125,150,200,250,300,400,500,600,700,800,900,1000]"
   ]
  },
  {
   "cell_type": "code",
   "execution_count": 80,
   "id": "a693fa1b",
   "metadata": {
    "ExecuteTime": {
     "end_time": "2025-07-10T11:30:39.163292Z",
     "start_time": "2025-07-10T11:30:38.017128Z"
    }
   },
   "outputs": [],
   "source": [
    "temp_depth_use = []\n",
    "selected_layers = []\n",
    "for i, depth in enumerate(depths):\n",
    "    if depth in depths_use:\n",
    "        selected_layers.append(temp_depth[:, i:i+1, :, :])\n",
    "if selected_layers:\n",
    "    temp_depth_use = np.concatenate(selected_layers, axis=1)\n",
    "else:\n",
    "    temp_depth_use = None"
   ]
  },
  {
   "cell_type": "code",
   "execution_count": 81,
   "id": "a271c345",
   "metadata": {
    "ExecuteTime": {
     "end_time": "2025-07-10T11:30:42.982172Z",
     "start_time": "2025-07-10T11:30:42.977181Z"
    }
   },
   "outputs": [
    {
     "name": "stdout",
     "output_type": "stream",
     "text": [
      "(132, 15, 280, 600)\n",
      "(132, 280, 600, 15)\n"
     ]
    }
   ],
   "source": [
    "print(temp_depth_use.shape)\n",
    "temp_depth_use = np.transpose(temp_depth_use, ( 0, 2,3,1))\n",
    "print(temp_depth_use.shape)"
   ]
  },
  {
   "cell_type": "markdown",
   "id": "f2c9055f",
   "metadata": {},
   "source": [
    "## SST"
   ]
  },
  {
   "cell_type": "code",
   "execution_count": 82,
   "id": "6234b015",
   "metadata": {
    "ExecuteTime": {
     "end_time": "2025-07-10T11:30:46.814158Z",
     "start_time": "2025-07-10T11:30:46.809166Z"
    }
   },
   "outputs": [],
   "source": [
    "data_sst = nc.Dataset('D:/data/SST/SST_2005-2015_month.nc','r')"
   ]
  },
  {
   "cell_type": "code",
   "execution_count": 83,
   "id": "a04b9c1e",
   "metadata": {
    "ExecuteTime": {
     "end_time": "2025-07-10T11:30:48.566836Z",
     "start_time": "2025-07-10T11:30:48.561844Z"
    }
   },
   "outputs": [
    {
     "name": "stdout",
     "output_type": "stream",
     "text": [
      "132\n"
     ]
    }
   ],
   "source": [
    "time_sst = data_sst['time'][:]\n",
    "print(len(time_sst))\n",
    "sst_lat = data_sst['lat'][:].data\n",
    "sst_lon = data_sst['lon'][:].data\n",
    "sst = data_sst['sst'][:].data\n",
    "print(ssh.shape)"
   ]
  },
  {
   "cell_type": "code",
   "execution_count": 85,
   "id": "2f16fbe9",
   "metadata": {
    "ExecuteTime": {
     "end_time": "2025-07-10T11:30:51.695749Z",
     "start_time": "2025-07-10T11:30:51.617873Z"
    }
   },
   "outputs": [
    {
     "data": {
      "text/plain": [
       "(31.901611, -1.8474731)"
      ]
     },
     "execution_count": 85,
     "metadata": {},
     "output_type": "execute_result"
    }
   ],
   "source": [
    "np.nanmax(sst),np.nanmin(sst)"
   ]
  },
  {
   "cell_type": "markdown",
   "id": "79fe4126",
   "metadata": {},
   "source": [
    "## 数据合并"
   ]
  },
  {
   "cell_type": "code",
   "execution_count": 86,
   "id": "dd1ca4c6",
   "metadata": {
    "ExecuteTime": {
     "end_time": "2025-07-10T11:30:53.525021Z",
     "start_time": "2025-07-10T11:30:53.185564Z"
    }
   },
   "outputs": [
    {
     "name": "stdout",
     "output_type": "stream",
     "text": [
      "(132, 280, 600) (132, 280, 600) (132, 280, 600) (132, 280, 600) (132, 280, 600)\n"
     ]
    },
    {
     "data": {
      "text/plain": [
       "(132, 280, 600, 5)"
      ]
     },
     "execution_count": 86,
     "metadata": {},
     "output_type": "execute_result"
    }
   ],
   "source": [
    "print(ssh.shape,sss.shape,uwnd.shape,vwnd.shape,sst.shape)\n",
    "cat_data =np.stack((ssh,sss,uwnd,vwnd,sst),axis=3)\n",
    "cat_data.shape"
   ]
  },
  {
   "cell_type": "code",
   "execution_count": 87,
   "id": "2c92e910",
   "metadata": {
    "ExecuteTime": {
     "end_time": "2025-07-10T11:30:58.847221Z",
     "start_time": "2025-07-10T11:30:57.194320Z"
    }
   },
   "outputs": [],
   "source": [
    "cat_data_ss_depth = np.concatenate((cat_data,temp_depth_use),axis=-1)\n",
    "cat_data_ss_depth.shape"
   ]
  },
  {
   "cell_type": "markdown",
   "id": "57bcc557",
   "metadata": {
    "ExecuteTime": {
     "end_time": "2023-10-08T07:54:27.397519Z",
     "start_time": "2023-10-08T07:54:27.393526Z"
    }
   },
   "source": [
    "## 将两个温度异常区域的数据设置为nan"
   ]
  },
  {
   "cell_type": "code",
   "execution_count": 89,
   "id": "160c01c6",
   "metadata": {
    "ExecuteTime": {
     "end_time": "2025-07-10T11:31:11.359542Z",
     "start_time": "2025-07-10T11:31:11.282665Z"
    }
   },
   "outputs": [],
   "source": [
    "test = temp_depth_use[:,:,:,14:]\n",
    "test[test < 0.4] = np.nan\n",
    "test[test > 10] = np.nan\n",
    "cat_data_ss_depth[:,:,:,19:] = test"
   ]
  },
  {
   "cell_type": "markdown",
   "id": "d62b9007",
   "metadata": {},
   "source": [
    "# 验证集和测试集的划分"
   ]
  },
  {
   "cell_type": "code",
   "execution_count": 91,
   "id": "30fd935f",
   "metadata": {
    "ExecuteTime": {
     "end_time": "2025-07-10T11:31:13.301709Z",
     "start_time": "2025-07-10T11:31:13.297716Z"
    }
   },
   "outputs": [],
   "source": [
    "test_num = 120\n",
    "train = cat_data_ss_depth[:test_num]\n",
    "test = cat_data_ss_depth[test_num:]"
   ]
  },
  {
   "cell_type": "code",
   "execution_count": 92,
   "id": "29e3c72d",
   "metadata": {
    "ExecuteTime": {
     "end_time": "2025-07-10T11:31:25.967030Z",
     "start_time": "2025-07-10T11:31:25.962038Z"
    }
   },
   "outputs": [
    {
     "name": "stdout",
     "output_type": "stream",
     "text": [
      "train: (120, 280, 600, 20) test: (12, 280, 600, 20)\n"
     ]
    }
   ],
   "source": [
    "print('train:',train.shape,'test:',test.shape)"
   ]
  },
  {
   "cell_type": "markdown",
   "id": "79d91b44",
   "metadata": {},
   "source": [
    "## 去掉合并数据中的nan\n"
   ]
  },
  {
   "cell_type": "code",
   "execution_count": 93,
   "id": "acf49e56",
   "metadata": {
    "ExecuteTime": {
     "end_time": "2025-07-10T11:31:31.602118Z",
     "start_time": "2025-07-10T11:31:29.386115Z"
    }
   },
   "outputs": [
    {
     "name": "stdout",
     "output_type": "stream",
     "text": [
      "train删除nan值之前 (20160000, 20)\n",
      "train删除nan值之后 (12682025, 20)\n"
     ]
    }
   ],
   "source": [
    "train_flatten =  train.reshape(-1,20)\n",
    "train_flatten[train_flatten == 32767] = np.nan\n",
    "print('train删除nan值之前',train_flatten.shape)\n",
    "nan_mask = np.isnan(train_flatten)\n",
    "train_without_nan = train_flatten[~nan_mask.any(axis=1)]\n",
    "print('train删除nan值之后',train_without_nan.shape)"
   ]
  },
  {
   "cell_type": "code",
   "execution_count": 38,
   "id": "1bae264c",
   "metadata": {
    "ExecuteTime": {
     "end_time": "2025-07-10T11:17:00.405305Z",
     "start_time": "2025-07-10T11:17:00.120760Z"
    }
   },
   "outputs": [
    {
     "name": "stdout",
     "output_type": "stream",
     "text": [
      "test删除nan值之前 (2016000, 20)\n",
      "test删除nan值之后 (1268033, 20)\n"
     ]
    }
   ],
   "source": [
    "test_flatten =  test.reshape(-1,20)\n",
    "test_flatten[test_flatten == 32767] = np.nan\n",
    "print('test删除nan值之前',test_flatten.shape)\n",
    "nan_mask = np.isnan(test_flatten)\n",
    "test_without_nan = test_flatten[~nan_mask.any(axis=1)]\n",
    "print('test删除nan值之后',test_without_nan.shape)"
   ]
  },
  {
   "cell_type": "markdown",
   "id": "3975303a",
   "metadata": {
    "ExecuteTime": {
     "end_time": "2023-09-27T11:16:55.407824Z",
     "start_time": "2023-09-27T11:16:55.403831Z"
    }
   },
   "source": [
    "## 划分训练数据和目标数据"
   ]
  },
  {
   "cell_type": "code",
   "execution_count": 94,
   "id": "8a1ccba6",
   "metadata": {
    "ExecuteTime": {
     "end_time": "2025-07-10T11:32:03.744236Z",
     "start_time": "2025-07-10T11:32:03.739244Z"
    }
   },
   "outputs": [],
   "source": [
    "x_test = test_without_nan[:,:5]\n",
    "y_test = test_without_nan[:,5:]\n",
    "\n",
    "x_train_val = train_without_nan[:,:5]\n",
    "y_train_val = train_without_nan[:,5:]"
   ]
  },
  {
   "cell_type": "code",
   "execution_count": 95,
   "id": "5f51d7b8",
   "metadata": {
    "ExecuteTime": {
     "end_time": "2025-07-10T11:32:14.015772Z",
     "start_time": "2025-07-10T11:32:14.011779Z"
    }
   },
   "outputs": [
    {
     "name": "stdout",
     "output_type": "stream",
     "text": [
      "x_test.shape: (1268033, 5)\n",
      "y_test.shape (1268033, 15)\n",
      "x_train_val (12682025, 5)\n",
      "y_train_val (12682025, 15)\n"
     ]
    }
   ],
   "source": [
    "print('x_test.shape:',x_test.shape)\n",
    "print('y_test.shape',y_test.shape)\n",
    "print('x_train_val',x_train_val.shape)\n",
    "print('y_train_val',y_train_val.shape)"
   ]
  },
  {
   "cell_type": "code",
   "execution_count": 96,
   "id": "57afe328",
   "metadata": {
    "ExecuteTime": {
     "end_time": "2025-07-10T11:32:17.475333Z",
     "start_time": "2025-07-10T11:32:14.835460Z"
    }
   },
   "outputs": [],
   "source": [
    "x_train, x_val, y_train, y_val = train_test_split(x_train_val, y_train_val, test_size=0.25, random_state=100)\n",
    "x_train.shape,x_test.shape,x_val.shape,y_train.shape,y_test.shape,y_val.shape"
   ]
  },
  {
   "cell_type": "markdown",
   "id": "4adfdb57",
   "metadata": {},
   "source": [
    "# 特征归一化"
   ]
  },
  {
   "cell_type": "code",
   "execution_count": 99,
   "id": "9e19fa83",
   "metadata": {
    "ExecuteTime": {
     "end_time": "2025-07-10T11:36:47.926935Z",
     "start_time": "2025-07-10T11:36:43.440132Z"
    }
   },
   "outputs": [],
   "source": [
    "scaler_f = StandardScaler()\n",
    "x_train = scaler_f.fit_transform(x_train) \n",
    "x_test = scaler_f.transform(x_test)\n",
    "x_val = scaler_f.transform(x_val)\n",
    "\n",
    "scaler_l = StandardScaler()\n",
    "y_train = scaler_l.fit_transform(y_train)\n",
    "y_test = scaler_l.transform(y_test)\n",
    "y_val = scaler_l.transform(y_val)\n",
    "\n",
    "x_train.shape,x_test.shape,x_val.shape,y_train.shape,y_test.shape,y_val.shape"
   ]
  },
  {
   "cell_type": "markdown",
   "id": "82214b18",
   "metadata": {},
   "source": [
    "# 定义网络结构"
   ]
  },
  {
   "cell_type": "code",
   "execution_count": 112,
   "id": "7fe8bd42",
   "metadata": {
    "ExecuteTime": {
     "end_time": "2025-07-10T11:46:57.186130Z",
     "start_time": "2025-07-10T11:46:57.181138Z"
    }
   },
   "outputs": [],
   "source": [
    "def create_model():   \n",
    "    model = models.Sequential([\n",
    "        layers.Dense(200, activation='tanh', input_shape=(5,)), \n",
    "        layers.Dense(15, activation='tanh'),\n",
    "        layers.Dense(8, activation='tanh'),\n",
    "        layers.Dense(1, activation='linear') \n",
    "    ])\n",
    "    model.compile(optimizer='adam', loss='mean_squared_error')\n",
    "    return model "
   ]
  },
  {
   "cell_type": "markdown",
   "id": "e632fff1",
   "metadata": {},
   "source": [
    "## 编译模型"
   ]
  },
  {
   "cell_type": "code",
   "execution_count": null,
   "id": "6ae094b3-db10-49f2-9776-baff7c3c966c",
   "metadata": {},
   "outputs": [],
   "source": [
    "model = create_model()\n",
    "model.summary()"
   ]
  },
  {
   "cell_type": "markdown",
   "id": "3af7e470",
   "metadata": {},
   "source": [
    "## 模型训练"
   ]
  },
  {
   "cell_type": "code",
   "execution_count": 115,
   "id": "c06a6c72",
   "metadata": {
    "ExecuteTime": {
     "end_time": "2025-07-10T11:46:59.874744Z",
     "start_time": "2025-07-10T11:46:59.868754Z"
    }
   },
   "outputs": [],
   "source": [
    "def BPNN_model(x_train,y_train,x_val,y_val,name):\n",
    "    model = create_model()\n",
    "    model.compile(loss='mse', optimizer='adam')\n",
    "    checkpoint_path=name\n",
    "    keras_callbacks   = [\n",
    "          EarlyStopping(monitor='val_loss', patience=30, mode='min', min_delta=0.001),\n",
    "          ModelCheckpoint(checkpoint_path, monitor='val_loss', save_best_only=True, mode='min')\n",
    "    ]\n",
    "    model.fit(x_train, y_train, validation_data=(x_val,y_val),\n",
    "                    epochs=200, batch_size=5210, verbose=2, callbacks=keras_callbacks)"
   ]
  },
  {
   "cell_type": "code",
   "execution_count": 117,
   "id": "99436a14",
   "metadata": {
    "ExecuteTime": {
     "end_time": "2025-07-10T11:47:04.345682Z",
     "start_time": "2025-07-10T11:47:04.341688Z"
    }
   },
   "outputs": [],
   "source": [
    "depth = [30,50,100,125,150,200,250,300,400,500,600,700,800,900,1000]\n",
    "for i in range(0,15):\n",
    "    BPNN_model(x_train,y_train[:,i:i+1],x_val,y_val[:,i:i+1],\n",
    "               'D:/BPNN/temp/BPNN_model_'+str(depth[i])+'m.h5')"
   ]
  },
  {
   "cell_type": "code",
   "execution_count": null,
   "id": "7dacf1a4-db9e-4e9f-b2a0-b8823db2ad59",
   "metadata": {},
   "outputs": [],
   "source": [
    "history = model.fit(x_train, y_train[:,0:1], validation_data=(x_val,y_val[:,0:1]),\n",
    "                    epochs=200, batch_size=5210, verbose=2, callbacks=keras_callbacks)"
   ]
  },
  {
   "cell_type": "markdown",
   "id": "2fae1468",
   "metadata": {},
   "source": [
    "## 模型评估"
   ]
  },
  {
   "cell_type": "code",
   "execution_count": 127,
   "id": "d9133869",
   "metadata": {
    "ExecuteTime": {
     "end_time": "2025-07-10T12:09:22.426263Z",
     "start_time": "2025-07-10T12:09:22.417270Z"
    },
    "code_folding": [
     3,
     16,
     45
    ]
   },
   "outputs": [],
   "source": [
    "import math\n",
    "def acc(actual, predicted):\n",
    "    pred_avg = np.average(predicted)\n",
    "\n",
    "    act_avg = np.average(actual)\n",
    "    diff_pred = predicted - pred_avg\n",
    "    diff_act = actual - act_avg\n",
    "    numerator = np.mean(np.sum(diff_pred*diff_act, axis=0))\n",
    "    denominator = math.sqrt(np.mean(np.sum(diff_pred**2, axis=0)) * np.mean(np.sum(diff_act**2, axis=0)))\n",
    "    ret_val = numerator/denominator\n",
    "    return (100 * ret_val)\n",
    "\n",
    "def look_loss(history):\n",
    "    plt.figure(figsize=(6.3, 2.5), dpi = 100)\n",
    "    plt.plot(history.history['loss'], label='training data')\n",
    "    plt.plot(history.history['val_loss'], label='validation data')\n",
    "    plt.title('Loss')\n",
    "    plt.ylabel('MSE Loss')\n",
    "    plt.xlabel('Number of epochs')\n",
    "    plt.grid()\n",
    "    plt.legend(loc=\"upper right\")\n",
    "    plt.show()\n",
    "\n",
    "def all_estimate(best_model,x_test,y_test):\n",
    "    testPred_1 = best_model.predict(x_test)\n",
    "    a = y_test\n",
    "    y_test_p = a.reshape(-1,1)\n",
    "    testPred_p = testPred_1.reshape(-1,1)\n",
    "\n",
    "    rmse = sqrt(mean_squared_error(y_test_p,testPred_p))\n",
    "    print('Test RMSE: %.3f' % rmse)\n",
    "    print('acc:',acc(y_test_p,testPred_p))\n",
    "\n",
    "    r2 = r2_score(y_test_p,testPred_p)\n",
    "    print(\"R² score:\", r2)      \n",
    "\n",
    "def respective_estimate(best_model,x_test,y_test):\n",
    "    re2_list = []\n",
    "    rmse_list = []\n",
    "    for i in range(6):\n",
    "        testPred = best_model.predict(x_test[i:i+1])\n",
    "        a = y_test[i:i+1]\n",
    "        y_test_p = a.reshape(-1,1)\n",
    "        testPred_p = testPred.reshape(-1,1)\n",
    "        r2 = r2_score(y_test_p,testPred_p)\n",
    "        rmse = sqrt(mean_squared_error(y_test_p,testPred_p))\n",
    "        re2_list.append(r2)\n",
    "        rmse_list.append(rmse)    \n",
    "    return re2_list,rmse_list"
   ]
  },
  {
   "cell_type": "markdown",
   "id": "1aa6c8dd-9a70-49fa-b1ff-cbbc6fc98656",
   "metadata": {},
   "source": [
    "### 结果评估"
   ]
  },
  {
   "cell_type": "code",
   "execution_count": null,
   "id": "da3411f1-5a07-4f5e-bc49-6f65a502c6eb",
   "metadata": {},
   "outputs": [],
   "source": [
    "look_loss(history)"
   ]
  },
  {
   "cell_type": "code",
   "execution_count": null,
   "id": "14be07bd-b024-4f86-b64a-649e59ee7053",
   "metadata": {},
   "outputs": [],
   "source": [
    "depth = [30,50,100,125,150,200,250,300,400,500,600,700,800,900,1000]\n",
    "result = [] \n",
    "for i in range(0,15):\n",
    "    best_model = tf.keras.models.load_model('D:/BPNN/temp/BPNN_model_'+str(depth[i])+'m.h5')\n",
    "    print('预测第'+str(depth[i])+'m温度的评价')\n",
    "    all_estimate(best_model,x_test,y_test[:,i:i+1])\n",
    "    testPred = best_model.predict(x_test)\n",
    "    result.append(testPred)"
   ]
  },
  {
   "cell_type": "markdown",
   "id": "2e043e09",
   "metadata": {
    "ExecuteTime": {
     "end_time": "2023-10-07T11:57:23.080630Z",
     "start_time": "2023-10-07T11:57:14.793960Z"
    }
   },
   "source": [
    "### 反归一化结果评价"
   ]
  },
  {
   "cell_type": "code",
   "execution_count": null,
   "id": "fa5362be-bd89-42c7-89b6-6a4c791baf61",
   "metadata": {},
   "outputs": [],
   "source": [
    "result = np.array(result)\n",
    "print(result.shape)\n",
    "result = np.transpose(result,(1,2,0))\n",
    "print(result.shape)\n",
    "result = result.reshape(-1,15)\n",
    "print(result.shape)"
   ]
  },
  {
   "cell_type": "code",
   "execution_count": 154,
   "id": "1e00daea",
   "metadata": {
    "ExecuteTime": {
     "end_time": "2025-07-10T12:39:44.202959Z",
     "start_time": "2025-07-10T12:39:43.981314Z"
    }
   },
   "outputs": [
    {
     "data": {
      "text/plain": [
       "((1268033, 15), (1268033, 15))"
      ]
     },
     "execution_count": 154,
     "metadata": {},
     "output_type": "execute_result"
    }
   ],
   "source": [
    "result_unscaled = scaler_l.inverse_transform(result)\n",
    "y_test_unscaled = scaler_l.inverse_transform(y_test)\n",
    "result_unscaled.shape,y_test.shape"
   ]
  },
  {
   "cell_type": "code",
   "execution_count": null,
   "id": "4c9bdbdf-00aa-4091-a11d-d5e5a11debf3",
   "metadata": {},
   "outputs": [],
   "source": [
    "for i in range(0,15):\n",
    "    print('预测第'+str(depth[i])+'m温度的评价')\n",
    "    rmse = sqrt(mean_squared_error(y_test_unscaled[:,i],result_unscaled[:,i]))\n",
    "    print('Test RMSE: %.3f' % rmse)\n",
    "    r2 = r2_score(y_test_unscaled[:,i],result_unscaled[:,i])\n",
    "    print('R² score:',r2)"
   ]
  },
  {
   "cell_type": "markdown",
   "id": "840c9937",
   "metadata": {},
   "source": [
    "# 预测结果可视化"
   ]
  },
  {
   "cell_type": "markdown",
   "id": "d71ce056",
   "metadata": {},
   "source": [
    "## 为预测值填充nan"
   ]
  },
  {
   "cell_type": "code",
   "execution_count": 165,
   "id": "9b2b9510",
   "metadata": {
    "ExecuteTime": {
     "end_time": "2025-07-10T12:43:20.254085Z",
     "start_time": "2025-07-10T12:43:20.249093Z"
    }
   },
   "outputs": [
    {
     "data": {
      "text/plain": [
       "((1268033, 15), (2016000, 20))"
      ]
     },
     "execution_count": 165,
     "metadata": {},
     "output_type": "execute_result"
    }
   ],
   "source": [
    "result.shape,test_flatten.shape "
   ]
  },
  {
   "cell_type": "code",
   "execution_count": 175,
   "id": "4e6b6667",
   "metadata": {
    "ExecuteTime": {
     "end_time": "2025-07-10T12:52:50.626945Z",
     "start_time": "2025-07-10T12:52:50.558056Z"
    }
   },
   "outputs": [
    {
     "name": "stdout",
     "output_type": "stream",
     "text": [
      "(2016000,)\n"
     ]
    }
   ],
   "source": [
    "nan_mask = np.isnan(test_flatten)\n",
    "nan_masks = nan_mask.any(axis=1)   \n",
    "print(nan_masks.shape)"
   ]
  },
  {
   "cell_type": "code",
   "execution_count": 176,
   "id": "0cbb3593",
   "metadata": {
    "ExecuteTime": {
     "end_time": "2025-07-10T12:53:02.674566Z",
     "start_time": "2025-07-10T12:53:02.573727Z"
    }
   },
   "outputs": [],
   "source": [
    "result_with_nan = np.full(((nan_masks.shape[0]),15), np.nan)  \n",
    "result_with_nan.shape,result.shape \n",
    "np.count_nonzero(nan_masks) "
   ]
  },
  {
   "cell_type": "code",
   "execution_count": 180,
   "id": "8b94a882",
   "metadata": {
    "ExecuteTime": {
     "end_time": "2025-07-10T12:53:18.542588Z",
     "start_time": "2025-07-10T12:53:16.109392Z"
    }
   },
   "outputs": [
    {
     "name": "stdout",
     "output_type": "stream",
     "text": [
      "1268033\n"
     ]
    }
   ],
   "source": [
    "num = 0\n",
    "for i,nan_mask in enumerate(nan_masks):\n",
    "    if (nan_mask == False):\n",
    "        result_with_nan[i] = result_unscaled[num]\n",
    "        num = num + 1       \n",
    "print(num)"
   ]
  },
  {
   "cell_type": "markdown",
   "id": "03f3bcf1-ff7c-4dd6-a32f-a793815d4eba",
   "metadata": {},
   "source": [
    "## 为真实值填充nan"
   ]
  },
  {
   "cell_type": "code",
   "execution_count": 182,
   "id": "85e019af-eae0-4cab-8f82-2a2ac7e9c125",
   "metadata": {
    "ExecuteTime": {
     "end_time": "2025-07-10T12:53:51.163265Z",
     "start_time": "2025-07-10T12:53:51.062427Z"
    }
   },
   "outputs": [],
   "source": [
    "y_test_with_nan = np.full(((nan_masks.shape[0]),15), np.nan) "
   ]
  },
  {
   "cell_type": "code",
   "execution_count": 183,
   "id": "e174810d-e77a-4aec-a086-9e9350aedbb2",
   "metadata": {
    "ExecuteTime": {
     "end_time": "2025-07-10T12:54:15.430564Z",
     "start_time": "2025-07-10T12:54:13.070799Z"
    }
   },
   "outputs": [
    {
     "name": "stdout",
     "output_type": "stream",
     "text": [
      "1268033\n"
     ]
    }
   ],
   "source": [
    "num = 0 \n",
    "for i,nan_mask in enumerate(nan_masks):\n",
    "    if (nan_mask == False):\n",
    "        y_test_with_nan[i] = y_test_unscaled[num]\n",
    "        num = num + 1     \n",
    "print(num)"
   ]
  },
  {
   "cell_type": "code",
   "execution_count": 186,
   "id": "b7fa9760",
   "metadata": {
    "ExecuteTime": {
     "end_time": "2025-07-10T12:55:59.077853Z",
     "start_time": "2025-07-10T12:55:59.072861Z"
    }
   },
   "outputs": [
    {
     "name": "stdout",
     "output_type": "stream",
     "text": [
      "(12, 280, 600, 15) (12, 280, 600, 15)\n"
     ]
    }
   ],
   "source": [
    "result_with_nan_reshape = result_with_nan.reshape((12,280,600,15))\n",
    "y_test_with_nan_reshape = y_test_with_nan.reshape((12,280,600,15))\n",
    "print(result_with_nan_reshape.shape , y_test_with_nan_reshape.shape)"
   ]
  },
  {
   "cell_type": "code",
   "execution_count": 187,
   "id": "5195cc14",
   "metadata": {
    "ExecuteTime": {
     "end_time": "2025-07-10T12:56:09.054530Z",
     "start_time": "2025-07-10T12:56:09.049538Z"
    }
   },
   "outputs": [
    {
     "name": "stdout",
     "output_type": "stream",
     "text": [
      "(12, 15, 280, 600) (12, 15, 280, 600)\n"
     ]
    }
   ],
   "source": [
    "result_with_nan_reshape = np.transpose(result_with_nan_reshape,(0,3,1,2))  \n",
    "y_test_with_nan_reshape = np.transpose(y_test_with_nan_reshape,(0,3,1,2))\n",
    "print(result_with_nan_reshape.shape,y_test_with_nan_reshape.shape)"
   ]
  },
  {
   "cell_type": "markdown",
   "id": "92a05016",
   "metadata": {
    "ExecuteTime": {
     "end_time": "2023-10-06T13:07:37.341964Z",
     "start_time": "2023-10-06T13:07:37.302028Z"
    }
   },
   "source": [
    "# 结果可视化"
   ]
  },
  {
   "cell_type": "code",
   "execution_count": 190,
   "id": "510a3a3b",
   "metadata": {
    "ExecuteTime": {
     "end_time": "2025-07-10T12:56:36.583298Z",
     "start_time": "2025-07-10T12:56:36.578306Z"
    }
   },
   "outputs": [],
   "source": [
    "lat = []\n",
    "lon = []\n",
    "time = []\n",
    "lon.append(data_ssh['lon'][:].data)\n",
    "lat.append(data_ssh['lat'][:].data)\n",
    "start_year = 2015\n",
    "end_year =2015\n",
    "time = []\n",
    "date_range = pd.date_range(datetime(start_year,1,1),datetime(end_year+1,1,1),freq='1M')\n",
    "len(date_range)\n",
    "for i in range(len(date_range)):\n",
    "    time.append(i)"
   ]
  },
  {
   "cell_type": "code",
   "execution_count": 200,
   "id": "2a0e5e5f",
   "metadata": {
    "ExecuteTime": {
     "end_time": "2025-07-10T13:02:35.664365Z",
     "start_time": "2025-07-10T13:02:34.993440Z"
    }
   },
   "outputs": [],
   "source": [
    "new_NC = nc.Dataset(\"D:/BPNN/result_temp_BPNN_30-1000m.nc\", 'w', format='NETCDF4')\n",
    "'''\n",
    "定义维度，后一个参数表示维度的长度，因为是合并的同一个产品的数据，所以是统一\n",
    "的,注意维度的长度一定要和读入的数据匹配\n",
    "'''\n",
    "new_NC.createDimension('lat', len(lat[0]))\n",
    "new_NC.createDimension('lon', len(lon[0]))\n",
    "new_NC.createDimension('depth', 15)\n",
    "new_NC.createDimension('time', len(time))\n",
    "\n",
    "new_NC.createVariable('lat', 'f', (\"lat\"))\n",
    "new_NC.createVariable('lon', 'f', (\"lon\"))\n",
    "new_NC.createVariable('depth', 'f', (\"depth\"))\n",
    "new_NC.createVariable('true_stt', 'f',(\"time\",\"depth\",\"lat\",\"lon\"))\n",
    "new_NC.createVariable('pred_stt', 'f',(\"time\",\"depth\",\"lat\",\"lon\"))\n",
    "\n",
    "time_var = new_NC.createVariable('time', 'f4',(\"time\"))\n",
    "time_var.units = 'months since 2015-01-15'\n",
    "time_var.long_name = 'Months in Monthly Means'\n",
    "time_var.axis = 'T'\n",
    "\n",
    "new_NC.variables['lat'][:] = lat[0]\n",
    "new_NC.variables['lon'][:] = lon[0]\n",
    "new_NC.variables['time'][:] = np.array(time)\n",
    "new_NC.variables['depth'][:] = depth\n",
    "\n",
    "new_NC.variables['true_stt'][:]=np.array(y_test_with_nan_reshape)\n",
    "new_NC.variables['pred_stt'][:]=np.array(result_with_nan_reshape)\n",
    "\n",
    "new_NC.close()"
   ]
  }
 ],
 "metadata": {
  "kernelspec": {
   "display_name": "Python 3 (ipykernel)",
   "language": "python",
   "name": "python3"
  },
  "language_info": {
   "codemirror_mode": {
    "name": "ipython",
    "version": 3
   },
   "file_extension": ".py",
   "mimetype": "text/x-python",
   "name": "python",
   "nbconvert_exporter": "python",
   "pygments_lexer": "ipython3",
   "version": "3.9.20"
  },
  "toc": {
   "base_numbering": 1,
   "nav_menu": {},
   "number_sections": true,
   "sideBar": true,
   "skip_h1_title": false,
   "title_cell": "Table of Contents",
   "title_sidebar": "Contents",
   "toc_cell": false,
   "toc_position": {
    "height": "calc(100% - 180px)",
    "left": "10px",
    "top": "150px",
    "width": "218px"
   },
   "toc_section_display": true,
   "toc_window_display": true
  }
 },
 "nbformat": 4,
 "nbformat_minor": 5
}
