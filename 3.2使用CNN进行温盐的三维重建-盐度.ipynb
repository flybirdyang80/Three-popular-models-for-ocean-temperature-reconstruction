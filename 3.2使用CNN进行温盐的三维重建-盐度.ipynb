{
 "cells": [
  {
   "cell_type": "code",
   "execution_count": 1,
   "id": "24cc7c46",
   "metadata": {
    "ExecuteTime": {
     "end_time": "2025-07-10T15:24:38.774957Z",
     "start_time": "2025-07-10T15:24:35.125533Z"
    },
    "code_folding": [
     0
    ]
   },
   "outputs": [],
   "source": [
    "#导包\n",
    "from netCDF4 import Dataset\n",
    "from tensorflow.keras import layers, models\n",
    "from tensorflow.keras.layers import ConvLSTM2D,LSTM, BatchNormalization, LayerNormalization,Input, Conv3D, TimeDistributed, Flatten\n",
    "from tensorflow.keras.layers import Concatenate,Conv2D,TimeDistributed, MaxPooling2D, Input, MaxPooling3D\n",
    "from tensorflow.keras.layers import  Reshape,multiply\n",
    "from tensorflow.keras.layers import Layer,Lambda,Dot,ReLU, Dense, Dropout, Activation, Flatten,Attention\n",
    "from tensorflow.keras.utils import plot_model\n",
    "from tensorflow.keras.models import Sequential,Model,load_model\n",
    "from tensorflow.keras.optimizers import Adam,SGD\n",
    "from sklearn.model_selection import train_test_split\n",
    "from tensorflow.keras.callbacks import EarlyStopping, ModelCheckpoint\n",
    "from sklearn.preprocessing import MinMaxScaler, StandardScaler\n",
    "from tensorflow.keras.losses import MeanSquaredError\n",
    "from sklearn.metrics import r2_score,accuracy_score,precision_score\n",
    "from tensorflow.keras.metrics import RootMeanSquaredError\n",
    "from tensorflow.keras import regularizers\n",
    "import tensorflow as tf\n",
    "from datetime import datetime\n",
    "from sklearn.model_selection import cross_val_score\n",
    "from sklearn.model_selection import GridSearchCV\n",
    "from tensorflow.keras import models, layers\n",
    "from tensorflow.keras.wrappers.scikit_learn import KerasRegressor\n",
    "import tensorflow.keras as keras\n",
    "from tensorflow.keras import layers, Sequential, regularizers\n",
    "# calculate RMSE\n",
    "from sklearn.metrics import mean_squared_error\n",
    "from math import sqrt\n",
    "import pandas as pd \n",
    "import tensorflow as tf\n",
    "import gc \n",
    "import gzip\n",
    "import matplotlib.pyplot as plt\n",
    "import numpy as np\n",
    "import netCDF4 as nc\n",
    "import match\n",
    "import numpy as np\n",
    "import matplotlib.pyplot as plt\n",
    "import xarray as xr\n",
    "import os \n",
    "%matplotlib inline"
   ]
  },
  {
   "cell_type": "code",
   "execution_count": 2,
   "id": "619adb84",
   "metadata": {
    "ExecuteTime": {
     "end_time": "2025-07-10T15:24:38.894766Z",
     "start_time": "2025-07-10T15:24:38.776954Z"
    }
   },
   "outputs": [
    {
     "data": {
      "text/plain": [
       "1"
      ]
     },
     "execution_count": 2,
     "metadata": {},
     "output_type": "execute_result"
    }
   ],
   "source": [
    "len(tf.config.experimental.list_physical_devices('GPU'))"
   ]
  },
  {
   "cell_type": "markdown",
   "id": "f580b19d",
   "metadata": {},
   "source": [
    "# 读取数据"
   ]
  },
  {
   "cell_type": "markdown",
   "id": "a969a48c",
   "metadata": {},
   "source": [
    "## SSH"
   ]
  },
  {
   "cell_type": "code",
   "execution_count": 3,
   "id": "a2879bf4",
   "metadata": {
    "ExecuteTime": {
     "end_time": "2025-07-10T15:24:38.903751Z",
     "start_time": "2025-07-10T15:24:38.895764Z"
    }
   },
   "outputs": [],
   "source": [
    "data_ssh = nc.Dataset(r'D:/data/SSH/SSH_2005-2015_month.nc')"
   ]
  },
  {
   "cell_type": "code",
   "execution_count": 4,
   "id": "8d073208",
   "metadata": {
    "ExecuteTime": {
     "end_time": "2025-07-10T15:24:38.911739Z",
     "start_time": "2025-07-10T15:24:38.905748Z"
    }
   },
   "outputs": [
    {
     "name": "stdout",
     "output_type": "stream",
     "text": [
      "132\n"
     ]
    }
   ],
   "source": [
    "time_ssh = data_ssh['time'][:]\n",
    "print(len(time_ssh))\n",
    "ssh_lat = data_ssh['lat'][:].data\n",
    "ssh_lon = data_ssh['lon'][:].data\n",
    "ssh = data_ssh['ssh'][:].data\n",
    "print(ssh.shape)"
   ]
  },
  {
   "cell_type": "code",
   "execution_count": null,
   "id": "cd278a39-ff23-4056-85b7-1170a6dde1ca",
   "metadata": {},
   "outputs": [],
   "source": [
    "np.nanmax(ssh),np.nanmin(ssh)"
   ]
  },
  {
   "cell_type": "markdown",
   "id": "203facec",
   "metadata": {},
   "source": [
    "## SSS"
   ]
  },
  {
   "cell_type": "code",
   "execution_count": 8,
   "id": "7fde41f7",
   "metadata": {
    "ExecuteTime": {
     "end_time": "2025-07-10T15:24:39.065503Z",
     "start_time": "2025-07-10T15:24:39.062497Z"
    }
   },
   "outputs": [],
   "source": [
    "data_sss = nc.Dataset(r'D:/data/SSS/SSS_2005-2020_month.nc')"
   ]
  },
  {
   "cell_type": "code",
   "execution_count": 9,
   "id": "97c14ff6",
   "metadata": {
    "ExecuteTime": {
     "end_time": "2025-07-10T15:24:39.070485Z",
     "start_time": "2025-07-10T15:24:39.066491Z"
    }
   },
   "outputs": [
    {
     "name": "stdout",
     "output_type": "stream",
     "text": [
      "132\n"
     ]
    }
   ],
   "source": [
    "time_sss = data_sss['time'][:132]\n",
    "print(len(time_sss))\n",
    "sss_lat = data_sss['lat'][:].data\n",
    "sss_lon = data_sss['lon'][:].data\n",
    "sss = data_sss['sos'][:132].data \n",
    "print(sss.shape)\n",
    "sss = np.squeeze(sss)\n",
    "print(sss.shape)"
   ]
  },
  {
   "cell_type": "code",
   "execution_count": 12,
   "id": "b1e08930",
   "metadata": {
    "ExecuteTime": {
     "end_time": "2025-07-10T15:24:40.255312Z",
     "start_time": "2025-07-10T15:24:40.181430Z"
    }
   },
   "outputs": [
    {
     "data": {
      "text/plain": [
       "(36.072178, 13.604756)"
      ]
     },
     "execution_count": 12,
     "metadata": {},
     "output_type": "execute_result"
    }
   ],
   "source": [
    "np.nanmax(sss),np.nanmin(sss)"
   ]
  },
  {
   "cell_type": "markdown",
   "id": "12d5c8e2",
   "metadata": {},
   "source": [
    "## SSW"
   ]
  },
  {
   "cell_type": "code",
   "execution_count": 13,
   "id": "d026b883",
   "metadata": {
    "ExecuteTime": {
     "end_time": "2025-07-10T15:24:41.034783Z",
     "start_time": "2025-07-10T15:24:41.028792Z"
    }
   },
   "outputs": [],
   "source": [
    "data_ssw = nc.Dataset(r'D:/data/SSW/SSW_2005-2018_month.nc')"
   ]
  },
  {
   "cell_type": "code",
   "execution_count": 14,
   "id": "a09f6f8d",
   "metadata": {
    "ExecuteTime": {
     "end_time": "2025-07-10T15:24:41.426156Z",
     "start_time": "2025-07-10T15:24:41.421164Z"
    }
   },
   "outputs": [
    {
     "name": "stdout",
     "output_type": "stream",
     "text": [
      "132\n"
     ]
    }
   ],
   "source": [
    "time_ssw = data_ssw['time'][:132]\n",
    "print(len(time_ssw))\n",
    "lat_ssw = data_ssw['lat'][:].data\n",
    "lon_ssw = data_ssw['lon'][:].data"
   ]
  },
  {
   "cell_type": "code",
   "execution_count": 16,
   "id": "68eef6fa",
   "metadata": {
    "ExecuteTime": {
     "end_time": "2025-07-10T15:24:42.791515Z",
     "start_time": "2025-07-10T15:24:42.557889Z"
    }
   },
   "outputs": [],
   "source": [
    "uwnd = data_ssw['uwnd'][:132,314:594,440:1040].data  \n",
    "vwnd = data_ssw['vwnd'][:132,314:594,440:1040].data\n",
    "print(uwnd.shape)\n",
    "print(vwnd.shape)"
   ]
  },
  {
   "cell_type": "code",
   "execution_count": 18,
   "id": "c5c8a2cd",
   "metadata": {
    "ExecuteTime": {
     "end_time": "2025-07-10T15:24:44.673076Z",
     "start_time": "2025-07-10T15:24:44.614171Z"
    }
   },
   "outputs": [
    {
     "data": {
      "text/plain": [
       "(12.433594, -11.7988205, 8.8359995, -13.645481)"
      ]
     },
     "execution_count": 18,
     "metadata": {},
     "output_type": "execute_result"
    }
   ],
   "source": [
    "np.nanmax(uwnd),np.nanmin(uwnd),np.nanmax(vwnd),np.nanmin(vwnd)"
   ]
  },
  {
   "cell_type": "markdown",
   "id": "4334792f",
   "metadata": {},
   "source": [
    "## SST 海表面温度"
   ]
  },
  {
   "cell_type": "code",
   "execution_count": 22,
   "id": "e02ac03d",
   "metadata": {
    "ExecuteTime": {
     "end_time": "2025-07-10T15:25:45.100265Z",
     "start_time": "2025-07-10T15:25:45.095273Z"
    }
   },
   "outputs": [],
   "source": [
    "data_sst = nc.Dataset('D:/data/SST/SST_2005-2015_month.nc','r')"
   ]
  },
  {
   "cell_type": "code",
   "execution_count": 24,
   "id": "37583574",
   "metadata": {
    "ExecuteTime": {
     "end_time": "2025-07-10T15:26:06.133688Z",
     "start_time": "2025-07-10T15:26:06.127698Z"
    }
   },
   "outputs": [
    {
     "name": "stdout",
     "output_type": "stream",
     "text": [
      "132\n"
     ]
    }
   ],
   "source": [
    "time_sst = data_sst['time'][:]\n",
    "print(len(time_sst))\n",
    "sst_lat = data_sst['lat'][:].data\n",
    "sst_lon = data_sst['lon'][:].data\n",
    "sst = data_sst['sst'][:].data\n",
    "print(ssh.shape)"
   ]
  },
  {
   "cell_type": "code",
   "execution_count": 26,
   "id": "d76c2970",
   "metadata": {
    "ExecuteTime": {
     "end_time": "2025-07-10T15:26:18.654110Z",
     "start_time": "2025-07-10T15:26:18.576235Z"
    }
   },
   "outputs": [
    {
     "data": {
      "text/plain": [
       "(31.901611, -1.8474731)"
      ]
     },
     "execution_count": 26,
     "metadata": {},
     "output_type": "execute_result"
    }
   ],
   "source": [
    "np.nanmax(sst),np.nanmin(sst)"
   ]
  },
  {
   "cell_type": "markdown",
   "id": "97b27988",
   "metadata": {},
   "source": [
    "## 3DS"
   ]
  },
  {
   "cell_type": "code",
   "execution_count": 27,
   "id": "4aec4e87",
   "metadata": {
    "ExecuteTime": {
     "end_time": "2025-07-10T15:26:31.944796Z",
     "start_time": "2025-07-10T15:26:29.215619Z"
    }
   },
   "outputs": [
    {
     "name": "stdout",
     "output_type": "stream",
     "text": [
      "(132, 43, 280, 600)\n"
     ]
    }
   ],
   "source": [
    "data_3ds = nc.Dataset(r'D:/data/3DTS/3DS_2005-2015_month.nc')\n",
    "sali_depth = data_3ds['so'][:].data\n",
    "print(sali_depth.shape)"
   ]
  },
  {
   "cell_type": "code",
   "execution_count": 28,
   "id": "98f2e6ad",
   "metadata": {
    "ExecuteTime": {
     "end_time": "2025-07-10T15:26:33.622148Z",
     "start_time": "2025-07-10T15:26:33.616158Z"
    }
   },
   "outputs": [],
   "source": [
    "depths = [0,5,10,15,20,25,30,35,40,45,50,55,60,65,70,80,90,100,125,150,175,200,225,250,275,300,350,400,\n",
    "         450,500,550,600,700,800,900,1000,1100,1200,1300,1400,1500,1750,2000]\n",
    "depths_use = [5,10,15,20,30,40,50,60,70,80,90,100,125,150,175,200,225,250,275,300,350,400,\n",
    "              500,600,700,800,900,1000,1100,1300,1500,1750,2000]"
   ]
  },
  {
   "cell_type": "code",
   "execution_count": null,
   "id": "ebaf173c-405a-4103-acf5-2203f680118b",
   "metadata": {},
   "outputs": [],
   "source": [
    "sali_depth_use = []\n",
    "selected_layers = []\n",
    "for i, depth in enumerate(depths):\n",
    "    if depth in depths_use:\n",
    "        selected_layers.append(sali_depth[:, i:i+1, :, :])\n",
    "if selected_layers:\n",
    "    sali_depth_use = np.concatenate(selected_layers, axis=1)\n",
    "else:\n",
    "    sali_depth_use = None"
   ]
  },
  {
   "cell_type": "code",
   "execution_count": 31,
   "id": "a271c345",
   "metadata": {
    "ExecuteTime": {
     "end_time": "2025-07-10T15:26:56.642101Z",
     "start_time": "2025-07-10T15:26:56.637109Z"
    }
   },
   "outputs": [
    {
     "name": "stdout",
     "output_type": "stream",
     "text": [
      "(132, 33, 280, 600)\n",
      "(132, 280, 600, 33)\n"
     ]
    }
   ],
   "source": [
    "print(sali_depth_use.shape)\n",
    "sali_depth_use = np.transpose(sali_depth_use, (0,2,3,1))\n",
    "print(sali_depth_use.shape)"
   ]
  },
  {
   "cell_type": "markdown",
   "id": "79fe4126",
   "metadata": {},
   "source": [
    "## 数据合并"
   ]
  },
  {
   "cell_type": "code",
   "execution_count": 32,
   "id": "dd1ca4c6",
   "metadata": {
    "ExecuteTime": {
     "end_time": "2025-07-10T15:27:10.964843Z",
     "start_time": "2025-07-10T15:27:10.641361Z"
    }
   },
   "outputs": [
    {
     "name": "stdout",
     "output_type": "stream",
     "text": [
      "(132, 280, 600) (132, 280, 600) (132, 280, 600) (132, 280, 600) (132, 280, 600)\n"
     ]
    },
    {
     "data": {
      "text/plain": [
       "(132, 280, 600, 5)"
      ]
     },
     "execution_count": 32,
     "metadata": {},
     "output_type": "execute_result"
    }
   ],
   "source": [
    "print(ssh.shape,sst.shape,uwnd.shape,vwnd.shape,sss.shape)\n",
    "cat_data =np.stack((ssh,sst,uwnd,vwnd,sss),axis=3)\n",
    "cat_data.shape"
   ]
  },
  {
   "cell_type": "code",
   "execution_count": 33,
   "id": "31946f16",
   "metadata": {
    "ExecuteTime": {
     "end_time": "2025-07-10T15:27:12.616198Z",
     "start_time": "2025-07-10T15:27:10.965841Z"
    }
   },
   "outputs": [],
   "source": [
    "cat_data_ss_depth = np.concatenate((cat_data,sali_depth_use),axis=-1)\n",
    "cat_data_ss_depth.shape "
   ]
  },
  {
   "cell_type": "markdown",
   "id": "b2596fa1",
   "metadata": {},
   "source": [
    "## 将填充值赋值为NAN，且一个点中有一个维度为nan，则将这个点的所有维度都设置为nan \n"
   ]
  },
  {
   "cell_type": "code",
   "execution_count": 35,
   "id": "119f831a",
   "metadata": {
    "ExecuteTime": {
     "end_time": "2025-07-10T15:27:16.047375Z",
     "start_time": "2025-07-10T15:27:14.593002Z"
    },
    "code_folding": []
   },
   "outputs": [
    {
     "name": "stdout",
     "output_type": "stream",
     "text": [
      "(280, 600, 132, 38)\n",
      "(168000, 5016)\n"
     ]
    }
   ],
   "source": [
    "cat_data_ss_depth_reshape  = np.transpose(cat_data_ss_depth,(1,2,0,3))\n",
    "print(cat_data_ss_depth_reshape.shape)\n",
    "cat_data_ss_depth_reshape = cat_data_ss_depth_reshape.reshape ((-1,132*38))\n",
    "print(cat_data_ss_depth_reshape.shape)"
   ]
  },
  {
   "cell_type": "code",
   "execution_count": 36,
   "id": "cb75b4fa",
   "metadata": {
    "ExecuteTime": {
     "end_time": "2025-07-10T15:27:17.224049Z",
     "start_time": "2025-07-10T15:27:16.048374Z"
    },
    "code_folding": []
   },
   "outputs": [],
   "source": [
    "cat_data_ss_depth_reshape[cat_data_ss_depth_reshape == 32767] = np.nan\n",
    "nan_mask = np.isnan(cat_data_ss_depth_reshape)\n",
    "np.sum(nan_mask.any(axis=1) == True)"
   ]
  },
  {
   "cell_type": "code",
   "execution_count": 38,
   "id": "9d1f0613",
   "metadata": {
    "ExecuteTime": {
     "end_time": "2025-07-10T15:27:17.437707Z",
     "start_time": "2025-07-10T15:27:17.285950Z"
    }
   },
   "outputs": [
    {
     "name": "stdout",
     "output_type": "stream",
     "text": [
      "cat_data_ss_depth_reshape: (168000, 5016)\n"
     ]
    }
   ],
   "source": [
    "cat_data_ss_depth_reshape[nan_mask.any(axis=1) == True] = np.nan   \n",
    "print('cat_data_ss_depth_reshape:',cat_data_ss_depth_reshape.shape)"
   ]
  },
  {
   "cell_type": "code",
   "execution_count": 39,
   "id": "d989b8a3",
   "metadata": {
    "ExecuteTime": {
     "end_time": "2025-07-10T15:27:17.446693Z",
     "start_time": "2025-07-10T15:27:17.438705Z"
    }
   },
   "outputs": [
    {
     "data": {
      "text/plain": [
       "63543"
      ]
     },
     "execution_count": 39,
     "metadata": {},
     "output_type": "execute_result"
    }
   ],
   "source": [
    "np.sum(np.isnan(cat_data_ss_depth_reshape[:,4]))  "
   ]
  },
  {
   "cell_type": "code",
   "execution_count": 40,
   "id": "e15bafbf",
   "metadata": {
    "ExecuteTime": {
     "end_time": "2025-07-10T15:27:17.452683Z",
     "start_time": "2025-07-10T15:27:17.447691Z"
    },
    "code_folding": []
   },
   "outputs": [
    {
     "name": "stdout",
     "output_type": "stream",
     "text": [
      "(168000, 132, 38)\n",
      "(132, 168000, 38)\n",
      "(132, 280, 600, 38)\n"
     ]
    }
   ],
   "source": [
    "cat_data_ss_depth_reshape = cat_data_ss_depth_reshape.reshape(-1,132,38)\n",
    "print(cat_data_ss_depth_reshape.shape)\n",
    "cat_data_ss_depth_reshape = np.transpose(cat_data_ss_depth_reshape,(1,0,2))\n",
    "print(cat_data_ss_depth_reshape.shape)\n",
    "cat_data_ss_depth_reshape = cat_data_ss_depth_reshape.reshape(-1,280,600,38)\n",
    "print(cat_data_ss_depth_reshape.shape)"
   ]
  },
  {
   "cell_type": "code",
   "execution_count": 41,
   "id": "4b2b2040",
   "metadata": {
    "ExecuteTime": {
     "end_time": "2025-07-10T15:27:17.461668Z",
     "start_time": "2025-07-10T15:27:17.453682Z"
    }
   },
   "outputs": [
    {
     "data": {
      "text/plain": [
       "63543"
      ]
     },
     "execution_count": 41,
     "metadata": {},
     "output_type": "execute_result"
    }
   ],
   "source": [
    "np.sum(np.isnan(cat_data_ss_depth_reshape[1:2,:,:,2:3]))"
   ]
  },
  {
   "cell_type": "markdown",
   "id": "eb31da4f",
   "metadata": {},
   "source": [
    "## 将数据分成小块"
   ]
  },
  {
   "cell_type": "code",
   "execution_count": 42,
   "id": "b2962990",
   "metadata": {
    "ExecuteTime": {
     "end_time": "2025-07-10T15:27:17.465666Z",
     "start_time": "2025-07-10T15:27:17.462667Z"
    }
   },
   "outputs": [
    {
     "name": "stdout",
     "output_type": "stream",
     "text": [
      "(132, 280, 600, 5) (132, 280, 600, 33)\n"
     ]
    }
   ],
   "source": [
    "cat_data_ss = cat_data_ss_depth_reshape[:,:,:,:5]\n",
    "cat_data_depth = cat_data_ss_depth_reshape[:,:,:,5:]\n",
    "print(cat_data_ss.shape,cat_data_depth.shape)"
   ]
  },
  {
   "cell_type": "code",
   "execution_count": 43,
   "id": "d915c764",
   "metadata": {
    "ExecuteTime": {
     "end_time": "2025-07-10T15:27:17.474648Z",
     "start_time": "2025-07-10T15:27:17.466661Z"
    }
   },
   "outputs": [
    {
     "data": {
      "text/plain": [
       "63543"
      ]
     },
     "execution_count": 43,
     "metadata": {},
     "output_type": "execute_result"
    }
   ],
   "source": [
    "np.sum(np.isnan(cat_data_depth[1:2,:,:,5:6]))"
   ]
  },
  {
   "cell_type": "code",
   "execution_count": 44,
   "id": "a29a94cc",
   "metadata": {
    "ExecuteTime": {
     "end_time": "2025-07-10T15:28:52.221830Z",
     "start_time": "2025-07-10T15:27:17.476645Z"
    },
    "code_folding": []
   },
   "outputs": [
    {
     "name": "stdout",
     "output_type": "stream",
     "text": [
      "time_size: 132 lat_size: 280 lon_size: 600\n",
      "272 592\n",
      "out_data的形状 (132, 272, 592, 9, 9, 5)\n",
      "out_data_y的形状 (132, 272, 592, 33)\n"
     ]
    }
   ],
   "source": [
    "import numpy as np\n",
    "import pandas as pd\n",
    "\n",
    "time_size, lat_size, lon_size, channel = cat_data_ss.shape   # （132，280，600，5）\n",
    "          \n",
    "box_size = 9 \n",
    "step_size = 1  \n",
    "\n",
    "out_lat_size = (lat_size - box_size) // step_size  + 1 \n",
    "out_lon_size = (lon_size - box_size) // step_size  + 1 \n",
    "\n",
    "print('time_size:',time_size,'lat_size:',lat_size,'lon_size:',lon_size) \n",
    "print(out_lat_size,out_lon_size)  #(272 592)\n",
    "\n",
    "out_data = np.zeros((time_size, out_lat_size , out_lon_size, box_size, box_size, channel)) \n",
    "out_data_y = np.zeros((time_size, out_lat_size , out_lon_size, 33)) \n",
    "\n",
    "for t in range(time_size):\n",
    "    sample_idx = 0\n",
    "    for lat in range(0, lat_size - box_size +1, step_size):\n",
    "        for lon in range(0, lon_size - box_size +1, step_size):\n",
    "            lat_min = lat\n",
    "            lat_max = lat + box_size\n",
    "            lon_min = lon\n",
    "            lon_max = lon + box_size\n",
    "            box_data = cat_data_ss[t, lat_min:lat_max, lon_min:lon_max,:]\n",
    "            out_data[t,lat,lon, :, :, :] = box_data\n",
    "            box_data = []\n",
    "            sample_idx += 1\n",
    "\n",
    "print('out_data的形状',out_data.shape)\n",
    "    \n",
    "#==============================================================================#   \n",
    "\n",
    "for t in range(time_size):\n",
    "    sample_idx = 0\n",
    "    for lat in range(4, lat_size-4, step_size):\n",
    "        for lon in range(4, lon_size-4, step_size):\n",
    "            box_data_y = cat_data_depth[t, lat:lat+1, lon:lon+1,:]\n",
    "            out_data_y[t,lat-4,lon-4, :] = box_data_y\n",
    "            box_data_y = []\n",
    "            sample_idx += 1\n",
    "\n",
    "print('out_data_y的形状',out_data_y.shape)"
   ]
  },
  {
   "cell_type": "markdown",
   "id": "e6e7b58e",
   "metadata": {},
   "source": [
    "## 删除缺失值多于一半的数据"
   ]
  },
  {
   "cell_type": "markdown",
   "id": "ea6ea49d",
   "metadata": {
    "ExecuteTime": {
     "end_time": "2023-10-14T13:31:17.158866Z",
     "start_time": "2023-10-14T13:31:17.155871Z"
    }
   },
   "source": [
    "### 获取NAN_mask "
   ]
  },
  {
   "cell_type": "code",
   "execution_count": 46,
   "id": "6c7ead8c",
   "metadata": {
    "ExecuteTime": {
     "end_time": "2025-07-10T15:28:59.714380Z",
     "start_time": "2025-07-10T15:28:52.228819Z"
    }
   },
   "outputs": [
    {
     "name": "stdout",
     "output_type": "stream",
     "text": [
      "(132, 161024, 9, 9, 5)\n",
      "(132, 161024, 9, 9, 5)\n"
     ]
    }
   ],
   "source": [
    "out_data_reshape = out_data.reshape((132,-1,9,9,5))\n",
    "print(out_data_reshape.shape) \n",
    "nan_mask_out_data = np.isnan(out_data_reshape)\n",
    "print(nan_mask_out_data.shape)"
   ]
  },
  {
   "cell_type": "code",
   "execution_count": 47,
   "id": "bdccd35b",
   "metadata": {
    "ExecuteTime": {
     "end_time": "2025-07-10T15:28:59.729351Z",
     "start_time": "2025-07-10T15:28:59.716371Z"
    }
   },
   "outputs": [
    {
     "data": {
      "text/plain": [
       "4784733"
      ]
     },
     "execution_count": 47,
     "metadata": {},
     "output_type": "execute_result"
    }
   ],
   "source": [
    "np.count_nonzero(nan_mask_out_data[7:8,:,:,:,2:3])"
   ]
  },
  {
   "cell_type": "code",
   "execution_count": 48,
   "id": "4d8748f5",
   "metadata": {
    "ExecuteTime": {
     "end_time": "2025-07-10T15:28:59.733365Z",
     "start_time": "2025-07-10T15:28:59.730349Z"
    }
   },
   "outputs": [],
   "source": [
    "nan_mask_out_data_one = nan_mask_out_data[0,:,:,:,0]\n",
    "nan_mask_out_data_one = nan_mask_out_data_one.reshape(-1,9*9) \n",
    "np.count_nonzero(nan_mask_out_data_one)\n",
    "nan_mask_out_data_one.shape\n",
    "nan_mask_out_data_one"
   ]
  },
  {
   "cell_type": "markdown",
   "id": "196a96c6",
   "metadata": {},
   "source": [
    "### 为有效值大于一半的方块标注True"
   ]
  },
  {
   "cell_type": "code",
   "execution_count": 50,
   "id": "5bfa7b93",
   "metadata": {
    "ExecuteTime": {
     "end_time": "2025-07-10T15:29:00.127712Z",
     "start_time": "2025-07-10T15:28:59.749318Z"
    }
   },
   "outputs": [],
   "source": [
    "nan_mask = [] \n",
    "for i in nan_mask_out_data_one:\n",
    "    if(np.count_nonzero(i) <=40 and i[40] == False): \n",
    "        nan_mask.append(True)\n",
    "    else:\n",
    "        nan_mask.append(False)"
   ]
  },
  {
   "cell_type": "code",
   "execution_count": 51,
   "id": "7f288860",
   "metadata": {
    "ExecuteTime": {
     "end_time": "2025-07-10T15:29:00.136698Z",
     "start_time": "2025-07-10T15:29:00.128711Z"
    }
   },
   "outputs": [
    {
     "data": {
      "text/plain": [
       "101529"
      ]
     },
     "execution_count": 51,
     "metadata": {},
     "output_type": "execute_result"
    }
   ],
   "source": [
    "np.count_nonzero(nan_mask)"
   ]
  },
  {
   "cell_type": "code",
   "execution_count": 52,
   "id": "899afd0d",
   "metadata": {
    "ExecuteTime": {
     "end_time": "2025-07-10T15:29:00.142689Z",
     "start_time": "2025-07-10T15:29:00.137697Z"
    }
   },
   "outputs": [
    {
     "name": "stdout",
     "output_type": "stream",
     "text": [
      "out_data_reshape: (161024, 132, 9, 9, 5)\n",
      "out_data_y_reshape: (272, 592, 132, 33)\n",
      "out_data_y_reshape: (161024, 132, 33)\n"
     ]
    }
   ],
   "source": [
    "out_data_reshape =  np.transpose(out_data_reshape,(1,0,2,3,4))\n",
    "print('out_data_reshape:',out_data_reshape.shape)\n",
    "out_data_y_reshape =  np.transpose(out_data_y,(1,2,0,3))\n",
    "print('out_data_y_reshape:',out_data_y_reshape.shape)\n",
    "out_data_y_reshape = out_data_y_reshape.reshape(-1,132,33)\n",
    "print('out_data_y_reshape:',out_data_y_reshape.shape)"
   ]
  },
  {
   "cell_type": "markdown",
   "id": "14075089",
   "metadata": {},
   "source": [
    "## 开始删除无效数据"
   ]
  },
  {
   "cell_type": "code",
   "execution_count": 53,
   "id": "93ad4743",
   "metadata": {
    "ExecuteTime": {
     "end_time": "2025-07-10T15:29:21.871067Z",
     "start_time": "2025-07-10T15:29:00.144685Z"
    }
   },
   "outputs": [
    {
     "name": "stdout",
     "output_type": "stream",
     "text": [
      "(101529, 132, 9, 9, 5) (101529, 132, 33)\n"
     ]
    }
   ],
   "source": [
    "out_data_reshape = out_data_reshape[nan_mask]\n",
    "out_data_y_reshape = out_data_y_reshape[nan_mask]\n",
    "print(out_data_reshape.shape,out_data_y_reshape.shape)"
   ]
  },
  {
   "cell_type": "markdown",
   "id": "c9ddb083",
   "metadata": {},
   "source": [
    "## 使用0来填充nan "
   ]
  },
  {
   "cell_type": "code",
   "execution_count": 54,
   "id": "9d3199a0",
   "metadata": {
    "ExecuteTime": {
     "end_time": "2025-07-10T15:30:27.554567Z",
     "start_time": "2025-07-10T15:29:21.872065Z"
    }
   },
   "outputs": [],
   "source": [
    "out_data_reshape = np.nan_to_num(out_data_reshape, nan=0)  \n",
    "out_data_y_reshape = np.nan_to_num(out_data_y_reshape, nan=0)  "
   ]
  },
  {
   "cell_type": "markdown",
   "id": "dcc6b9cb",
   "metadata": {},
   "source": [
    "# 验证集和测试集的划分"
   ]
  },
  {
   "cell_type": "markdown",
   "id": "4e542bf9",
   "metadata": {},
   "source": [
    "## 对数据进行reshape,以进行数据集的划分"
   ]
  },
  {
   "cell_type": "code",
   "execution_count": 55,
   "id": "91064314",
   "metadata": {
    "ExecuteTime": {
     "end_time": "2025-07-10T15:30:27.560558Z",
     "start_time": "2025-07-10T15:30:27.555571Z"
    }
   },
   "outputs": [
    {
     "name": "stdout",
     "output_type": "stream",
     "text": [
      "out_data_reshape: (132, 101529, 9, 9, 5)\n",
      "out_data_y_reshape: (132, 101529, 33)\n"
     ]
    }
   ],
   "source": [
    "out_data_reshape = np.transpose(out_data_reshape,(1,0,2,3,4))\n",
    "print('out_data_reshape:',out_data_reshape.shape)\n",
    "out_data_y_reshape =  np.transpose(out_data_y_reshape,(1,0,2))\n",
    "print('out_data_y_reshape:',out_data_y_reshape.shape)"
   ]
  },
  {
   "cell_type": "code",
   "execution_count": 56,
   "id": "ce22e0d5",
   "metadata": {
    "ExecuteTime": {
     "end_time": "2025-07-10T15:30:27.565550Z",
     "start_time": "2025-07-10T15:30:27.561557Z"
    }
   },
   "outputs": [],
   "source": [
    "test_num = 120\n",
    "x_train = out_data_reshape[:test_num]\n",
    "y_train = out_data_y_reshape[:test_num]\n",
    "\n",
    "x_test = out_data_reshape[test_num:]\n",
    "y_test = out_data_y_reshape[test_num:]"
   ]
  },
  {
   "cell_type": "code",
   "execution_count": 57,
   "id": "08307c9e",
   "metadata": {
    "ExecuteTime": {
     "end_time": "2025-07-10T15:30:27.571540Z",
     "start_time": "2025-07-10T15:30:27.566548Z"
    }
   },
   "outputs": [
    {
     "data": {
      "text/plain": [
       "((120, 101529, 9, 9, 5),\n",
       " (120, 101529, 33),\n",
       " (12, 101529, 9, 9, 5),\n",
       " (12, 101529, 33))"
      ]
     },
     "execution_count": 57,
     "metadata": {},
     "output_type": "execute_result"
    }
   ],
   "source": [
    "x_train.shape,y_train.shape,x_test.shape,y_test.shape "
   ]
  },
  {
   "cell_type": "code",
   "execution_count": 58,
   "id": "7e9bf3c9",
   "metadata": {
    "ExecuteTime": {
     "end_time": "2025-07-10T15:30:47.071330Z",
     "start_time": "2025-07-10T15:30:27.572538Z"
    }
   },
   "outputs": [],
   "source": [
    "x_train = np.reshape(x_train,(-1,9,9,5))\n",
    "x_test = np.reshape(x_test,(-1,9,9,5))\n",
    "\n",
    "y_train = np.reshape(y_train,(-1,33))\n",
    "y_test = np.reshape(y_test,(-1,33))"
   ]
  },
  {
   "cell_type": "markdown",
   "id": "82145a06",
   "metadata": {
    "ExecuteTime": {
     "end_time": "2023-09-27T11:16:55.407824Z",
     "start_time": "2023-09-27T11:16:55.403831Z"
    }
   },
   "source": [
    "## 划分训练数据和目标数据"
   ]
  },
  {
   "cell_type": "code",
   "execution_count": 59,
   "id": "ef288642",
   "metadata": {
    "ExecuteTime": {
     "end_time": "2025-07-10T15:30:47.077321Z",
     "start_time": "2025-07-10T15:30:47.072328Z"
    }
   },
   "outputs": [
    {
     "name": "stdout",
     "output_type": "stream",
     "text": [
      "x_test.shape: (1218348, 9, 9, 5)\n",
      "y_test.shape (1218348, 33)\n",
      "x_train (12183480, 9, 9, 5)\n",
      "y_train (12183480, 33)\n"
     ]
    }
   ],
   "source": [
    "print('x_test.shape:',x_test.shape)\n",
    "print('y_test.shape',y_test.shape)\n",
    "print('x_train',x_train.shape)\n",
    "print('y_train',y_train.shape)"
   ]
  },
  {
   "cell_type": "code",
   "execution_count": 60,
   "id": "57afe328",
   "metadata": {
    "ExecuteTime": {
     "end_time": "2025-07-10T15:31:13.502389Z",
     "start_time": "2025-07-10T15:30:47.078319Z"
    }
   },
   "outputs": [],
   "source": [
    "x_train, x_val, y_train, y_val = train_test_split(x_train, y_train, test_size=0.3, random_state=100)"
   ]
  },
  {
   "cell_type": "code",
   "execution_count": 61,
   "id": "56fdc0c1",
   "metadata": {
    "ExecuteTime": {
     "end_time": "2025-07-10T15:31:13.508379Z",
     "start_time": "2025-07-10T15:31:13.503387Z"
    }
   },
   "outputs": [
    {
     "name": "stdout",
     "output_type": "stream",
     "text": [
      "x_train (8528436, 9, 9, 5)\n",
      "x_test (1218348, 9, 9, 5)\n",
      "x_val (3655044, 9, 9, 5)\n",
      "y_train (8528436, 33)\n",
      "y_test (1218348, 33)\n",
      "y_val (3655044, 33)\n"
     ]
    }
   ],
   "source": [
    "print('x_train',x_train.shape)\n",
    "print('x_test',x_test.shape)\n",
    "print('x_val',x_val.shape)\n",
    "print('y_train',y_train.shape)\n",
    "print('y_test',y_test.shape)\n",
    "print('y_val',y_val.shape)"
   ]
  },
  {
   "cell_type": "markdown",
   "id": "4adfdb57",
   "metadata": {},
   "source": [
    "# 特征归一化"
   ]
  },
  {
   "cell_type": "code",
   "execution_count": 62,
   "id": "0e7a1057",
   "metadata": {
    "ExecuteTime": {
     "end_time": "2025-07-10T15:31:13.512385Z",
     "start_time": "2025-07-10T15:31:13.509378Z"
    },
    "code_folding": []
   },
   "outputs": [],
   "source": [
    "x_train_shape = x_train.shape\n",
    "y_train_shape = y_train.shape\n",
    "\n",
    "x_test_shape = x_test.shape\n",
    "y_test_shape = y_test.shape\n",
    "\n",
    "x_val_shape = x_val.shape\n",
    "y_val_shape = y_val.shape"
   ]
  },
  {
   "cell_type": "code",
   "execution_count": 63,
   "id": "9e19fa83",
   "metadata": {
    "ExecuteTime": {
     "end_time": "2025-07-10T15:32:56.245430Z",
     "start_time": "2025-07-10T15:31:13.513371Z"
    }
   },
   "outputs": [],
   "source": [
    "scaler_f = StandardScaler()\n",
    "x_train = scaler_f.fit_transform(x_train.reshape(-1,x_train_shape[3])) \n",
    "x_test = scaler_f.transform(x_test.reshape(-1,x_test_shape[3]))\n",
    "x_val = scaler_f.transform(x_val.reshape(-1,x_val_shape[3]))\n",
    "\n",
    "scaler_l = StandardScaler()\n",
    "y_train = scaler_l.fit_transform(y_train.reshape(-1,y_train_shape[1])) \n",
    "y_test = scaler_l.transform(y_test.reshape(-1,y_test_shape[1])) \n",
    "y_val = scaler_l.transform(y_val.reshape(-1,y_val_shape[1])) "
   ]
  },
  {
   "cell_type": "code",
   "execution_count": 64,
   "id": "5efe52e7",
   "metadata": {
    "ExecuteTime": {
     "end_time": "2025-07-10T15:32:56.251420Z",
     "start_time": "2025-07-10T15:32:56.246428Z"
    }
   },
   "outputs": [],
   "source": [
    "x_train = np.reshape(x_train,(-1,9,9,5))\n",
    "x_test = np.reshape(x_test,(-1,9,9,5))\n",
    "x_val = np.reshape(x_val,(-1,9,9,5))\n",
    "y_train = np.reshape(y_train,(-1,33))\n",
    "y_test = np.reshape(y_test,(-1,33))\n",
    "y_val = np.reshape(y_val,(-1,33))"
   ]
  },
  {
   "cell_type": "code",
   "execution_count": 65,
   "id": "5cd9d9f6",
   "metadata": {
    "ExecuteTime": {
     "end_time": "2025-07-10T15:32:56.257411Z",
     "start_time": "2025-07-10T15:32:56.252420Z"
    }
   },
   "outputs": [
    {
     "name": "stdout",
     "output_type": "stream",
     "text": [
      "x_train (8528436, 9, 9, 5)\n",
      "x_test (1218348, 9, 9, 5)\n",
      "x_val (3655044, 9, 9, 5)\n",
      "y_train (8528436, 33)\n",
      "y_test (1218348, 33)\n",
      "y_val (3655044, 33)\n"
     ]
    }
   ],
   "source": [
    "print('x_train',x_train.shape)\n",
    "print('x_test',x_test.shape)\n",
    "print('x_val',x_val.shape)\n",
    "print('y_train',y_train.shape)\n",
    "print('y_test',y_test.shape)\n",
    "print('y_val',y_val.shape)"
   ]
  },
  {
   "cell_type": "markdown",
   "id": "82214b18",
   "metadata": {},
   "source": [
    "# 定义网络结构"
   ]
  },
  {
   "cell_type": "code",
   "execution_count": 66,
   "id": "f8444cfc",
   "metadata": {
    "ExecuteTime": {
     "end_time": "2025-07-10T15:32:56.268393Z",
     "start_time": "2025-07-10T15:32:56.258410Z"
    },
    "code_folding": []
   },
   "outputs": [],
   "source": [
    "def ChannelAttention(inputs,in_planes, ratio=2):\n",
    "    \n",
    "    avg_out= layers.GlobalAveragePooling2D()\n",
    "    max_out= layers.GlobalMaxPooling2D()\n",
    "\n",
    "    fc1 = layers.Dense(in_planes//ratio, kernel_initializer='he_normal',\n",
    "                            kernel_regularizer=regularizers.l2(5e-4),\n",
    "                            activation=tf.nn.relu,\n",
    "                            use_bias=True, bias_initializer='zeros')\n",
    "    fc2 = layers.Dense(in_planes, kernel_initializer='he_normal',\n",
    "                            kernel_regularizer=regularizers.l2(5e-4),\n",
    "                            use_bias=True, bias_initializer='zeros')\n",
    "\n",
    "    \n",
    "    avg_out = avg_out(inputs)\n",
    "    max_out = max_out(inputs)\n",
    "    out = tf.stack([avg_out, max_out], axis=1)\n",
    "    out = fc2(fc1(out))\n",
    "    out = tf.reduce_sum(out, axis=1)\n",
    "    out = tf.nn.sigmoid(out)\n",
    "    out = layers.Reshape((1, 1, out.shape[1]))(out)\n",
    "\n",
    "    return  out*inputs"
   ]
  },
  {
   "cell_type": "code",
   "execution_count": null,
   "id": "18fa34b4-2898-4273-bcb5-8b099954895d",
   "metadata": {},
   "outputs": [],
   "source": [
    "def regularized_padded_conv(*args, **kwargs):\n",
    "    return layers.Conv2D(*args, **kwargs, padding='same', use_bias=False,\n",
    "                         kernel_initializer='he_normal',\n",
    "                         kernel_regularizer=regularizers.l2(5e-4))\n",
    "\n",
    "def SpatialAttention(inputs,kernel_size=5):\n",
    "    conv1 = regularized_padded_conv(1, kernel_size=kernel_size, strides=1, activation='sigmoid')\n",
    "    avg_out = tf.reduce_mean(inputs, axis=3)\n",
    "    max_out = tf.reduce_max(inputs, axis=3)\n",
    "    out = tf.stack([avg_out, max_out], axis=-1)        \n",
    "    out = conv1(out)\n",
    "    return out*inputs"
   ]
  },
  {
   "cell_type": "code",
   "execution_count": null,
   "id": "1753266b-6f94-48a1-bb73-c92eeb3b9238",
   "metadata": {},
   "outputs": [],
   "source": [
    "def cbam_block(inputs, in_planes,ratio=2):\n",
    "    cbam_feature = ChannelAttention(inputs, in_planes,ratio)\n",
    "    cbam_feature = SpatialAttention(cbam_feature)\n",
    "    return cbam_feature"
   ]
  },
  {
   "cell_type": "code",
   "execution_count": 67,
   "id": "09016b5d",
   "metadata": {
    "ExecuteTime": {
     "end_time": "2025-07-10T15:32:56.275382Z",
     "start_time": "2025-07-10T15:32:56.269392Z"
    },
    "code_folding": []
   },
   "outputs": [],
   "source": [
    "def create_model():\n",
    "    model_input= Input(shape=x_train.shape[1:])\n",
    "    output_size = 1\n",
    "    x = cbam_block(model_input,5)\n",
    "    x = Conv2D(filters=16, kernel_size=(3, 3),strides=1)(model_input)\n",
    "    x = BatchNormalization()(x)\n",
    "    x = Activation('relu')(x)\n",
    "    x = Dropout(rate=0.1)(x)\n",
    "\n",
    "    x = cbam_block(x,16)\n",
    "    x = Conv2D(filters=32, kernel_size=(3, 3),strides=1)(x)\n",
    "    x = BatchNormalization()(x)\n",
    "    x = Activation('relu')(x)\n",
    "    x = Dropout(rate=0.1)(x)\n",
    "\n",
    "    x = cbam_block(x,32)\n",
    "    x = Flatten()(x)\n",
    "\n",
    "    x = Dense(units=16)(x)\n",
    "    x = Activation('relu')(x)\n",
    "\n",
    "    out = Dense(units=output_size)(x)\n",
    "    \n",
    "    model = Model(inputs=model_input, outputs=out)\n",
    "    model.compile(optimizer='adam', loss='mean_squared_error')\n",
    "    return model "
   ]
  },
  {
   "cell_type": "code",
   "execution_count": null,
   "id": "52818fdd-9e5c-4061-a665-0cb7e00def11",
   "metadata": {},
   "outputs": [],
   "source": [
    "model = create_model()\n",
    "model.summary()"
   ]
  },
  {
   "cell_type": "markdown",
   "id": "a2f8c413",
   "metadata": {},
   "source": [
    "## 训练"
   ]
  },
  {
   "cell_type": "code",
   "execution_count": 70,
   "id": "eb9e990b",
   "metadata": {
    "ExecuteTime": {
     "end_time": "2025-07-10T15:33:41.824104Z",
     "start_time": "2025-07-10T15:33:41.817115Z"
    }
   },
   "outputs": [],
   "source": [
    "def train_model_CNN(x_train,y_train,x_val,y_val,name):\n",
    "    model = create_model()\n",
    "    model.compile(loss='mse', optimizer='adam')\n",
    "    checkpoint_path=name\n",
    "    keras_callbacks   = [\n",
    "          EarlyStopping(monitor='val_loss', patience=16, mode='min', min_delta=0.001),\n",
    "          ModelCheckpoint(checkpoint_path, monitor='val_loss', save_best_only=True, mode='min')\n",
    "    ]    \n",
    "    model.fit(x_train, y_train, validation_data=(x_val,y_val),\n",
    "                    epochs=300, batch_size=10240, verbose=2, callbacks=keras_callbacks)"
   ]
  },
  {
   "cell_type": "code",
   "execution_count": 71,
   "id": "f579d126",
   "metadata": {
    "ExecuteTime": {
     "end_time": "2025-07-10T15:33:42.983223Z",
     "start_time": "2025-07-10T15:33:42.768567Z"
    }
   },
   "outputs": [
    {
     "data": {
      "text/plain": [
       "2899"
      ]
     },
     "execution_count": 71,
     "metadata": {},
     "output_type": "execute_result"
    }
   ],
   "source": [
    "gc.collect()"
   ]
  },
  {
   "cell_type": "code",
   "execution_count": null,
   "id": "a17e6792-eaab-4a6b-a16c-20f6e1745380",
   "metadata": {},
   "outputs": [],
   "source": [
    "depth = [5,10,15,20,30,40,50,60,70,80,90,100,125,150,175,200,225,250,275,300,350,400,\n",
    "              500,600,700,800,900,1000,1100,1300,1500,1750,2000]\n",
    "for i in range(0,33):\n",
    "    gc.collect()\n",
    "    train_model_CNN(x_train,y_train[:,i:i+1],x_val,y_val[:,i:i+1],   \n",
    "                'D:/CNN/sali/CNN_sali_'+str(depth[i])+'m.h5')"
   ]
  },
  {
   "cell_type": "markdown",
   "id": "1275d7a0",
   "metadata": {},
   "source": [
    "## 模型评估"
   ]
  },
  {
   "cell_type": "code",
   "execution_count": 86,
   "id": "a7d0b3be",
   "metadata": {
    "ExecuteTime": {
     "end_time": "2024-06-14T12:14:33.033671Z",
     "start_time": "2024-06-14T12:14:33.014701Z"
    },
    "code_folding": [
     3,
     16,
     45
    ]
   },
   "outputs": [],
   "source": [
    "import math\n",
    "def acc(actual, predicted):\n",
    "    pred_avg = np.average(predicted)\n",
    "\n",
    "    act_avg = np.average(actual)\n",
    "    diff_pred = predicted - pred_avg\n",
    "    diff_act = actual - act_avg\n",
    "    numerator = np.mean(np.sum(diff_pred*diff_act, axis=0))\n",
    "    denominator = math.sqrt(np.mean(np.sum(diff_pred**2, axis=0)) * np.mean(np.sum(diff_act**2, axis=0)))\n",
    "    ret_val = numerator/denominator\n",
    "    return (100 * ret_val)\n",
    "\n",
    "def look_loss(history):\n",
    "    plt.figure(figsize=(6.3, 2.5), dpi = 100)\n",
    "    plt.plot(history.history['loss'], label='training data')\n",
    "    plt.plot(history.history['val_loss'], label='validation data')\n",
    "    plt.title('Loss')\n",
    "    plt.ylabel('MSE Loss')\n",
    "    plt.xlabel('Number of epochs')\n",
    "    plt.grid()\n",
    "    plt.legend(loc=\"upper right\")\n",
    "    plt.show()\n",
    "\n",
    "def all_estimate(best_model,x_test,y_test):\n",
    "    testPred_1 = best_model.predict(x_test)\n",
    "    y_test_p = y_test.reshape(-1,1)\n",
    "    testPred_p = testPred_1.reshape(-1,1)\n",
    "\n",
    "\n",
    "    rmse = sqrt(mean_squared_error(y_test_p,testPred_p))\n",
    "    print('Test RMSE: %.3f' % rmse)\n",
    "\n",
    "    r2 = r2_score(y_test_p,testPred_p)\n",
    "    print(\"R² score: %.4f\" % r2)     \n",
    "\n",
    "def respective_estimate(best_model,x_test,y_test):\n",
    "    re2_list = []\n",
    "    rmse_list = []\n",
    "    for i in range(6):\n",
    "        testPred = best_model.predict(x_test[i:i+1])\n",
    "        a = y_test[i:i+1]\n",
    "        y_test_p = a.reshape(-1,1)\n",
    "        testPred_p = testPred.reshape(-1,1)\n",
    "        r2 = r2_score(y_test_p,testPred_p)\n",
    "        rmse = sqrt(mean_squared_error(y_test_p,testPred_p))\n",
    "        re2_list.append(r2)\n",
    "        rmse_list.append(rmse)    \n",
    "    return re2_list,rmse_list"
   ]
  },
  {
   "cell_type": "code",
   "execution_count": 87,
   "id": "27e2f202",
   "metadata": {
    "ExecuteTime": {
     "end_time": "2024-06-14T12:14:34.691602Z",
     "start_time": "2024-06-14T12:14:34.677625Z"
    }
   },
   "outputs": [],
   "source": [
    "#look_loss(history)"
   ]
  },
  {
   "cell_type": "markdown",
   "id": "7d2126b3",
   "metadata": {},
   "source": [
    "### 对所有层进行评估"
   ]
  },
  {
   "cell_type": "code",
   "execution_count": 90,
   "id": "9bf805b3",
   "metadata": {
    "ExecuteTime": {
     "end_time": "2024-06-14T12:45:29.360337Z",
     "start_time": "2024-06-14T12:14:38.583535Z"
    }
   },
   "outputs": [
    {
     "name": "stdout",
     "output_type": "stream",
     "text": [
      "0.079\n",
      "0.086\n",
      "0.088\n",
      "0.095\n",
      "0.120\n",
      "0.138\n",
      "0.168\n",
      "0.186\n",
      "0.187\n",
      "0.195\n",
      "0.199\n",
      "0.197\n",
      "0.234\n",
      "0.242\n",
      "0.265\n",
      "0.291\n",
      "0.281\n",
      "0.285\n",
      "0.267\n",
      "0.275\n",
      "0.289\n",
      "0.265\n",
      "0.261\n",
      "0.231\n",
      "0.236\n",
      "0.270\n",
      "0.271\n",
      "0.262\n",
      "0.276\n",
      "0.245\n",
      "0.251\n",
      "0.239\n",
      "0.243\n"
     ]
    }
   ],
   "source": [
    "depth = [5,10,15,20,30,40,50,60,70,80,90,100,125,150,175,200,225,250,275,300,350,400,\n",
    "              500,600,700,800,900,1000,1100,1300,1500,1750,2000]\n",
    "result = [] \n",
    "for i in range(0,33):\n",
    "    best_model = tf.keras.models.load_model('D:/CNN/sali/CNN_sali_'+str(depth[i])+'m.h5'})\n",
    "    print('预测第'+str(depth[i])+'m盐度的评价')\n",
    "    all_estimate(best_model,x_test,y_test[:,i:i+1])\n",
    "    testPred = best_model.predict(x_test)\n",
    "    result.append(testPred)"
   ]
  },
  {
   "cell_type": "markdown",
   "id": "e805925d",
   "metadata": {},
   "source": [
    "## 反归一化结果评价"
   ]
  },
  {
   "cell_type": "code",
   "execution_count": null,
   "id": "e63b24ca",
   "metadata": {},
   "outputs": [],
   "source": [
    "result = np.array(result)\n",
    "print(result.shape)\n",
    "result = np.transpose(result,(1,2,0))\n",
    "print(result.shape)\n",
    "result = result.reshape(-1,33)\n",
    "print(result.shape)\n",
    "y_test = y_test.reshape(-1,33)\n",
    "print(y_test.shape)"
   ]
  },
  {
   "cell_type": "code",
   "execution_count": 101,
   "id": "86d025e0",
   "metadata": {
    "ExecuteTime": {
     "end_time": "2024-06-15T01:38:17.316460Z",
     "start_time": "2024-06-15T01:38:17.233593Z"
    }
   },
   "outputs": [
    {
     "name": "stdout",
     "output_type": "stream",
     "text": [
      "(33, 1221588, 1)\n",
      "(1221588, 1, 33)\n",
      "(1221588, 33)\n"
     ]
    }
   ],
   "source": [
    "result_unscaled = scaler_l.inverse_transform(result)\n",
    "y_test_unscaled = scaler_l.inverse_transform(y_test)\n",
    "result_unscaled.shape,y_test.shape"
   ]
  },
  {
   "cell_type": "code",
   "execution_count": null,
   "id": "1b6e5a86-59b0-4a73-8b22-e7712625a90e",
   "metadata": {},
   "outputs": [],
   "source": [
    "for i in range(0,33):\n",
    "    print('预测第'+str(depth[i])+'m盐度的评价')\n",
    "    rmse = sqrt(mean_squared_error(y_test_unscaled[:,i],result_unscaled[:,i]))\n",
    "    print('Test RMSE: %.3f' % rmse)\n",
    "    r2 = r2_score(y_test_unscaled[:,i],result_unscaled[:,i])\n",
    "    print('R² score:',r2)"
   ]
  },
  {
   "cell_type": "markdown",
   "id": "5aa065c9",
   "metadata": {},
   "source": [
    "# 预测结果可视化"
   ]
  },
  {
   "cell_type": "markdown",
   "id": "12b57477",
   "metadata": {},
   "source": [
    "## 为预测值和真实值填充nan"
   ]
  },
  {
   "cell_type": "code",
   "execution_count": 106,
   "id": "c129cf08",
   "metadata": {
    "ExecuteTime": {
     "end_time": "2024-06-15T01:40:46.700493Z",
     "start_time": "2024-06-15T01:40:46.304130Z"
    }
   },
   "outputs": [
    {
     "name": "stdout",
     "output_type": "stream",
     "text": [
      "(161024, 396)\n",
      "(161024, 396)\n"
     ]
    }
   ],
   "source": [
    "testPred_with_nan = np.full((161024,12*33), np.nan)  \n",
    "print(testPred_with_nan.shape)\n",
    "y_test_with_nan = np.full((161024,12*33), np.nan)  \n",
    "print(y_test_with_nan.shape)"
   ]
  },
  {
   "cell_type": "code",
   "execution_count": 107,
   "id": "505873d6",
   "metadata": {
    "ExecuteTime": {
     "end_time": "2024-06-15T01:41:18.955296Z",
     "start_time": "2024-06-15T01:41:18.732653Z"
    }
   },
   "outputs": [
    {
     "name": "stdout",
     "output_type": "stream",
     "text": [
      "(12, 101799, 33)\n",
      "(101799, 12, 33)\n",
      "(101799, 396)\n",
      "(12, 101799, 33)\n",
      "(101799, 12, 33)\n",
      "(101799, 396)\n"
     ]
    }
   ],
   "source": [
    "result_unscaled_reshape = result_unscaled.reshape(12,-1,33)\n",
    "print(result_unscaled_reshape.shape)\n",
    "result_unscaled_reshape = np.transpose(result_unscaled_reshape,(1,0,2))\n",
    "print(result_unscaled_reshape.shape)\n",
    "result_unscaled_reshape = result_unscaled_reshape.reshape(-1,12*33)\n",
    "print(result_unscaled_reshape.shape)\n",
    "\n",
    "# ==================================================================== #\n",
    "\n",
    "y_test_unscaled_reshape = y_test_unscaled.reshape(12,-1,33)\n",
    "print(y_test_unscaled_reshape.shape)\n",
    "y_test_unscaled_reshape = np.transpose(y_test_unscaled_reshape,(1,0,2))\n",
    "print(y_test_unscaled_reshape.shape)\n",
    "y_test_unscaled_reshape = y_test_unscaled_reshape.reshape(-1,12*33)\n",
    "print(y_test_unscaled_reshape.shape)"
   ]
  },
  {
   "cell_type": "code",
   "execution_count": null,
   "id": "4a8c685d",
   "metadata": {
    "ExecuteTime": {
     "end_time": "2024-06-14T03:55:55.735632Z",
     "start_time": "2024-06-14T03:55:55.735632Z"
    }
   },
   "outputs": [],
   "source": [
    "y_test.shape, y_test_reshape.shape"
   ]
  },
  {
   "cell_type": "code",
   "execution_count": 108,
   "id": "9a971489",
   "metadata": {
    "ExecuteTime": {
     "end_time": "2024-06-15T01:42:33.711886Z",
     "start_time": "2024-06-15T01:42:33.486248Z"
    }
   },
   "outputs": [
    {
     "name": "stdout",
     "output_type": "stream",
     "text": [
      "101799\n"
     ]
    }
   ],
   "source": [
    "num = 0\n",
    "for i,nanmask in enumerate(nan_mask):\n",
    "    if (nanmask ==True):\n",
    "        testPred_with_nan[i] = result_unscaled_reshape[num]\n",
    "        y_test_with_nan[i] = y_test_unscaled_reshape[num]\n",
    "        num = num + 1\n",
    "        \n",
    "print(num)"
   ]
  },
  {
   "cell_type": "code",
   "execution_count": 109,
   "id": "faf4185c",
   "metadata": {
    "ExecuteTime": {
     "end_time": "2024-06-15T01:42:56.093208Z",
     "start_time": "2024-06-15T01:42:56.080229Z"
    }
   },
   "outputs": [
    {
     "name": "stdout",
     "output_type": "stream",
     "text": [
      "(12, 33, 272, 592) (12, 33, 272, 592)\n"
     ]
    }
   ],
   "source": [
    "testPred_with_nan = testPred_with_nan.reshape(272, 592,12,33)\n",
    "testPred_with_nan = np.transpose(testPred_with_nan,(2,3,0,1))\n",
    "\n",
    "y_test_with_nan = y_test_with_nan.reshape(272, 592,12,33)\n",
    "y_test_with_nan = np.transpose(y_test_with_nan,(2,3,0,1))\n",
    "\n",
    "print(testPred_with_nan.shape,y_test_with_nan.shape)"
   ]
  },
  {
   "cell_type": "markdown",
   "id": "b6dfa8f2",
   "metadata": {
    "ExecuteTime": {
     "end_time": "2023-10-06T13:07:37.341964Z",
     "start_time": "2023-10-06T13:07:37.302028Z"
    }
   },
   "source": [
    "# 结果可视化"
   ]
  },
  {
   "cell_type": "code",
   "execution_count": 110,
   "id": "347081c6",
   "metadata": {
    "ExecuteTime": {
     "end_time": "2024-06-15T01:42:58.151821Z",
     "start_time": "2024-06-15T01:42:58.137844Z"
    }
   },
   "outputs": [],
   "source": [
    "lat = []\n",
    "lon = []\n",
    "time = []\n",
    "lon.append(data_ssh['lon'][4:-4].data)\n",
    "lat.append(data_ssh['lat'][4:-4].data)"
   ]
  },
  {
   "cell_type": "code",
   "execution_count": 112,
   "id": "478dda8c",
   "metadata": {
    "ExecuteTime": {
     "end_time": "2024-06-15T01:43:00.405044Z",
     "start_time": "2024-06-15T01:43:00.387073Z"
    }
   },
   "outputs": [
    {
     "data": {
      "text/plain": [
       "(1, 272, 1, 592)"
      ]
     },
     "execution_count": 112,
     "metadata": {},
     "output_type": "execute_result"
    }
   ],
   "source": [
    "len(lat),len(lat[0]),len(lon),len(lon[0])"
   ]
  },
  {
   "cell_type": "code",
   "execution_count": 113,
   "id": "fa3a8f00",
   "metadata": {
    "ExecuteTime": {
     "end_time": "2024-06-15T01:43:01.388463Z",
     "start_time": "2024-06-15T01:43:01.350524Z"
    }
   },
   "outputs": [],
   "source": [
    "start_year = 2015\n",
    "end_year =2015\n",
    "time = []\n",
    "date_range = pd.date_range(datetime(start_year,1,1),datetime(end_year+1,1,1),freq='1M')\n",
    "len(date_range)\n",
    "for i in range(len(date_range)):\n",
    "    time.append(i)"
   ]
  },
  {
   "cell_type": "code",
   "execution_count": 116,
   "id": "a4751334",
   "metadata": {
    "ExecuteTime": {
     "end_time": "2024-06-15T02:01:37.135829Z",
     "start_time": "2024-06-15T02:01:35.557366Z"
    }
   },
   "outputs": [],
   "source": [
    "new_NC = nc.Dataset(\"D:/CNN/result_sali_CNN_CBAM_5_2000m.nc\",\n",
    "                    'w', format='NETCDF4')\n",
    "'''\n",
    "定义维度，后一个参数表示维度的长度，因为是合并的同一个产品的数据，所以是统一\n",
    "的,注意维度的长度一定要和读入的数据匹配\n",
    "'''\n",
    "new_NC.createDimension('lat', len(lat[0]))\n",
    "new_NC.createDimension('lon', len(lon[0]))\n",
    "new_NC.createDimension('depth', 33)\n",
    "new_NC.createDimension('time', len(time))\n",
    "\n",
    "new_NC.createVariable('lat', 'f', (\"lat\"))\n",
    "new_NC.createVariable('lon', 'f', (\"lon\"))\n",
    "new_NC.createVariable('depth', 'f', (\"depth\"))\n",
    "new_NC.createVariable('Observed_SS', 'f',(\"time\",\"depth\",\"lat\",\"lon\"))\n",
    "new_NC.createVariable('Estimated_SS', 'f',(\"time\",\"depth\",\"lat\",\"lon\"))\n",
    "\n",
    "time_var = new_NC.createVariable('time', 'f4',(\"time\"))\n",
    "time_var.units = 'months since 2015-01-15'\n",
    "time_var.long_name = 'Months in Monthly Means'\n",
    "time_var.axis = 'T'\n",
    "\n",
    "new_NC.variables['lat'][:] = lat[0]\n",
    "new_NC.variables['lon'][:] = lon[0]\n",
    "new_NC.variables['time'][:] = np.array(time)\n",
    "new_NC.variables['depth'][:] = depth\n",
    "\n",
    "new_NC.variables['Observed_SS'][:]=np.array(y_test_with_nan)\n",
    "new_NC.variables['Estimated_SS'][:]=np.array(testPred_with_nan)\n",
    "\n",
    "new_NC.close()"
   ]
  },
  {
   "cell_type": "code",
   "execution_count": null,
   "id": "1379295b",
   "metadata": {},
   "outputs": [],
   "source": []
  }
 ],
 "metadata": {
  "kernelspec": {
   "display_name": "Python 3 (ipykernel)",
   "language": "python",
   "name": "python3"
  },
  "language_info": {
   "codemirror_mode": {
    "name": "ipython",
    "version": 3
   },
   "file_extension": ".py",
   "mimetype": "text/x-python",
   "name": "python",
   "nbconvert_exporter": "python",
   "pygments_lexer": "ipython3",
   "version": "3.9.20"
  },
  "toc": {
   "base_numbering": 1,
   "nav_menu": {},
   "number_sections": true,
   "sideBar": true,
   "skip_h1_title": false,
   "title_cell": "Table of Contents",
   "title_sidebar": "Contents",
   "toc_cell": false,
   "toc_position": {
    "height": "calc(100% - 180px)",
    "left": "10px",
    "top": "150px",
    "width": "289.574px"
   },
   "toc_section_display": true,
   "toc_window_display": true
  }
 },
 "nbformat": 4,
 "nbformat_minor": 5
}
