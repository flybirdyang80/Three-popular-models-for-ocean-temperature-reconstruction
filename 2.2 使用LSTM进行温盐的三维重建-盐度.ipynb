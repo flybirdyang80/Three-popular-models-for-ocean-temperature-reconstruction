{
 "cells": [
  {
   "cell_type": "code",
   "execution_count": 1,
   "id": "24cc7c46",
   "metadata": {
    "ExecuteTime": {
     "end_time": "2025-07-10T14:51:00.325916Z",
     "start_time": "2025-07-10T14:50:56.653470Z"
    },
    "code_folding": [
     0
    ]
   },
   "outputs": [],
   "source": [
    "#导包\n",
    "from netCDF4 import Dataset\n",
    "from tensorflow.keras import layers, models\n",
    "from tensorflow.keras.layers import ConvLSTM2D,LSTM, BatchNormalization, LayerNormalization,Input, Conv3D, TimeDistributed, Flatten\n",
    "from tensorflow.keras.layers import Concatenate,Conv2D,TimeDistributed, MaxPooling2D, Input, MaxPooling3D\n",
    "from tensorflow.keras.layers import  Reshape,multiply\n",
    "from tensorflow.keras.layers import Layer,Lambda,Dot,ReLU, Dense, Dropout, Activation, Flatten,Attention\n",
    "from tensorflow.keras.utils import plot_model\n",
    "from tensorflow.keras.models import Sequential,Model,load_model\n",
    "from tensorflow.keras.optimizers import Adam,SGD\n",
    "from sklearn.model_selection import train_test_split\n",
    "from tensorflow.keras.callbacks import EarlyStopping, ModelCheckpoint\n",
    "from sklearn.preprocessing import MinMaxScaler, StandardScaler\n",
    "from tensorflow.keras.losses import MeanSquaredError\n",
    "from sklearn.metrics import r2_score,accuracy_score,precision_score\n",
    "from tensorflow.keras.metrics import RootMeanSquaredError\n",
    "from tensorflow.keras import regularizers\n",
    "import tensorflow as tf\n",
    "from datetime import datetime\n",
    "from sklearn.model_selection import cross_val_score\n",
    "from sklearn.model_selection import GridSearchCV\n",
    "from tensorflow.keras import models, layers\n",
    "from tensorflow.keras.wrappers.scikit_learn import KerasRegressor\n",
    "import tensorflow.keras as keras\n",
    "from tensorflow.keras import layers, Sequential, regularizers\n",
    "from tensorflow.keras.utils import  plot_model\n",
    "# calculate RMSE\n",
    "from sklearn.metrics import mean_squared_error\n",
    "from math import sqrt\n",
    "import pandas as pd \n",
    "import gc \n",
    "import gzip\n",
    "import matplotlib.pyplot as plt\n",
    "import numpy as np\n",
    "import netCDF4 as nc\n",
    "import match\n",
    "import xarray as xr\n",
    "import os \n",
    "%matplotlib inline"
   ]
  },
  {
   "cell_type": "code",
   "execution_count": 2,
   "id": "619adb84",
   "metadata": {
    "ExecuteTime": {
     "end_time": "2025-07-10T14:51:00.447721Z",
     "start_time": "2025-07-10T14:51:00.327913Z"
    }
   },
   "outputs": [
    {
     "data": {
      "text/plain": [
       "1"
      ]
     },
     "execution_count": 2,
     "metadata": {},
     "output_type": "execute_result"
    }
   ],
   "source": [
    "len(tf.config.experimental.list_physical_devices('GPU'))"
   ]
  },
  {
   "cell_type": "markdown",
   "id": "f580b19d",
   "metadata": {},
   "source": [
    "# 读取数据"
   ]
  },
  {
   "cell_type": "markdown",
   "id": "a969a48c",
   "metadata": {},
   "source": [
    "## SSH"
   ]
  },
  {
   "cell_type": "code",
   "execution_count": 3,
   "id": "a2879bf4",
   "metadata": {
    "ExecuteTime": {
     "end_time": "2025-07-10T14:51:00.458705Z",
     "start_time": "2025-07-10T14:51:00.448719Z"
    }
   },
   "outputs": [
    {
     "name": "stdout",
     "output_type": "stream",
     "text": [
      "时间长度 132\n"
     ]
    }
   ],
   "source": [
    "data_ssh = nc.Dataset(r'D:/data/SSH/SSH_2005-2015_month.nc')"
   ]
  },
  {
   "cell_type": "code",
   "execution_count": 4,
   "id": "601b1b6d",
   "metadata": {
    "ExecuteTime": {
     "end_time": "2025-07-10T14:51:00.464694Z",
     "start_time": "2025-07-10T14:51:00.460700Z"
    }
   },
   "outputs": [],
   "source": [
    "time_ssh = data_ssh['time'][:]\n",
    "print(len(time_ssh))\n",
    "ssh_lat = data_ssh['lat'][:].data\n",
    "ssh_lon = data_ssh['lon'][:].data\n",
    "ssh = data_ssh['ssh'][:].data\n",
    "print(ssh.shape)"
   ]
  },
  {
   "cell_type": "code",
   "execution_count": 5,
   "id": "e1e7d608",
   "metadata": {
    "ExecuteTime": {
     "end_time": "2025-07-10T14:51:00.605468Z",
     "start_time": "2025-07-10T14:51:00.465692Z"
    }
   },
   "outputs": [
    {
     "name": "stdout",
     "output_type": "stream",
     "text": [
      "(132, 280, 600)\n",
      "2.20051 -0.43673334\n"
     ]
    }
   ],
   "source": [
    "print(np.nanmax(ssh),np.nanmin(ssh))"
   ]
  },
  {
   "cell_type": "markdown",
   "id": "203facec",
   "metadata": {},
   "source": [
    "## SSS"
   ]
  },
  {
   "cell_type": "code",
   "execution_count": 6,
   "id": "7fde41f7",
   "metadata": {
    "ExecuteTime": {
     "end_time": "2025-07-10T14:51:00.610460Z",
     "start_time": "2025-07-10T14:51:00.606467Z"
    }
   },
   "outputs": [],
   "source": [
    "data_sss = nc.Dataset(r'D:/data/SSS/SSS_2005-2020_month.nc')"
   ]
  },
  {
   "cell_type": "code",
   "execution_count": 7,
   "id": "97c14ff6",
   "metadata": {
    "ExecuteTime": {
     "end_time": "2025-07-10T14:51:00.616451Z",
     "start_time": "2025-07-10T14:51:00.611459Z"
    }
   },
   "outputs": [
    {
     "name": "stdout",
     "output_type": "stream",
     "text": [
      "132\n"
     ]
    }
   ],
   "source": [
    "time_sss = data_sss['time'][:132]\n",
    "print(len(time_sss))\n",
    "sss_lat = data_sss['lat'][:].data\n",
    "sss_lon = data_sss['lon'][:].data\n",
    "sss = data_sss['sos'][:132].data \n",
    "print(sss.shape)\n",
    "sss = np.squeeze(sss)\n",
    "print(sss.shape)"
   ]
  },
  {
   "cell_type": "code",
   "execution_count": 10,
   "id": "b1e08930",
   "metadata": {
    "ExecuteTime": {
     "end_time": "2025-07-10T14:51:00.818128Z",
     "start_time": "2025-07-10T14:51:00.743248Z"
    }
   },
   "outputs": [
    {
     "name": "stdout",
     "output_type": "stream",
     "text": [
      "最大值与最小值: 36.072178 13.604756\n"
     ]
    }
   ],
   "source": [
    "print('最大值与最小值:',np.nanmax(sss),np.nanmin(sss))"
   ]
  },
  {
   "cell_type": "markdown",
   "id": "12d5c8e2",
   "metadata": {},
   "source": [
    "## SSW"
   ]
  },
  {
   "cell_type": "code",
   "execution_count": 11,
   "id": "d026b883",
   "metadata": {
    "ExecuteTime": {
     "end_time": "2025-07-10T14:51:00.826115Z",
     "start_time": "2025-07-10T14:51:00.819126Z"
    }
   },
   "outputs": [
    {
     "name": "stdout",
     "output_type": "stream",
     "text": [
      "132\n"
     ]
    }
   ],
   "source": [
    "data_ssw = nc.Dataset(r'D:/data/SSW/SSW_2005-2018_month.nc')"
   ]
  },
  {
   "cell_type": "code",
   "execution_count": 12,
   "id": "447b145c",
   "metadata": {
    "ExecuteTime": {
     "end_time": "2025-07-10T14:51:00.831107Z",
     "start_time": "2025-07-10T14:51:00.827113Z"
    }
   },
   "outputs": [],
   "source": [
    "time_ssw = data_ssw['time'][:132]\n",
    "print(len(time_ssw))\n",
    "lat_ssw = data_ssw['lat'][:].data\n",
    "lon_ssw = data_ssw['lon'][:].data"
   ]
  },
  {
   "cell_type": "code",
   "execution_count": 13,
   "id": "68eef6fa",
   "metadata": {
    "ExecuteTime": {
     "end_time": "2025-07-10T14:51:01.071722Z",
     "start_time": "2025-07-10T14:51:00.832105Z"
    }
   },
   "outputs": [
    {
     "name": "stdout",
     "output_type": "stream",
     "text": [
      "(132, 280, 600)\n",
      "(132, 280, 600)\n"
     ]
    }
   ],
   "source": [
    "uwnd = data_ssw['uwnd'][:132,314:594,440:1040].data  \n",
    "vwnd = data_ssw['vwnd'][:132,314:594,440:1040].data\n",
    "print(uwnd.shape)\n",
    "print(vwnd.shape)"
   ]
  },
  {
   "cell_type": "code",
   "execution_count": 14,
   "id": "c5c8a2cd",
   "metadata": {
    "ExecuteTime": {
     "end_time": "2025-07-10T14:51:01.134621Z",
     "start_time": "2025-07-10T14:51:01.072725Z"
    }
   },
   "outputs": [
    {
     "data": {
      "text/plain": [
       "(12.433594, -11.7988205, 8.8359995, -13.645481)"
      ]
     },
     "execution_count": 14,
     "metadata": {},
     "output_type": "execute_result"
    }
   ],
   "source": [
    "np.nanmax(uwnd),np.nanmin(uwnd),np.nanmax(vwnd),np.nanmin(vwnd)"
   ]
  },
  {
   "cell_type": "markdown",
   "id": "4334792f",
   "metadata": {},
   "source": [
    "## SST 海表面温度"
   ]
  },
  {
   "cell_type": "code",
   "execution_count": 15,
   "id": "e02ac03d",
   "metadata": {
    "ExecuteTime": {
     "end_time": "2025-07-10T14:51:01.141610Z",
     "start_time": "2025-07-10T14:51:01.136619Z"
    }
   },
   "outputs": [],
   "source": [
    "data_sst = nc.Dataset('D:/data/SST/SST_2005-2015_month.nc','r')"
   ]
  },
  {
   "cell_type": "code",
   "execution_count": 16,
   "id": "c15b88bd",
   "metadata": {
    "ExecuteTime": {
     "end_time": "2025-07-10T14:51:01.161578Z",
     "start_time": "2025-07-10T14:51:01.155588Z"
    }
   },
   "outputs": [
    {
     "name": "stdout",
     "output_type": "stream",
     "text": [
      "132\n"
     ]
    }
   ],
   "source": [
    "time_sst = data_sst['time'][:]\n",
    "print(len(time_sst))\n",
    "sst_lat = data_sst['lat'][:].data\n",
    "sst_lon = data_sst['lon'][:].data\n",
    "sst = data_sst['sst'][:].data\n",
    "print(ssh.shape)"
   ]
  },
  {
   "cell_type": "code",
   "execution_count": 18,
   "id": "40def685",
   "metadata": {
    "ExecuteTime": {
     "end_time": "2025-07-10T14:51:01.721783Z",
     "start_time": "2025-07-10T14:51:01.644906Z"
    }
   },
   "outputs": [
    {
     "data": {
      "text/plain": [
       "(31.901611, -1.8474731)"
      ]
     },
     "execution_count": 18,
     "metadata": {},
     "output_type": "execute_result"
    }
   ],
   "source": [
    "np.nanmax(sst),np.nanmin(sst)"
   ]
  },
  {
   "cell_type": "markdown",
   "id": "b3a31fa7",
   "metadata": {},
   "source": [
    "## 3DS"
   ]
  },
  {
   "cell_type": "code",
   "execution_count": 19,
   "id": "767f3767",
   "metadata": {
    "ExecuteTime": {
     "end_time": "2025-07-10T14:51:04.778514Z",
     "start_time": "2025-07-10T14:51:02.140189Z"
    }
   },
   "outputs": [
    {
     "name": "stdout",
     "output_type": "stream",
     "text": [
      "(132, 43, 280, 600)\n"
     ]
    }
   ],
   "source": [
    "data_3ds = nc.Dataset(r'D:/data/3DTS/3DS_2005-2015_month.nc')\n",
    "sali_depth = data_3ds['so'][:].data\n",
    "print(sali_depth.shape)"
   ]
  },
  {
   "cell_type": "code",
   "execution_count": 20,
   "id": "3fa68957",
   "metadata": {
    "ExecuteTime": {
     "end_time": "2025-07-10T14:51:04.784516Z",
     "start_time": "2025-07-10T14:51:04.779513Z"
    }
   },
   "outputs": [],
   "source": [
    "depths = [0,5,10,15,20,25,30,35,40,45,50,55,60,65,70,80,90,100,125,150,175,200,225,250,275,300,350,400,\n",
    "         450,500,550,600,700,800,900,1000,1100,1200,1300,1400,1500,1750,2000]\n",
    "depths_use = [5,10,15,20,30,40,50,60,70,80,90,100,125,150,175,200,225,250,275,300,350,400,500,600,700,800,900,1000,1100,\n",
    "              1300,1500,1750,2000]"
   ]
  },
  {
   "cell_type": "code",
   "execution_count": 21,
   "id": "340dd8d6",
   "metadata": {
    "ExecuteTime": {
     "end_time": "2025-07-10T14:51:05.892729Z",
     "start_time": "2025-07-10T14:51:04.785503Z"
    }
   },
   "outputs": [],
   "source": [
    "sali_depth_use = []\n",
    "selected_layers = []\n",
    "for i, depth in enumerate(depths):\n",
    "    if depth in depths_use:\n",
    "        selected_layers.append(sali_depth[:, i:i+1, :, :])\n",
    "if selected_layers:\n",
    "    sali_depth_use = np.concatenate(selected_layers, axis=1)\n",
    "else:\n",
    "    sali_depth_use = None"
   ]
  },
  {
   "cell_type": "code",
   "execution_count": 22,
   "id": "a271c345",
   "metadata": {
    "ExecuteTime": {
     "end_time": "2025-07-10T14:51:05.897724Z",
     "start_time": "2025-07-10T14:51:05.894727Z"
    }
   },
   "outputs": [
    {
     "name": "stdout",
     "output_type": "stream",
     "text": [
      "(132, 33, 280, 600)\n",
      "(132, 280, 600, 33)\n"
     ]
    }
   ],
   "source": [
    "print(sali_depth_use.shape)\n",
    "sali_depth_use = np.transpose(sali_depth_use,(0,2,3,1))\n",
    "print(sali_depth_use.shape)"
   ]
  },
  {
   "cell_type": "markdown",
   "id": "79fe4126",
   "metadata": {},
   "source": [
    "## 数据合并"
   ]
  },
  {
   "cell_type": "code",
   "execution_count": 23,
   "id": "dd1ca4c6",
   "metadata": {
    "ExecuteTime": {
     "end_time": "2025-07-10T14:51:06.218208Z",
     "start_time": "2025-07-10T14:51:05.898720Z"
    }
   },
   "outputs": [
    {
     "name": "stdout",
     "output_type": "stream",
     "text": [
      "(132, 280, 600) (132, 280, 600) (132, 280, 600) (132, 280, 600) (132, 280, 600)\n"
     ]
    },
    {
     "data": {
      "text/plain": [
       "(132, 280, 600, 5)"
      ]
     },
     "execution_count": 23,
     "metadata": {},
     "output_type": "execute_result"
    }
   ],
   "source": [
    "print(ssh.shape,sst.shape,uwnd.shape,vwnd.shape,sss.shape)\n",
    "cat_data =np.stack((ssh,sst,uwnd,vwnd,sss),axis=3)\n",
    "cat_data.shape"
   ]
  },
  {
   "cell_type": "code",
   "execution_count": 24,
   "id": "31946f16",
   "metadata": {
    "ExecuteTime": {
     "end_time": "2025-07-10T14:51:07.863259Z",
     "start_time": "2025-07-10T14:51:06.219207Z"
    }
   },
   "outputs": [
    {
     "name": "stdout",
     "output_type": "stream",
     "text": [
      "(132, 280, 600, 38)\n"
     ]
    }
   ],
   "source": [
    "cat_surface_depth = np.concatenate((cat_data,sali_depth_use),axis=-1)\n",
    "print(cat_surface_depth.shape)"
   ]
  },
  {
   "cell_type": "markdown",
   "id": "b2596fa1",
   "metadata": {},
   "source": [
    "## 去掉合并数据中的nan\n"
   ]
  },
  {
   "cell_type": "code",
   "execution_count": 26,
   "id": "119f831a",
   "metadata": {
    "ExecuteTime": {
     "end_time": "2025-07-10T14:51:09.303342Z",
     "start_time": "2025-07-10T14:51:07.870248Z"
    }
   },
   "outputs": [
    {
     "name": "stdout",
     "output_type": "stream",
     "text": [
      "(280, 600, 132, 38)\n",
      "(168000, 5016)\n"
     ]
    }
   ],
   "source": [
    "cat_surface_depth_reshape  = np.transpose(cat_surface_depth,(1,2,0,3))\n",
    "print(cat_surface_depth_reshape.shape)\n",
    "cat_surface_depth_reshape = cat_surface_depth_reshape.reshape ((-1,132*38))\n",
    "print(cat_surface_depth_reshape.shape)"
   ]
  },
  {
   "cell_type": "code",
   "execution_count": 27,
   "id": "cb75b4fa",
   "metadata": {
    "ExecuteTime": {
     "end_time": "2025-07-10T14:51:11.305684Z",
     "start_time": "2025-07-10T14:51:09.304340Z"
    }
   },
   "outputs": [
    {
     "name": "stdout",
     "output_type": "stream",
     "text": [
      "cat_surface_depth_reshape删除nan值之前 (168000, 5016)\n",
      "cat_surface_depth_reshape删除nan值之后 (104457, 5016)\n"
     ]
    }
   ],
   "source": [
    "cat_surface_depth_reshape[cat_surface_depth_reshape == 32767] = np.nan\n",
    "print('cat_surface_depth_reshape删除nan值之前',cat_surface_depth_reshape.shape)\n",
    "nan_mask = np.isnan(cat_surface_depth_reshape)\n",
    "cat_surface_depth_nonan = cat_surface_depth_reshape[~nan_mask.any(axis=1)]   \n",
    "print('cat_surface_depth_reshape删除nan值之后',cat_surface_depth_nonan.shape)"
   ]
  },
  {
   "cell_type": "code",
   "execution_count": 28,
   "id": "e15bafbf",
   "metadata": {
    "ExecuteTime": {
     "end_time": "2025-07-10T14:51:11.311682Z",
     "start_time": "2025-07-10T14:51:11.307681Z"
    }
   },
   "outputs": [
    {
     "name": "stdout",
     "output_type": "stream",
     "text": [
      "(104457, 132, 38)\n",
      "(132, 104457, 38)\n"
     ]
    }
   ],
   "source": [
    "cat_surface_depth_nonan = cat_surface_depth_nonan.reshape(-1,132,38)\n",
    "print(cat_surface_depth_nonan.shape)\n",
    "cat_surface_depth_nonan = np.transpose(cat_surface_depth_nonan,(1,0,2))\n",
    "print(cat_surface_depth_nonan.shape)"
   ]
  },
  {
   "cell_type": "markdown",
   "id": "4e6a1f81",
   "metadata": {},
   "source": [
    "## 将数据进行堆叠"
   ]
  },
  {
   "cell_type": "code",
   "execution_count": 29,
   "id": "6c89cddb",
   "metadata": {
    "ExecuteTime": {
     "end_time": "2025-07-10T14:51:11.547297Z",
     "start_time": "2025-07-10T14:51:11.312673Z"
    }
   },
   "outputs": [
    {
     "name": "stdout",
     "output_type": "stream",
     "text": [
      "(132, 104457, 5) (132, 104457, 33)\n"
     ]
    }
   ],
   "source": [
    "cat_surface_depth_nonan.shape\n",
    "surface_data = cat_surface_depth_nonan[:,:,:5]\n",
    "sali_depth_use = cat_surface_depth_nonan[:,:,5:]\n",
    "print(surface_data.shape,sali_depth_use.shape)"
   ]
  },
  {
   "cell_type": "code",
   "execution_count": 30,
   "id": "e95fefb9",
   "metadata": {
    "ExecuteTime": {
     "end_time": "2025-07-10T14:51:16.480928Z",
     "start_time": "2025-07-10T14:51:11.548296Z"
    }
   },
   "outputs": [
    {
     "name": "stdout",
     "output_type": "stream",
     "text": [
      "(127, 6, 104457, 5)\n",
      "(127, 1, 104457, 33)\n"
     ]
    }
   ],
   "source": [
    "available = len(surface_data) \n",
    "predict = 1\n",
    "\n",
    "surface_data_shape = surface_data.shape[1:]\n",
    "sali_depth_use_shape = sali_depth_use.shape[1:]\n",
    "\n",
    "N_stack = 6\n",
    "\n",
    "X_len = available - (N_stack-1)\n",
    "Y_len = X_len\n",
    "\n",
    "X = np.zeros(shape = (X_len, N_stack,surface_data_shape[0],surface_data_shape[1]))  \n",
    "for i in range(X_len):\n",
    "    X[i] = np.stack(surface_data[i:i+N_stack])\n",
    "\n",
    "Y = np.zeros(shape = (Y_len,predict,sali_depth_use_shape[0],sali_depth_use_shape[1]))\n",
    "for i in range(Y_len):\n",
    "    Y[i] = np.stack(sali_depth_use[i+N_stack-1 : i+N_stack-1+predict])\n",
    "\n",
    "print(X.shape)\n",
    "print(Y.shape)"
   ]
  },
  {
   "cell_type": "markdown",
   "id": "23cadaf1",
   "metadata": {},
   "source": [
    "# 验证集和测试集的划分"
   ]
  },
  {
   "cell_type": "code",
   "execution_count": 56,
   "id": "ce22e0d5",
   "metadata": {
    "ExecuteTime": {
     "end_time": "2025-07-10T15:05:05.746616Z",
     "start_time": "2025-07-10T15:05:05.741625Z"
    }
   },
   "outputs": [
    {
     "name": "stdout",
     "output_type": "stream",
     "text": [
      "(115, 6, 104457, 5) (115, 1, 104457, 33) (12, 6, 104457, 5) (12, 1, 104457, 33)\n"
     ]
    }
   ],
   "source": [
    "test_num = 115\n",
    "x_train = X[:test_num]\n",
    "y_train = Y[:test_num]\n",
    "\n",
    "x_test = X[test_num:]\n",
    "y_test = Y[test_num:]"
   ]
  },
  {
   "cell_type": "code",
   "execution_count": null,
   "id": "e497dc62-81e3-4b4c-b88b-b9f43f1f062f",
   "metadata": {},
   "outputs": [],
   "source": [
    "print(x_train.shape,y_train.shape,x_test.shape,y_test.shape )"
   ]
  },
  {
   "cell_type": "markdown",
   "id": "e39d54ff",
   "metadata": {},
   "source": [
    "## 修改维度"
   ]
  },
  {
   "cell_type": "code",
   "execution_count": 32,
   "id": "62e8804e",
   "metadata": {
    "ExecuteTime": {
     "end_time": "2025-07-10T14:51:17.596686Z",
     "start_time": "2025-07-10T14:51:16.486918Z"
    }
   },
   "outputs": [
    {
     "name": "stdout",
     "output_type": "stream",
     "text": [
      "(12012555, 6, 5) (12012555, 1, 33) (1253484, 6, 5) (1253484, 1, 33)\n"
     ]
    }
   ],
   "source": [
    "x_train = np.transpose(x_train, (0,2,1,3))\n",
    "x_train = x_train.reshape((-1,6,5))\n",
    "\n",
    "y_train = np.transpose(y_train, (0,2,1,3))\n",
    "y_train = y_train.reshape((-1,1,33))\n",
    "\n",
    "x_test = np.transpose(x_test, (0,2,1,3))\n",
    "x_test = x_test.reshape((-1,6,5))\n",
    "\n",
    "y_test = np.transpose(y_test, (0,2,1,3))\n",
    "y_test = y_test.reshape((-1,1,33))\n",
    "print(x_train.shape,y_train.shape,x_test.shape,y_test.shape)"
   ]
  },
  {
   "cell_type": "markdown",
   "id": "82145a06",
   "metadata": {
    "ExecuteTime": {
     "end_time": "2023-09-27T11:16:55.407824Z",
     "start_time": "2023-09-27T11:16:55.403831Z"
    }
   },
   "source": [
    "## 划分训练数据和目标数据"
   ]
  },
  {
   "cell_type": "code",
   "execution_count": 33,
   "id": "ef288642",
   "metadata": {
    "ExecuteTime": {
     "end_time": "2025-07-10T14:51:17.601677Z",
     "start_time": "2025-07-10T14:51:17.597684Z"
    }
   },
   "outputs": [
    {
     "name": "stdout",
     "output_type": "stream",
     "text": [
      "x_test.shape: (1253484, 6, 5)\n",
      "y_test.shape (1253484, 1, 33)\n",
      "x_train (12012555, 6, 5)\n",
      "y_train (12012555, 1, 33)\n"
     ]
    }
   ],
   "source": [
    "print('x_test.shape:',x_test.shape)\n",
    "print('y_test.shape',y_test.shape)\n",
    "print('x_train',x_train.shape)\n",
    "print('y_train',y_train.shape)"
   ]
  },
  {
   "cell_type": "code",
   "execution_count": 34,
   "id": "57afe328",
   "metadata": {
    "ExecuteTime": {
     "end_time": "2025-07-10T14:51:22.316057Z",
     "start_time": "2025-07-10T14:51:17.602676Z"
    }
   },
   "outputs": [
    {
     "name": "stdout",
     "output_type": "stream",
     "text": [
      "(8408788, 6, 5) (1253484, 6, 5) (3603767, 6, 5) (8408788, 1, 33) (1253484, 1, 33) (3603767, 1, 33)\n"
     ]
    }
   ],
   "source": [
    "x_train, x_val, y_train, y_val = train_test_split(x_train, y_train, test_size=0.3, random_state=100)\n",
    "print(x_train.shape,x_test.shape,x_val.shape,y_train.shape,y_test.shape,y_val.shape)"
   ]
  },
  {
   "cell_type": "markdown",
   "id": "4adfdb57",
   "metadata": {},
   "source": [
    "# 特征归一化"
   ]
  },
  {
   "cell_type": "code",
   "execution_count": 35,
   "id": "0e7a1057",
   "metadata": {
    "ExecuteTime": {
     "end_time": "2025-07-10T14:51:22.321048Z",
     "start_time": "2025-07-10T14:51:22.317055Z"
    },
    "code_folding": []
   },
   "outputs": [],
   "source": [
    "x_train_shape = x_train.shape\n",
    "y_train_shape = y_train.shape\n",
    "\n",
    "x_test_shape = x_test.shape\n",
    "y_test_shape = y_test.shape\n",
    "\n",
    "x_val_shape = x_val.shape\n",
    "y_val_shape = y_val.shape"
   ]
  },
  {
   "cell_type": "code",
   "execution_count": 36,
   "id": "9e19fa83",
   "metadata": {
    "ExecuteTime": {
     "end_time": "2025-07-10T14:51:35.657289Z",
     "start_time": "2025-07-10T14:51:22.322047Z"
    }
   },
   "outputs": [],
   "source": [
    "scaler_f = StandardScaler()\n",
    "x_train = scaler_f.fit_transform(x_train.reshape(-1,x_train_shape[2])) \n",
    "x_test = scaler_f.transform(x_test.reshape(-1,x_test_shape[2]))\n",
    "x_val = scaler_f.transform(x_val.reshape(-1,x_val_shape[2]))\n",
    "\n",
    "scaler_l = StandardScaler()\n",
    "y_train = scaler_l.fit_transform(y_train.reshape(-1,y_train_shape[2])) \n",
    "y_test = scaler_l.transform(y_test.reshape(-1,y_test_shape[2])) \n",
    "y_val = scaler_l.transform(y_val.reshape(-1,y_val_shape[2])) "
   ]
  },
  {
   "cell_type": "code",
   "execution_count": 37,
   "id": "5efe52e7",
   "metadata": {
    "ExecuteTime": {
     "end_time": "2025-07-10T14:51:35.662284Z",
     "start_time": "2025-07-10T14:51:35.658287Z"
    }
   },
   "outputs": [],
   "source": [
    "x_train = np.reshape(x_train,(x_train_shape))\n",
    "x_test = np.reshape(x_test,(x_test_shape))\n",
    "x_val = np.reshape(x_val,(x_val_shape))\n",
    "y_train = np.reshape(y_train,(y_train_shape[0],-1))\n",
    "y_test = np.reshape(y_test,(y_test_shape[0],-1))\n",
    "y_val = np.reshape(y_val,(y_val_shape[0],-1))"
   ]
  },
  {
   "cell_type": "code",
   "execution_count": 38,
   "id": "5cd9d9f6",
   "metadata": {
    "ExecuteTime": {
     "end_time": "2025-07-10T14:51:35.667273Z",
     "start_time": "2025-07-10T14:51:35.663280Z"
    }
   },
   "outputs": [
    {
     "name": "stdout",
     "output_type": "stream",
     "text": [
      "(8408788, 6, 5) (1253484, 6, 5) (3603767, 6, 5) (8408788, 33) (1253484, 33) (3603767, 33)\n"
     ]
    }
   ],
   "source": [
    "print(x_train.shape,x_test.shape,x_val.shape,y_train.shape,y_test.shape,y_val.shape)"
   ]
  },
  {
   "cell_type": "code",
   "execution_count": 54,
   "id": "0d6b9476",
   "metadata": {
    "ExecuteTime": {
     "end_time": "2025-07-10T15:01:15.606889Z",
     "start_time": "2025-07-10T15:00:48.721103Z"
    }
   },
   "outputs": [
    {
     "data": {
      "text/plain": [
       "25509989"
      ]
     },
     "execution_count": 54,
     "metadata": {},
     "output_type": "execute_result"
    }
   ],
   "source": [
    "len(np.unique(x_train))"
   ]
  },
  {
   "cell_type": "markdown",
   "id": "82214b18",
   "metadata": {},
   "source": [
    "# 定义网络结构"
   ]
  },
  {
   "cell_type": "code",
   "execution_count": 39,
   "id": "db386094",
   "metadata": {
    "ExecuteTime": {
     "end_time": "2025-07-10T14:52:22.854726Z",
     "start_time": "2025-07-10T14:52:22.846739Z"
    },
    "code_folding": []
   },
   "outputs": [],
   "source": [
    "class Attention(Layer):\n",
    "    def __init__(self, units=128, **kwargs):\n",
    "        self.units = units\n",
    "        super().__init__(**kwargs)\n",
    "        \n",
    "    def __call__(self, inputs):\n",
    "        \"\"\"\n",
    "        Keras的多对一注意力机制。\n",
    "        @param inputs: 3D tensor with shape (batch_size, time_steps, input_dim).\n",
    "        @return: 2D tensor with shape (batch_size, 128)\n",
    "        \"\"\"\n",
    "        \n",
    "        hidden_states = inputs\n",
    "        hidden_size = int(hidden_states.shape[2])  \n",
    "        score_first_part = Dense(hidden_size, use_bias=False)(hidden_states) \n",
    "        h_t = Lambda(lambda x: x[:, -1, :], output_shape=(hidden_size,))(hidden_states)\n",
    "        score = Dot(axes=[1, 2])([h_t, score_first_part])  \n",
    "        attention_weights = Activation('softmax')(score)\n",
    "\n",
    "        context_vector = Dot(axes=[1, 1])([hidden_states, attention_weights])  \n",
    "        pre_activation = Concatenate()([context_vector, h_t]) \n",
    "        attention_vector = Dense(self.units, use_bias=False, activation='tanh')(pre_activation) \n",
    "        \n",
    "        return attention_vector\n",
    "\n",
    "    def get_config(self):\n",
    "        return {'units': self.units}\n",
    "\n",
    "    @classmethod\n",
    "    def from_config(cls, config):\n",
    "        return cls(**config)"
   ]
  },
  {
   "cell_type": "code",
   "execution_count": 42,
   "id": "4ca1bdae",
   "metadata": {
    "ExecuteTime": {
     "end_time": "2025-07-10T14:52:41.580254Z",
     "start_time": "2025-07-10T14:52:41.575262Z"
    }
   },
   "outputs": [],
   "source": [
    "def my_model():\n",
    "    \n",
    "    model_input= Input(shape=(6,5))\n",
    "   \n",
    "    model= LSTM(64, return_sequences=True)(model_input)   \n",
    "    model = Dropout(0.2)(model)\n",
    "    \n",
    "    model = LSTM(32, return_sequences=True)(model)\n",
    "    model = Attention()(model)\n",
    "    \n",
    "    model = Flatten()(model)\n",
    "    \n",
    "    out = Dense(1)(model)\n",
    "    model = Model(inputs=model_input, outputs=out)\n",
    "    return model"
   ]
  },
  {
   "cell_type": "code",
   "execution_count": null,
   "id": "09c1fab8-f175-49e4-9a16-db099eda84ff",
   "metadata": {},
   "outputs": [],
   "source": [
    "import graphviz\n",
    "model = my_model()\n",
    "plot_model(model,show_shapes=True,show_layer_names=True)"
   ]
  },
  {
   "cell_type": "markdown",
   "id": "613e01d6",
   "metadata": {},
   "source": [
    "## 训练5 - 2000m"
   ]
  },
  {
   "cell_type": "code",
   "execution_count": 46,
   "id": "2de091a3",
   "metadata": {
    "ExecuteTime": {
     "end_time": "2025-07-10T14:54:14.590416Z",
     "start_time": "2025-07-10T14:54:14.585424Z"
    }
   },
   "outputs": [],
   "source": [
    "def train_model(x_train,y_train,x_val,y_val,name):\n",
    "    model = my_model()\n",
    "    model.compile(loss='mse', optimizer='adam')\n",
    "    checkpoint_path=name\n",
    "    keras_callbacks   = [\n",
    "          EarlyStopping(monitor='val_loss', patience=30, mode='min', min_delta=0.001),\n",
    "          ModelCheckpoint(checkpoint_path, monitor='val_loss', save_best_only=True, mode='min')\n",
    "    ]\n",
    "    model.fit(x_train, y_train, validation_data=(x_val,y_val),\n",
    "                    epochs=200, batch_size=10240, verbose=2, callbacks=keras_callbacks)"
   ]
  },
  {
   "cell_type": "code",
   "execution_count": 48,
   "id": "29ae4ea8",
   "metadata": {
    "ExecuteTime": {
     "end_time": "2025-07-10T14:54:15.700635Z",
     "start_time": "2025-07-10T14:54:15.696641Z"
    }
   },
   "outputs": [
    {
     "name": "stdout",
     "output_type": "stream",
     "text": [
      "(8408788, 6, 5) (1253484, 6, 5) (3603767, 6, 5) (8408788, 33) (1253484, 33) (3603767, 33)\n"
     ]
    }
   ],
   "source": [
    "print(x_train.shape,x_test.shape,x_val.shape,y_train.shape,y_test.shape,y_val.shape)"
   ]
  },
  {
   "cell_type": "code",
   "execution_count": null,
   "id": "7e2c65a0-0405-49af-9249-2658f13485b0",
   "metadata": {},
   "outputs": [],
   "source": [
    "depth = [5,10,15,20,30,40,50,60,70,80,90,100,125,150,175,200,225,250,275,300,350,400,500,600,700,800,900,1000,1100,\n",
    "              1300,1500,1750,2000] \n",
    "for i in range(0,33):\n",
    "    train_model(x_train,y_train[:,i:i+1],x_val,y_val[:,i:i+1],\n",
    "                'D:/LSTM/sali/LSTM_sali_5_2000m_'+str(depth[i])+'m.h5')"
   ]
  },
  {
   "cell_type": "markdown",
   "id": "1275d7a0",
   "metadata": {},
   "source": [
    "## 模型评估"
   ]
  },
  {
   "cell_type": "code",
   "execution_count": 72,
   "id": "a7d0b3be",
   "metadata": {
    "ExecuteTime": {
     "end_time": "2024-03-28T05:18:26.400820Z",
     "start_time": "2024-03-28T05:18:26.391834Z"
    },
    "code_folding": [
     0,
     3,
     16,
     45
    ]
   },
   "outputs": [],
   "source": [
    "import math\n",
    "def acc(actual, predicted):\n",
    "    pred_avg = np.average(predicted)\n",
    "\n",
    "    act_avg = np.average(actual)\n",
    "    diff_pred = predicted - pred_avg\n",
    "    diff_act = actual - act_avg\n",
    "    numerator = np.mean(np.sum(diff_pred*diff_act, axis=0))\n",
    "    denominator = math.sqrt(np.mean(np.sum(diff_pred**2, axis=0)) * np.mean(np.sum(diff_act**2, axis=0)))\n",
    "    ret_val = numerator/denominator\n",
    "    return (100 * ret_val)\n",
    "\n",
    "def look_loss(history):\n",
    "    plt.figure(figsize=(6.3, 2.5), dpi = 100)\n",
    "    plt.plot(history.history['loss'], label='training data')\n",
    "    plt.plot(history.history['val_loss'], label='validation data')\n",
    "    plt.title('Loss')\n",
    "    plt.ylabel('MSE Loss')\n",
    "    plt.xlabel('Number of epochs')\n",
    "    plt.grid()\n",
    "    plt.legend(loc=\"upper right\")\n",
    "    plt.show()\n",
    "\n",
    "def all_estimate(best_model,x_test,y_test):\n",
    "    testPred_1 = best_model.predict(x_test)\n",
    "    a = y_test\n",
    "    y_test_p = a.reshape(-1,1)\n",
    "    testPred_p = testPred_1.reshape(-1,1)\n",
    "\n",
    "    rmse = sqrt(mean_squared_error(y_test_p,testPred_p))\n",
    "    print('Test RMSE: %.3f' % rmse)\n",
    "\n",
    "    print('acc:',acc(y_test_p,testPred_p))\n",
    "\n",
    "    r2 = r2_score(y_test_p,testPred_p)\n",
    "    print(\"R² score:\", r2)  \n",
    "    \n",
    "\n",
    "def respective_estimate(best_model,x_test,y_test):\n",
    "    re2_list = []\n",
    "    rmse_list = []\n",
    "    for i in range(6):\n",
    "        testPred = best_model.predict(x_test[i:i+1])\n",
    "        a = y_test[i:i+1]\n",
    "        y_test_p = a.reshape(-1,1)\n",
    "        testPred_p = testPred.reshape(-1,1)\n",
    "        r2 = r2_score(y_test_p,testPred_p)\n",
    "        rmse = sqrt(mean_squared_error(y_test_p,testPred_p))\n",
    "        re2_list.append(r2)\n",
    "        rmse_list.append(rmse)    \n",
    "    return re2_list,rmse_list"
   ]
  },
  {
   "cell_type": "markdown",
   "id": "3f0aad38",
   "metadata": {},
   "source": [
    "### 结果评估"
   ]
  },
  {
   "cell_type": "code",
   "execution_count": null,
   "id": "a08ef3db-da27-453f-8c33-950304a2bf66",
   "metadata": {},
   "outputs": [],
   "source": [
    "depth = [5,10,15,20,30,40,50,60,70,80,90,100,125,150,175,200,225,250,275,300,350,400,500,600,700,800,900,1000,1100,\n",
    "              1300,1500,1750,2000] \n",
    "result = [] \n",
    "for i in range(0,33):\n",
    "    best_model = tf.keras.models.load_model('D:/LSTM/sali/LSTM_sali_5_2000m_'+str(depth[i])+'m.h5')\n",
    "    print('预测第'+str(depth[i])+'m盐度的评价')\n",
    "    all_estimate(best_model,x_test,y_test[:,i:i+1])\n",
    "    testPred = best_model.predict(x_test)\n",
    "    result.append(testPred)"
   ]
  },
  {
   "cell_type": "markdown",
   "id": "6340e3de",
   "metadata": {},
   "source": [
    "## 反归一化结果评价"
   ]
  },
  {
   "cell_type": "code",
   "execution_count": null,
   "id": "8175719a",
   "metadata": {},
   "outputs": [],
   "source": [
    "result = np.array(result)\n",
    "print(result.shape)\n",
    "result = np.transpose(result,(1,2,0))\n",
    "print(result.shape)\n",
    "result = result.reshape(-1,33)\n",
    "print(result.shape)\n",
    "y_test = y_test.reshape(-1,33)\n",
    "print(y_test.shape)"
   ]
  },
  {
   "cell_type": "code",
   "execution_count": null,
   "id": "7d9a42d5",
   "metadata": {},
   "outputs": [],
   "source": [
    "result_unscaled = scaler_l.inverse_transform(result)\n",
    "y_test_unscaled = scaler_l.inverse_transform(y_test)\n",
    "result_unscaled.shape,y_test.shape"
   ]
  },
  {
   "cell_type": "code",
   "execution_count": null,
   "id": "fd870e48",
   "metadata": {},
   "outputs": [],
   "source": [
    "for i in range(0,33):\n",
    "    print('预测第'+str(depth[i])+'m盐度的评价')\n",
    "    rmse = sqrt(mean_squared_error(y_test_unscaled[:,i],result_unscaled[:,i]))\n",
    "    print('Test RMSE: %.3f' % rmse)\n",
    "    r2 = r2_score(y_test_unscaled[:,i],result_unscaled[:,i])\n",
    "    print('R² score:',r2)"
   ]
  },
  {
   "cell_type": "markdown",
   "id": "5aa065c9",
   "metadata": {},
   "source": [
    "# 预测结果可视化"
   ]
  },
  {
   "cell_type": "markdown",
   "id": "12b57477",
   "metadata": {},
   "source": [
    "## 为归一化之后的预测值和真实值填充nan"
   ]
  },
  {
   "cell_type": "code",
   "execution_count": 91,
   "id": "a778c00c",
   "metadata": {
    "ExecuteTime": {
     "end_time": "2024-03-28T08:03:21.904418Z",
     "start_time": "2024-03-28T08:03:19.446370Z"
    }
   },
   "outputs": [
    {
     "name": "stdout",
     "output_type": "stream",
     "text": [
      "(280, 600, 132, 38)\n",
      "(168000, 5016)\n"
     ]
    }
   ],
   "source": [
    "cat_surface_depth_test = np.transpose(cat_surface_depth,(1,2,0,3))\n",
    "print(cat_surface_depth_test.shape)\n",
    "cat_surface_depth_test = cat_surface_depth_test.reshape ((-1,132*38))\n",
    "print(cat_surface_depth_test.shape)"
   ]
  },
  {
   "cell_type": "code",
   "execution_count": 95,
   "id": "5b1987b8",
   "metadata": {
    "ExecuteTime": {
     "end_time": "2024-03-28T08:05:52.606006Z",
     "start_time": "2024-03-28T08:05:50.800908Z"
    }
   },
   "outputs": [
    {
     "name": "stdout",
     "output_type": "stream",
     "text": [
      "cat_surface_depth_test删除nan值之前 (168000, 5016)\n"
     ]
    }
   ],
   "source": [
    "cat_surface_depth_test[cat_surface_depth_test == 32767] = np.nan\n",
    "print('cat_surface_depth_test删除nan值之前',cat_surface_depth_test.shape)\n",
    "nan_mask = np.isnan(cat_surface_depth_test)"
   ]
  },
  {
   "cell_type": "code",
   "execution_count": 96,
   "id": "ff223b20",
   "metadata": {
    "ExecuteTime": {
     "end_time": "2024-03-28T08:08:54.793730Z",
     "start_time": "2024-03-28T08:08:54.681910Z"
    }
   },
   "outputs": [],
   "source": [
    "nan_mask[nan_mask.any(axis=1) == True] = True\n",
    "nan_masks = nan_mask[:,1]"
   ]
  },
  {
   "cell_type": "code",
   "execution_count": 99,
   "id": "c129cf08",
   "metadata": {
    "ExecuteTime": {
     "end_time": "2024-03-28T08:09:38.070388Z",
     "start_time": "2024-03-28T08:09:37.681014Z"
    }
   },
   "outputs": [
    {
     "name": "stdout",
     "output_type": "stream",
     "text": [
      "(168000, 396)\n",
      "(168000, 396)\n"
     ]
    }
   ],
   "source": [
    "testPred_with_nan = np.full((168000,12*33), np.nan)  \n",
    "print(testPred_with_nan.shape)\n",
    "y_test_with_nan = np.full((168000,12*33), np.nan)  \n",
    "print(y_test_with_nan.shape)"
   ]
  },
  {
   "cell_type": "code",
   "execution_count": 100,
   "id": "c08d831b",
   "metadata": {
    "ExecuteTime": {
     "end_time": "2024-03-28T08:10:01.870458Z",
     "start_time": "2024-03-28T08:10:01.652808Z"
    }
   },
   "outputs": [
    {
     "name": "stdout",
     "output_type": "stream",
     "text": [
      "(12, 104729, 33)\n",
      "(104729, 12, 33)\n",
      "(104729, 396)\n",
      "(12, 104729, 33)\n",
      "(104729, 12, 33)\n",
      "(104729, 396)\n"
     ]
    }
   ],
   "source": [
    "result_unscaled_reshape = result_unscaled.reshape(12,-1,33)\n",
    "print(result_unscaled_reshape.shape)\n",
    "result_unscaled_reshape = np.transpose(result_unscaled_reshape,(1,0,2))\n",
    "print(result_unscaled_reshape.shape)\n",
    "result_unscaled_reshape = result_unscaled_reshape.reshape(-1,12*33)\n",
    "print(result_unscaled_reshape.shape)\n",
    "\n",
    "# ======================================== #\n",
    "\n",
    "y_test_unscaled_reshape = y_test_unscaled.reshape(12,-1,15)\n",
    "print(y_test_unscaled_reshape.shape)\n",
    "y_test_unscaled_reshape = np.transpose(y_test_unscaled_reshape,(1,0,2))\n",
    "print(y_test_unscaled_reshape.shape)\n",
    "y_test_unscaled_reshape = y_test_unscaled_reshape.reshape(-1,12*33)\n",
    "print(y_test_unscaled_reshape.shape)"
   ]
  },
  {
   "cell_type": "code",
   "execution_count": 102,
   "id": "df4f93fa",
   "metadata": {
    "ExecuteTime": {
     "end_time": "2024-03-28T08:10:35.214219Z",
     "start_time": "2024-03-28T08:10:35.209228Z"
    }
   },
   "outputs": [
    {
     "data": {
      "text/plain": [
       "(1256748, 33)"
      ]
     },
     "execution_count": 102,
     "metadata": {},
     "output_type": "execute_result"
    }
   ],
   "source": [
    "y_test_unscaled.shape, y_test_unscaled_reshape.shape"
   ]
  },
  {
   "cell_type": "code",
   "execution_count": 103,
   "id": "9a971489",
   "metadata": {
    "ExecuteTime": {
     "end_time": "2024-03-28T08:11:02.694544Z",
     "start_time": "2024-03-28T08:11:02.305170Z"
    }
   },
   "outputs": [
    {
     "name": "stdout",
     "output_type": "stream",
     "text": [
      "104729\n"
     ]
    }
   ],
   "source": [
    "num = 0\n",
    "for i,nan_mask in enumerate(nan_masks): \n",
    "\n",
    "    if (nan_mask == False):\n",
    "        testPred_with_nan[i] = result_unscaled_reshape[num]\n",
    "        y_test_with_nan[i] = y_test_unscaled_reshape[num]\n",
    "        num = num + 1\n",
    "        \n",
    "print(num)"
   ]
  },
  {
   "cell_type": "code",
   "execution_count": 104,
   "id": "a7c301e2",
   "metadata": {
    "ExecuteTime": {
     "end_time": "2024-03-28T08:11:16.272185Z",
     "start_time": "2024-03-28T08:11:16.267193Z"
    }
   },
   "outputs": [
    {
     "name": "stdout",
     "output_type": "stream",
     "text": [
      "(12, 33, 280, 600) (12, 33, 280, 600)\n"
     ]
    }
   ],
   "source": [
    "testPred_with_nan = testPred_with_nan.reshape(280, 600,12,33)\n",
    "testPred_with_nan = np.transpose(testPred_with_nan,(2,3,0,1))\n",
    "\n",
    "y_test_with_nan = y_test_with_nan.reshape(280, 600,12,33)\n",
    "y_test_with_nan = np.transpose(y_test_with_nan,(2,3,0,1))\n",
    "\n",
    "print(testPred_with_nan.shape,y_test_with_nan.shape)"
   ]
  },
  {
   "cell_type": "markdown",
   "id": "b6dfa8f2",
   "metadata": {
    "ExecuteTime": {
     "end_time": "2023-10-06T13:07:37.341964Z",
     "start_time": "2023-10-06T13:07:37.302028Z"
    }
   },
   "source": [
    "# 结果可视化"
   ]
  },
  {
   "cell_type": "code",
   "execution_count": 105,
   "id": "347081c6",
   "metadata": {
    "ExecuteTime": {
     "end_time": "2024-03-28T08:11:18.965859Z",
     "start_time": "2024-03-28T08:11:18.962858Z"
    }
   },
   "outputs": [],
   "source": [
    "lat = []\n",
    "lon = []\n",
    "time = []\n",
    "lon.append(data_ssh['lon'][:].data)\n",
    "lat.append(data_ssh['lat'][:].data)"
   ]
  },
  {
   "cell_type": "code",
   "execution_count": 107,
   "id": "fa3a8f00",
   "metadata": {
    "ExecuteTime": {
     "end_time": "2024-03-28T08:11:21.576655Z",
     "start_time": "2024-03-28T08:11:21.571662Z"
    }
   },
   "outputs": [],
   "source": [
    "start_year = 2015\n",
    "end_year =2015\n",
    "time = []\n",
    "date_range = pd.date_range(datetime(start_year,1,1),datetime(end_year+1,1,1),freq='1M')\n",
    "len(date_range)\n",
    "for i in range(len(date_range)):\n",
    "    time.append(i)"
   ]
  },
  {
   "cell_type": "code",
   "execution_count": 109,
   "id": "a4751334",
   "metadata": {
    "ExecuteTime": {
     "end_time": "2024-03-28T08:14:07.506367Z",
     "start_time": "2024-03-28T08:14:06.012769Z"
    }
   },
   "outputs": [],
   "source": [
    "new_NC = nc.Dataset(\"D:/LSTM/result_sali_LSTM_5_2000m.nc\", 'w', format='NETCDF4')\n",
    "\n",
    "new_NC.createDimension('lat', len(lat[0]))\n",
    "new_NC.createDimension('lon', len(lon[0]))\n",
    "new_NC.createDimension('depth', 33)\n",
    "new_NC.createDimension('time', len(time))\n",
    "\n",
    "new_NC.createVariable('lat', 'f', (\"lat\"))\n",
    "new_NC.createVariable('lon', 'f', (\"lon\"))\n",
    "new_NC.createVariable('depth', 'f', (\"depth\"))\n",
    "new_NC.createVariable('true_ss', 'f',(\"time\",\"depth\",\"lat\",\"lon\"))\n",
    "new_NC.createVariable('pred_ss', 'f',(\"time\",\"depth\",\"lat\",\"lon\"))\n",
    "\n",
    "time_var = new_NC.createVariable('time', 'f4',(\"time\"))\n",
    "time_var.units = 'months since 2015-01-15'\n",
    "time_var.long_name = 'Months in Monthly Means'\n",
    "time_var.axis = 'T'\n",
    "\n",
    "new_NC.variables['lat'][:] = lat[0]\n",
    "new_NC.variables['lon'][:] = lon[0]\n",
    "new_NC.variables['time'][:] = np.array(time)\n",
    "new_NC.variables['depth'][:] = depth\n",
    "\n",
    "new_NC.variables['true_ss'][:]=np.array(y_test_with_nan)\n",
    "new_NC.variables['pred_ss'][:]=np.array(testPred_with_nan)\n",
    "\n",
    "new_NC.close()"
   ]
  }
 ],
 "metadata": {
  "kernelspec": {
   "display_name": "Python 3 (ipykernel)",
   "language": "python",
   "name": "python3"
  },
  "language_info": {
   "codemirror_mode": {
    "name": "ipython",
    "version": 3
   },
   "file_extension": ".py",
   "mimetype": "text/x-python",
   "name": "python",
   "nbconvert_exporter": "python",
   "pygments_lexer": "ipython3",
   "version": "3.9.20"
  },
  "toc": {
   "base_numbering": 1,
   "nav_menu": {},
   "number_sections": true,
   "sideBar": true,
   "skip_h1_title": false,
   "title_cell": "Table of Contents",
   "title_sidebar": "Contents",
   "toc_cell": false,
   "toc_position": {
    "height": "calc(100% - 180px)",
    "left": "10px",
    "top": "150px",
    "width": "244.4px"
   },
   "toc_section_display": true,
   "toc_window_display": true
  }
 },
 "nbformat": 4,
 "nbformat_minor": 5
}
